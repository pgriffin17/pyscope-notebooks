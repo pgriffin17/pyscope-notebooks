{
 "cells": [
  {
   "cell_type": "code",
   "execution_count": 1,
   "metadata": {},
   "outputs": [],
   "source": [
    "from pyscope.observatory import Observatory\n",
    "from astropy import coordinates as coord\n",
    "import logging\n",
    "import time\n",
    "import numpy as np\n",
    "import pathlib\n",
    "from IPython.display import display, clear_output\n",
    "\n",
    "# Set up logging\n",
    "logging.basicConfig(level=logging.DEBUG)\n",
    "\n",
    "# Set up after cell logging at debug level\n",
    "logger = logging.getLogger('pyscope')\n",
    "logger.setLevel(logging.DEBUG)"
   ]
  },
  {
   "cell_type": "code",
   "execution_count": 2,
   "metadata": {},
   "outputs": [],
   "source": [
    "logger.setLevel(logging.INFO)"
   ]
  },
  {
   "cell_type": "code",
   "execution_count": 3,
   "metadata": {},
   "outputs": [
    {
     "name": "stderr",
     "output_type": "stream",
     "text": [
      "INFO:pyscope.observatory.observatory:Using config file to initialize observatory: ./rlmt.cfg\n",
      "INFO:pyscope.observatory.observatory:Using MaxIm DL as the camera driver\n",
      "INFO:pyscope.observatory.observatory:Using MaxIm DL as the filter wheel driver\n",
      "INFO:pyscope.observatory.observatory:Using MaxIm DL as the WCS driver\n",
      "INFO:pyscope.observatory.observatory:CCD Temp Set to -65.63\n",
      "INFO:pyscope.observatory.observatory:Checking passed kwargs and overriding config file values\n",
      "INFO:pyscope.observatory.observatory:CCD Temp Set to -65.63\n",
      "INFO:pyscope.observatory.observatory:Camera connected\n",
      "INFO:pyscope.observatory.observatory:CCD Temp Set to -65.63\n",
      "INFO:pyscope.observatory.observatory:Filter wheel connected\n",
      "INFO:pyscope.observatory.observatory:Focuser connected\n",
      "INFO:pyscope.observatory.observatory:Observing conditions connected\n",
      "INFO:pyscope.observatory.observatory:Telescope connected\n"
     ]
    },
    {
     "name": "stdout",
     "output_type": "stream",
     "text": [
      "Turning cooler on\n"
     ]
    },
    {
     "data": {
      "text/plain": [
       "True"
      ]
     },
     "execution_count": 3,
     "metadata": {},
     "output_type": "execute_result"
    }
   ],
   "source": [
    "rlmt = Observatory(config_path=\"./rlmt.cfg\")\n",
    "rlmt.connect_all()"
   ]
  },
  {
   "cell_type": "code",
   "execution_count": 38,
   "metadata": {},
   "outputs": [
    {
     "data": {
      "text/plain": [
       "True"
      ]
     },
     "execution_count": 38,
     "metadata": {},
     "output_type": "execute_result"
    }
   ],
   "source": [
    "# Start autofocus\n",
    "rlmt.focuser.Autofocus()"
   ]
  },
  {
   "cell_type": "markdown",
   "metadata": {},
   "source": [
    "# Center on object (run both cells below)"
   ]
  },
  {
   "cell_type": "code",
   "execution_count": 26,
   "metadata": {},
   "outputs": [],
   "source": [
    "save_dir = \"grism_images_2024-04-17\"\n",
    "# Make the save directory if it doesn't exist\n",
    "pathlib.Path(save_dir).mkdir(parents=True, exist_ok=True)\n",
    "\n",
    "def capture_grism_image(filter_name, object_name, exp_time=5, filename_prefix=\"focus\", binning=1):\n",
    "    # # Set binning\n",
    "    rlmt.camera.BinX = binning\n",
    "    rlmt.camera.BinY = binning\n",
    "\n",
    "    # # Start exposure\n",
    "    print(f\"Starting {int(exp_time)}s exposure...\")\n",
    "    rlmt.camera.StartExposure(exp_time, True)\n",
    "    \n",
    "    # Set up image base filename\n",
    "    exp_time_str = str(exp_time).replace(\".\", \"p\")\n",
    "    filename_base = f\"{filename_prefix}_{object_name}_{exp_time_str}s_{filter_name}\"\n",
    "    # Remove spaces from filename\n",
    "    filename_base = filename_base.replace(\" \", \"_\")\n",
    "    # Check if file exists in save_dir\n",
    "    i = 0\n",
    "    filename = pathlib.Path(save_dir) / f\"{filename_base}_{i}.fts\"\n",
    "    # print(f\"Checking if {filename} exists...\")\n",
    "    # print(f\"filename.exists() is {filename.exists()}\")\n",
    "    while filename.exists():\n",
    "        # If file exists, add a number to the end of the filename\n",
    "        i += 1\n",
    "        # print(f\"{filename} does exist\")\n",
    "        filename = pathlib.Path(save_dir) / f\"{filename_base}_{i}.fts\"\n",
    "        # print(f\"Checking if {filename} exists...\")\n",
    "\n",
    "    # Save latest image\n",
    "    while not rlmt.camera.ImageReady:\n",
    "        time.sleep(0.1)\n",
    "    time.sleep(0.1)\n",
    "    rlmt.save_last_image(filename, \"Light\", overwrite=True)\n",
    "\n",
    "    return filename"
   ]
  },
  {
   "cell_type": "code",
   "execution_count": 36,
   "metadata": {},
   "outputs": [
    {
     "name": "stdout",
     "output_type": "stream",
     "text": [
      "RA: hms_tuple(h=12.0, m=10.0, s=32.575981387202546),\n",
      "Dec: dms_tuple(d=39.0, m=24.0, s=21.063527532010653)\n",
      "<SkyCoord (ICRS): (ra, dec) in deg\n",
      "    (182.63573326, 39.40585098)>\n",
      "Elevation: 79.05, Azimuth: 43.33\n",
      "Elevation dms: dms_tuple(d=79.0, m=3.0, s=7.296091224396832), \n",
      "Azimuth dms: dms_tuple(d=43.0, m=19.0, s=44.11654127005477)\n"
     ]
    }
   ],
   "source": [
    "# Get more on NGC4151 (120s in Ha grism)\n",
    "object_name = \"NGC4151\" # Change name here\n",
    "#src = coord.SkyCoord(\"19h21m09.2835s -03d44m26.2962s\", frame='icrs')\n",
    "src = coord.SkyCoord.from_name(object_name)\n",
    "print(f\"RA: {src.ra.hms},\\nDec: {src.dec.dms}\")\n",
    "print(src)\n",
    "# Print alt az of source\n",
    "src_altaz = rlmt.get_object_altaz(src)\n",
    "print(f\"Elevation: {src_altaz.alt.deg:.2f}, Azimuth: {src_altaz.az.deg:.2f}\")\n",
    "print(f\"Elevation dms: {src_altaz.alt.dms}, \\nAzimuth dms: {src_altaz.az.dms}\")\n",
    "if src_altaz.alt.deg < 30:\n",
    "    raise Exception(\"Source is too low to observe.\")\n",
    " \n",
    "# tete_coords = src.transform_to(coord.TETE(obstime = rlmt.observatory_time, location=rlmt.observatory_location))\n",
    "# print(tete_coords)\n",
    "# print(f\"RA: {tete_coords.ra.hms},\\nDec: {tete_coords.dec.dms}\")"
   ]
  },
  {
   "cell_type": "code",
   "execution_count": 37,
   "metadata": {},
   "outputs": [
    {
     "name": "stderr",
     "output_type": "stream",
     "text": [
      "INFO:pyscope.observatory.observatory:Attempt 1 of 5\n",
      "INFO:pyscope.observatory.observatory:Slewing to RA hms_tuple(h=12.0, m=10.0, s=32.57598138720894) and Dec dms_tuple(d=39.0, m=24.0, s=21.063527532010653)\n",
      "INFO:pyscope.observatory.observatory:Turning on sidereal tracking...\n",
      "INFO:pyscope.observatory.observatory:Sidereal tracking is on.\n",
      "INFO:pyscope.observatory.observatory:Attempting to slew to coordinates...\n",
      "INFO:pyscope.observatory.observatory:Slewing to RA 12.19658 and Dec 39.27116\n",
      "INFO:pyscope.observatory.observatory:Settling for 3.00 seconds...\n",
      "INFO:pyscope.observatory.observatory:Settling for 3.00 seconds\n",
      "INFO:pyscope.observatory.observatory:Taking 3.00 second exposure\n",
      "INFO:pyscope.observatory.observatory:Exposure complete\n",
      "INFO:pyscope.observatory.observatory:Using Maxim to save image\n",
      "INFO:pyscope.observatory.observatory:Overwrite allowed for header keys ['AIRMASS', 'OBJECT', 'TELESCOP', 'INSTRUME', 'OBSERVER']\n",
      "INFO:pyscope.observatory.observatory:Getting header from MaxIm image\n",
      "INFO:pyscope.observatory.observatory:Searching for a WCS solution...\n",
      "INFO:pyscope.observatory.observatory:Saving the centering image to ./recenter_images/\n",
      "INFO:pyscope.observatory.observatory:Using Maxim to save image\n",
      "INFO:pyscope.observatory.observatory:Overwrite allowed for header keys ['AIRMASS', 'OBJECT', 'TELESCOP', 'INSTRUME', 'OBSERVER']\n",
      "INFO:pyscope.observatory.observatory:Getting header from MaxIm image\n",
      "INFO:pyscope.observatory.observatory:Using Maxim to save image\n",
      "INFO:pyscope.observatory.observatory:Overwrite allowed for header keys ['AIRMASS', 'OBJECT', 'TELESCOP', 'INSTRUME', 'OBSERVER']\n",
      "INFO:pyscope.observatory.observatory:Getting header from MaxIm image\n",
      "INFO:pyscope.observatory.observatory:WCS solution found, solving for the pixel location of the target\n",
      "INFO:pyscope.observatory.observatory:Error in RA is 134.20 arcseconds\n",
      "INFO:pyscope.observatory.observatory:Error in Dec is -163.03 arcseconds\n",
      "INFO:pyscope.observatory.observatory:Error in x pixels is -115.30\n",
      "INFO:pyscope.observatory.observatory:Error in y pixels is 208.77\n",
      "INFO:pyscope.observatory.observatory:Offsetting next slew coordinates\n",
      "INFO:pyscope.observatory.observatory:<SkyCoord (ICRS): (ra, dec) in deg\n",
      "    (182.67301001, 39.36056374)>\n",
      "INFO:pyscope.observatory.observatory:Attempt 2 of 5\n",
      "INFO:pyscope.observatory.observatory:Slewing to RA hms_tuple(h=12.0, m=10.0, s=41.52240203028157) and Dec dms_tuple(d=39.0, m=21.0, s=38.02946289894123)\n",
      "INFO:pyscope.observatory.observatory:Turning on sidereal tracking...\n",
      "INFO:pyscope.observatory.observatory:Sidereal tracking is on.\n",
      "INFO:pyscope.observatory.observatory:Attempting to slew to coordinates...\n",
      "INFO:pyscope.observatory.observatory:Slewing to RA 12.19906 and Dec 39.22587\n",
      "INFO:pyscope.observatory.observatory:Settling for 3.00 seconds...\n",
      "INFO:pyscope.observatory.observatory:Settling for 3.00 seconds\n",
      "INFO:pyscope.observatory.observatory:Taking 3.00 second exposure\n",
      "INFO:pyscope.observatory.observatory:Exposure complete\n",
      "INFO:pyscope.observatory.observatory:Using Maxim to save image\n",
      "INFO:pyscope.observatory.observatory:Overwrite allowed for header keys ['AIRMASS', 'OBJECT', 'TELESCOP', 'INSTRUME', 'OBSERVER']\n",
      "INFO:pyscope.observatory.observatory:Getting header from MaxIm image\n",
      "INFO:pyscope.observatory.observatory:Searching for a WCS solution...\n",
      "INFO:pyscope.observatory.observatory:Saving the centering image to ./recenter_images/\n",
      "INFO:pyscope.observatory.observatory:Using Maxim to save image\n",
      "INFO:pyscope.observatory.observatory:Overwrite allowed for header keys ['AIRMASS', 'OBJECT', 'TELESCOP', 'INSTRUME', 'OBSERVER']\n",
      "INFO:pyscope.observatory.observatory:Getting header from MaxIm image\n",
      "INFO:pyscope.observatory.observatory:Using Maxim to save image\n",
      "INFO:pyscope.observatory.observatory:Overwrite allowed for header keys ['AIRMASS', 'OBJECT', 'TELESCOP', 'INSTRUME', 'OBSERVER']\n",
      "INFO:pyscope.observatory.observatory:Getting header from MaxIm image\n",
      "INFO:pyscope.observatory.observatory:WCS solution found, solving for the pixel location of the target\n",
      "INFO:pyscope.observatory.observatory:Error in RA is -0.28 arcseconds\n",
      "INFO:pyscope.observatory.observatory:Error in Dec is -0.41 arcseconds\n",
      "INFO:pyscope.observatory.observatory:Error in x pixels is 0.29\n",
      "INFO:pyscope.observatory.observatory:Error in y pixels is 0.49\n",
      "INFO:pyscope.observatory.observatory:Target is now in position after 2 attempts\n"
     ]
    },
    {
     "data": {
      "text/plain": [
       "True"
      ]
     },
     "execution_count": 37,
     "metadata": {},
     "output_type": "execute_result"
    }
   ],
   "source": [
    "# Set to g filter\n",
    "rlmt.filter_wheel.Position = 3\n",
    "time.sleep(3)\n",
    "while rlmt.focuser.IsMoving:\n",
    "    time.sleep(0.5)\n",
    "\n",
    "# Run recentering algorithm\n",
    "if src_altaz.alt.deg < 30:\n",
    "    raise Exception(\"Source is too low to observe.\")\n",
    "rlmt.recenter(src, \n",
    "    target_x_pixel=1024, # TODO: make default center of sensor in each axis\n",
    "    target_y_pixel=1024,\n",
    "    exposure=3, \n",
    "    save_images=True,\n",
    "    save_path=\"./recenter_images/\",\n",
    "    readout=2,\n",
    ")"
   ]
  },
  {
   "cell_type": "markdown",
   "metadata": {},
   "source": [
    "Below cell runs a series of images (and saves them)"
   ]
  },
  {
   "cell_type": "markdown",
   "metadata": {},
   "source": [
    "On A66 39, do mostly OIII 120s, IRG 15s each"
   ]
  },
  {
   "cell_type": "markdown",
   "metadata": {},
   "source": [
    "NGC 6045 IRG 60s, maybe Ha 180s"
   ]
  },
  {
   "cell_type": "code",
   "execution_count": null,
   "metadata": {},
   "outputs": [],
   "source": []
  },
  {
   "cell_type": "code",
   "execution_count": 39,
   "metadata": {},
   "outputs": [
    {
     "name": "stdout",
     "output_type": "stream",
     "text": [
      "Starting 15s exposure...\n"
     ]
    },
    {
     "name": "stderr",
     "output_type": "stream",
     "text": [
      "INFO:pyscope.observatory.observatory:Using Maxim to save image\n",
      "INFO:pyscope.observatory.observatory:Overwrite allowed for header keys ['AIRMASS', 'OBJECT', 'TELESCOP', 'INSTRUME', 'OBSERVER']\n",
      "INFO:pyscope.observatory.observatory:Getting header from MaxIm image\n"
     ]
    },
    {
     "name": "stdout",
     "output_type": "stream",
     "text": [
      "Starting 15s exposure...\n"
     ]
    },
    {
     "name": "stderr",
     "output_type": "stream",
     "text": [
      "INFO:pyscope.observatory.observatory:Using Maxim to save image\n",
      "INFO:pyscope.observatory.observatory:Overwrite allowed for header keys ['AIRMASS', 'OBJECT', 'TELESCOP', 'INSTRUME', 'OBSERVER']\n",
      "INFO:pyscope.observatory.observatory:Getting header from MaxIm image\n"
     ]
    },
    {
     "name": "stdout",
     "output_type": "stream",
     "text": [
      "Starting 15s exposure...\n"
     ]
    },
    {
     "name": "stderr",
     "output_type": "stream",
     "text": [
      "INFO:pyscope.observatory.observatory:Using Maxim to save image\n",
      "INFO:pyscope.observatory.observatory:Overwrite allowed for header keys ['AIRMASS', 'OBJECT', 'TELESCOP', 'INSTRUME', 'OBSERVER']\n",
      "INFO:pyscope.observatory.observatory:Getting header from MaxIm image\n"
     ]
    },
    {
     "name": "stdout",
     "output_type": "stream",
     "text": [
      "Starting 15s exposure...\n"
     ]
    },
    {
     "name": "stderr",
     "output_type": "stream",
     "text": [
      "INFO:pyscope.observatory.observatory:Using Maxim to save image\n",
      "INFO:pyscope.observatory.observatory:Overwrite allowed for header keys ['AIRMASS', 'OBJECT', 'TELESCOP', 'INSTRUME', 'OBSERVER']\n",
      "INFO:pyscope.observatory.observatory:Getting header from MaxIm image\n"
     ]
    },
    {
     "name": "stdout",
     "output_type": "stream",
     "text": [
      "Starting 15s exposure...\n"
     ]
    },
    {
     "name": "stderr",
     "output_type": "stream",
     "text": [
      "INFO:pyscope.observatory.observatory:Using Maxim to save image\n",
      "INFO:pyscope.observatory.observatory:Overwrite allowed for header keys ['AIRMASS', 'OBJECT', 'TELESCOP', 'INSTRUME', 'OBSERVER']\n",
      "INFO:pyscope.observatory.observatory:Getting header from MaxIm image\n"
     ]
    },
    {
     "name": "stdout",
     "output_type": "stream",
     "text": [
      "Starting 15s exposure...\n"
     ]
    },
    {
     "name": "stderr",
     "output_type": "stream",
     "text": [
      "INFO:pyscope.observatory.observatory:Using Maxim to save image\n",
      "INFO:pyscope.observatory.observatory:Overwrite allowed for header keys ['AIRMASS', 'OBJECT', 'TELESCOP', 'INSTRUME', 'OBSERVER']\n",
      "INFO:pyscope.observatory.observatory:Getting header from MaxIm image\n"
     ]
    },
    {
     "name": "stdout",
     "output_type": "stream",
     "text": [
      "Starting 15s exposure...\n"
     ]
    },
    {
     "name": "stderr",
     "output_type": "stream",
     "text": [
      "INFO:pyscope.observatory.observatory:Using Maxim to save image\n",
      "INFO:pyscope.observatory.observatory:Overwrite allowed for header keys ['AIRMASS', 'OBJECT', 'TELESCOP', 'INSTRUME', 'OBSERVER']\n",
      "INFO:pyscope.observatory.observatory:Getting header from MaxIm image\n"
     ]
    },
    {
     "name": "stdout",
     "output_type": "stream",
     "text": [
      "Starting 15s exposure...\n"
     ]
    },
    {
     "name": "stderr",
     "output_type": "stream",
     "text": [
      "INFO:pyscope.observatory.observatory:Using Maxim to save image\n",
      "INFO:pyscope.observatory.observatory:Overwrite allowed for header keys ['AIRMASS', 'OBJECT', 'TELESCOP', 'INSTRUME', 'OBSERVER']\n",
      "INFO:pyscope.observatory.observatory:Getting header from MaxIm image\n"
     ]
    },
    {
     "name": "stdout",
     "output_type": "stream",
     "text": [
      "Starting 15s exposure...\n"
     ]
    },
    {
     "name": "stderr",
     "output_type": "stream",
     "text": [
      "INFO:pyscope.observatory.observatory:Using Maxim to save image\n",
      "INFO:pyscope.observatory.observatory:Overwrite allowed for header keys ['AIRMASS', 'OBJECT', 'TELESCOP', 'INSTRUME', 'OBSERVER']\n",
      "INFO:pyscope.observatory.observatory:Getting header from MaxIm image\n"
     ]
    },
    {
     "name": "stdout",
     "output_type": "stream",
     "text": [
      "Starting 15s exposure...\n"
     ]
    },
    {
     "name": "stderr",
     "output_type": "stream",
     "text": [
      "INFO:pyscope.observatory.observatory:Using Maxim to save image\n",
      "INFO:pyscope.observatory.observatory:Overwrite allowed for header keys ['AIRMASS', 'OBJECT', 'TELESCOP', 'INSTRUME', 'OBSERVER']\n",
      "INFO:pyscope.observatory.observatory:Getting header from MaxIm image\n"
     ]
    },
    {
     "name": "stdout",
     "output_type": "stream",
     "text": [
      "Starting 60s exposure...\n"
     ]
    },
    {
     "name": "stderr",
     "output_type": "stream",
     "text": [
      "INFO:pyscope.observatory.observatory:Using Maxim to save image\n",
      "INFO:pyscope.observatory.observatory:Overwrite allowed for header keys ['AIRMASS', 'OBJECT', 'TELESCOP', 'INSTRUME', 'OBSERVER']\n",
      "INFO:pyscope.observatory.observatory:Getting header from MaxIm image\n"
     ]
    },
    {
     "name": "stdout",
     "output_type": "stream",
     "text": [
      "Starting 60s exposure...\n"
     ]
    },
    {
     "name": "stderr",
     "output_type": "stream",
     "text": [
      "INFO:pyscope.observatory.observatory:Using Maxim to save image\n",
      "INFO:pyscope.observatory.observatory:Overwrite allowed for header keys ['AIRMASS', 'OBJECT', 'TELESCOP', 'INSTRUME', 'OBSERVER']\n",
      "INFO:pyscope.observatory.observatory:Getting header from MaxIm image\n"
     ]
    },
    {
     "name": "stdout",
     "output_type": "stream",
     "text": [
      "Starting 60s exposure...\n"
     ]
    },
    {
     "name": "stderr",
     "output_type": "stream",
     "text": [
      "INFO:pyscope.observatory.observatory:Using Maxim to save image\n",
      "INFO:pyscope.observatory.observatory:Overwrite allowed for header keys ['AIRMASS', 'OBJECT', 'TELESCOP', 'INSTRUME', 'OBSERVER']\n",
      "INFO:pyscope.observatory.observatory:Getting header from MaxIm image\n"
     ]
    },
    {
     "name": "stdout",
     "output_type": "stream",
     "text": [
      "Starting 60s exposure...\n"
     ]
    },
    {
     "name": "stderr",
     "output_type": "stream",
     "text": [
      "INFO:pyscope.observatory.observatory:Using Maxim to save image\n",
      "INFO:pyscope.observatory.observatory:Overwrite allowed for header keys ['AIRMASS', 'OBJECT', 'TELESCOP', 'INSTRUME', 'OBSERVER']\n",
      "INFO:pyscope.observatory.observatory:Getting header from MaxIm image\n"
     ]
    },
    {
     "name": "stdout",
     "output_type": "stream",
     "text": [
      "Starting 120s exposure...\n"
     ]
    },
    {
     "name": "stderr",
     "output_type": "stream",
     "text": [
      "INFO:pyscope.observatory.observatory:Using Maxim to save image\n",
      "INFO:pyscope.observatory.observatory:Overwrite allowed for header keys ['AIRMASS', 'OBJECT', 'TELESCOP', 'INSTRUME', 'OBSERVER']\n",
      "INFO:pyscope.observatory.observatory:Getting header from MaxIm image\n"
     ]
    },
    {
     "name": "stdout",
     "output_type": "stream",
     "text": [
      "Starting 120s exposure...\n"
     ]
    },
    {
     "name": "stderr",
     "output_type": "stream",
     "text": [
      "INFO:pyscope.observatory.observatory:Using Maxim to save image\n",
      "INFO:pyscope.observatory.observatory:Overwrite allowed for header keys ['AIRMASS', 'OBJECT', 'TELESCOP', 'INSTRUME', 'OBSERVER']\n",
      "INFO:pyscope.observatory.observatory:Getting header from MaxIm image\n"
     ]
    },
    {
     "name": "stdout",
     "output_type": "stream",
     "text": [
      "Starting 120s exposure...\n"
     ]
    },
    {
     "name": "stderr",
     "output_type": "stream",
     "text": [
      "INFO:pyscope.observatory.observatory:Using Maxim to save image\n",
      "INFO:pyscope.observatory.observatory:Overwrite allowed for header keys ['AIRMASS', 'OBJECT', 'TELESCOP', 'INSTRUME', 'OBSERVER']\n",
      "INFO:pyscope.observatory.observatory:Getting header from MaxIm image\n",
      "INFO:pyscope.observatory.observatory:Using Maxim to save image\n"
     ]
    },
    {
     "name": "stdout",
     "output_type": "stream",
     "text": [
      "Starting 120s exposure...\n"
     ]
    },
    {
     "name": "stderr",
     "output_type": "stream",
     "text": [
      "INFO:pyscope.observatory.observatory:Overwrite allowed for header keys ['AIRMASS', 'OBJECT', 'TELESCOP', 'INSTRUME', 'OBSERVER']\n",
      "INFO:pyscope.observatory.observatory:Getting header from MaxIm image\n"
     ]
    },
    {
     "name": "stdout",
     "output_type": "stream",
     "text": [
      "Starting 120s exposure...\n"
     ]
    },
    {
     "name": "stderr",
     "output_type": "stream",
     "text": [
      "INFO:pyscope.observatory.observatory:Using Maxim to save image\n",
      "INFO:pyscope.observatory.observatory:Overwrite allowed for header keys ['AIRMASS', 'OBJECT', 'TELESCOP', 'INSTRUME', 'OBSERVER']\n",
      "INFO:pyscope.observatory.observatory:Getting header from MaxIm image\n",
      "INFO:pyscope.observatory.observatory:Using Maxim to save image\n"
     ]
    },
    {
     "name": "stdout",
     "output_type": "stream",
     "text": [
      "Starting 120s exposure...\n"
     ]
    },
    {
     "name": "stderr",
     "output_type": "stream",
     "text": [
      "INFO:pyscope.observatory.observatory:Overwrite allowed for header keys ['AIRMASS', 'OBJECT', 'TELESCOP', 'INSTRUME', 'OBSERVER']\n",
      "INFO:pyscope.observatory.observatory:Getting header from MaxIm image\n",
      "INFO:pyscope.observatory.observatory:Using Maxim to save image\n"
     ]
    },
    {
     "name": "stdout",
     "output_type": "stream",
     "text": [
      "Starting 120s exposure...\n"
     ]
    },
    {
     "name": "stderr",
     "output_type": "stream",
     "text": [
      "INFO:pyscope.observatory.observatory:Overwrite allowed for header keys ['AIRMASS', 'OBJECT', 'TELESCOP', 'INSTRUME', 'OBSERVER']\n",
      "INFO:pyscope.observatory.observatory:Getting header from MaxIm image\n"
     ]
    },
    {
     "name": "stdout",
     "output_type": "stream",
     "text": [
      "Starting 120s exposure...\n"
     ]
    },
    {
     "name": "stderr",
     "output_type": "stream",
     "text": [
      "INFO:pyscope.observatory.observatory:Using Maxim to save image\n",
      "INFO:pyscope.observatory.observatory:Overwrite allowed for header keys ['AIRMASS', 'OBJECT', 'TELESCOP', 'INSTRUME', 'OBSERVER']\n",
      "INFO:pyscope.observatory.observatory:Getting header from MaxIm image\n"
     ]
    }
   ],
   "source": [
    "filter_positions = {\n",
    "\"LowRes\": 0,\n",
    "\"HighRes\": 4,\n",
    "\"g\": 2,\n",
    "\"r\": 3,\n",
    "}\n",
    "\n",
    "filter_name = \"r\"\n",
    "rlmt.filter_wheel.Position = filter_positions[filter_name]\n",
    "# If focuser is moving, wait for it to finish\n",
    "time.sleep(3) # Should only happen if moving from grism to filter or vice versa\n",
    "while rlmt.focuser.IsMoving:\n",
    "    time.sleep(.5)\n",
    "exp_time = 15 # in seconds\n",
    "num_images = 5\n",
    "\n",
    "for i in range(num_images):\n",
    "    capture_grism_image(filter_name, object_name, exp_time=exp_time, filename_prefix=\"PHYS440\")\n",
    "\n",
    "filter_name = \"g\"\n",
    "rlmt.filter_wheel.Position = filter_positions[filter_name]\n",
    "# If focuser is moving, wait for it to finish\n",
    "time.sleep(3) # Should only happen if moving from grism to filter or vice versa\n",
    "while rlmt.focuser.IsMoving:\n",
    "    time.sleep(.5)\n",
    "exp_time = 15 # in seconds\n",
    "num_images = 5\n",
    "\n",
    "for i in range(num_images):\n",
    "    capture_grism_image(filter_name, object_name, exp_time=exp_time, filename_prefix=\"PHYS440\")\n",
    "\n",
    "filter_name = \"LowRes\"\n",
    "rlmt.filter_wheel.Position = filter_positions[filter_name]\n",
    "# If focuser is moving, wait for it to finish\n",
    "time.sleep(3)\n",
    "while rlmt.focuser.IsMoving:\n",
    "    time.sleep(.5)\n",
    "exp_time = 60 # in seconds\n",
    "num_images = 4\n",
    "\n",
    "for i in range(num_images):\n",
    "    capture_grism_image(filter_name, object_name, exp_time=exp_time, filename_prefix=\"PHYS440\")\n",
    "\n",
    "filter_name = \"HighRes\"\n",
    "rlmt.filter_wheel.Position = filter_positions[filter_name]\n",
    "# If focuser is moving, wait for it to finish\n",
    "time.sleep(3)\n",
    "while rlmt.focuser.IsMoving: \n",
    "    time.sleep(.5)\n",
    "exp_time = 120 # in seconds\n",
    "num_images = 8\n",
    "\n",
    "for i in range(num_images):\n",
    "    capture_grism_image(filter_name, object_name, exp_time=exp_time, filename_prefix=\"PHYS440\")"
   ]
  },
  {
   "cell_type": "markdown",
   "metadata": {},
   "source": [
    "# Setup for Focus position movement"
   ]
  },
  {
   "cell_type": "markdown",
   "metadata": {},
   "source": [
    "### Change values in cell below"
   ]
  },
  {
   "cell_type": "code",
   "execution_count": 5,
   "metadata": {},
   "outputs": [
    {
     "name": "stderr",
     "output_type": "stream",
     "text": [
      "DEBUG:pyscope.observatory.observatory:Observatory.filter_wheel property called\n",
      "DEBUG:pyscope.observatory.maxim:Position setter called with value=4\n",
      "DEBUG:pyscope.observatory.observatory:Observatory.filter_wheel property called\n",
      "DEBUG:pyscope.observatory.maxim:_MaximFilterWheelPosition called\n"
     ]
    },
    {
     "name": "stdout",
     "output_type": "stream",
     "text": [
      "Focus positions are [3000], there are 1 positions\n",
      "Filter wheel is at (or moving to) position 4\n"
     ]
    }
   ],
   "source": [
    "# Image save directory\n",
    "save_dir = \"focus_images_weather_test\"\n",
    "# Make the save directory if it doesn't exist\n",
    "pathlib.Path(save_dir).mkdir(parents=True, exist_ok=True)\n",
    "\n",
    "# Set up focuser position list\n",
    "# Start at min, end at max, step by focus_step\n",
    "min_focus = 3000\n",
    "max_focus = 3250\n",
    "focus_step = 250\n",
    "\n",
    "# Filter positions DO NOT CHANGE\n",
    "filter_positions = {\n",
    "    \"LowRes\": 0,\n",
    "    \"HighRes\": 4,\n",
    "    \"g\": 2,\n",
    "}\n",
    "\n",
    "# Camera and filter wheel settings (use filter names from above)\n",
    "num_images = 1 # Images at each focus position\n",
    "exp_time = 0.1\n",
    "filter_name = \"HighRes\" # This is the filter that will be used\n",
    "\n",
    "# Move filter wheel to position\n",
    "rlmt.filter_wheel.Position = filter_positions[filter_name]\n",
    "\n",
    "# Print for verification\n",
    "focus_positions = np.arange(min_focus, max_focus, focus_step)\n",
    "print(f\"Focus positions are {focus_positions}, there are {len(focus_positions)} positions\")\n",
    "print(f\"Filter wheel is at (or moving to) position {rlmt.filter_wheel.Position}\")"
   ]
  },
  {
   "cell_type": "code",
   "execution_count": 4,
   "metadata": {},
   "outputs": [],
   "source": [
    "def capture_focus_image(focus_position, filter_name, exp_time=5, filename_prefix=\"focus\", binning=1):\n",
    "    # # Set binning\n",
    "    rlmt.camera.BinX = binning\n",
    "    rlmt.camera.BinY = binning\n",
    "\n",
    "    # # Start exposure\n",
    "    print(f\"Starting {int(exp_time)}s exposure...\")\n",
    "    rlmt.camera.StartExposure(int(exp_time), True)\n",
    "    \n",
    "    # Set up image base filename\n",
    "    exp_time_str = str(exp_time).replace(\".\", \"p\")\n",
    "    filename_base = f\"{filename_prefix}_{focus_position}_{exp_time_str}s_{filter_name}\"\n",
    "    # Check if file exists in save_dir\n",
    "    i = 0\n",
    "    filename = pathlib.Path(save_dir) / f\"{filename_base}_{i}.fts\"\n",
    "    # print(f\"Checking if {filename} exists...\")\n",
    "    # print(f\"filename.exists() is {filename.exists()}\")\n",
    "    while filename.exists():\n",
    "        # If file exists, add a number to the end of the filename\n",
    "        i += 1\n",
    "        # print(f\"{filename} does exist\")\n",
    "        filename = pathlib.Path(save_dir) / f\"{filename_base}_{i}.fts\"\n",
    "        # print(f\"Checking if {filename} exists...\")\n",
    "\n",
    "    # Save latest image\n",
    "    while not rlmt.camera.ImageReady:\n",
    "        time.sleep(0.1)\n",
    "    time.sleep(0.1)\n",
    "    rlmt.save_last_image(filename, \"Light\", overwrite=True)\n",
    "\n",
    "    return filename"
   ]
  },
  {
   "cell_type": "code",
   "execution_count": 7,
   "metadata": {},
   "outputs": [],
   "source": [
    "# Focus at each position\n",
    "focus_move_time = 15\n",
    "img_download_time = 6\n",
    "focus_image_time = exp_time + img_download_time\n",
    "\n",
    "# Estimate total time required\n",
    "total_time = (\n",
    "    focus_move_time * len(focus_positions)\n",
    ") + focus_image_time * num_images * len(focus_positions)\n",
    "print(f\"Estimated total time required is {total_time/60} minutes\")\n",
    "\n",
    "time_per_cycle = []\n",
    "\n",
    "for focus_position in focus_positions:\n",
    "    if time_per_cycle:\n",
    "        print(f\"Average time per cycle is {np.mean(time_per_cycle):.2f} seconds\")\n",
    "        est_time_remaining = np.mean(tflatsime_per_cycle) * (\n",
    "            len(focus_positions) - np.where(focus_positions == focus_position)[0][0]\n",
    "        )\n",
    "        # Print time remaining in minutes and seconds\n",
    "        print(\n",
    "            f\"Estimated time remaining is {est_time_remaining//60:.0f} min {est_time_remaining%60:.0f} sec\"\n",
    "        )\n",
    "    start_time = time.time()\n",
    "    print(f\"Moving to focus position {focus_position}\")\n",
    "\n",
    "    print(\n",
    "        f\"This is position {np.where(focus_positions == focus_position)[0][0]+1} of {len(focus_positions)}\"\n",
    "    )\n",
    "    rlmt.focuser.Move(focus_position)\n",
    "    while rlmt.focuser.IsMoving:\n",
    "        #print(f\"Focuser is moving to {focus_positions[0]}\")\n",
    "        time.sleep(0.1)\n",
    "    #current_focus = int(rlmt.focuser.Position)\n",
    "    current_focus = focus_position\n",
    "    print(f\"Focus position is {current_focus}\")\n",
    "    print(\"========================================\")\n",
    "\n",
    "    current_exp_time = exp_time\n",
    "    print(f\"current_exp_time={current_exp_time}\")\n",
    "\n",
    "    for i in range(num_images):\n",
    "        img_file = capture_focus_image(current_focus, filter_name, exp_time=current_exp_time, filename_prefix=\"focus\", binning=1)\n",
    "        print(f\"Saved image {i} at focus position {current_focus}\")\n",
    "\n",
    "    end_time = time.time()\n",
    "    time_per_cycle.append(end_time - start_time)\n",
    "\n",
    "    # Clear cell output for next loop\n",
    "    clear_output()"
   ]
  },
  {
   "cell_type": "code",
   "execution_count": null,
   "metadata": {},
   "outputs": [],
   "source": []
  }
 ],
 "metadata": {
  "kernelspec": {
   "display_name": "pyscope-dev",
   "language": "python",
   "name": "python3"
  },
  "language_info": {
   "codemirror_mode": {
    "name": "ipython",
    "version": 3
   },
   "file_extension": ".py",
   "mimetype": "text/x-python",
   "name": "python",
   "nbconvert_exporter": "python",
   "pygments_lexer": "ipython3",
   "version": "3.12.2"
  }
 },
 "nbformat": 4,
 "nbformat_minor": 2
}
