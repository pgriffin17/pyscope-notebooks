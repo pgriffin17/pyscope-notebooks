{
 "cells": [
  {
   "cell_type": "code",
   "execution_count": 1,
   "metadata": {},
   "outputs": [],
   "source": [
    "from pyscope.observatory import Observatory\n",
    "from pyscope.telrun import mk_mosaic_schedule, schedtel\n",
    "from astropy import coordinates as coord\n",
    "import logging\n",
    "import time\n",
    "import numpy as np\n",
    "import pathlib\n",
    "from IPython.display import display, clear_output\n",
    "\n",
    "# Set up logging\n",
    "logging.basicConfig(level=logging.DEBUG)\n",
    "\n",
    "# Set up after cell logging at debug level\n",
    "logger = logging.getLogger('pyscope')\n",
    "logger.setLevel(logging.DEBUG)"
   ]
  },
  {
   "cell_type": "code",
   "execution_count": 2,
   "metadata": {},
   "outputs": [],
   "source": [
    "logger.setLevel(logging.INFO)"
   ]
  },
  {
   "cell_type": "code",
   "execution_count": null,
   "metadata": {},
   "outputs": [],
   "source": [
    "blocks = mk_mosaic_schedule('NGC2174', ('g','r'), [30,30], ('Philip', 'XPG'), overlap=5, grid_size=(2,2), n_exp=5, readout=2)"
   ]
  },
  {
   "cell_type": "markdown",
   "metadata": {},
   "source": [
    "Get coordinates from mosaic tool on [Telescopius](https://www.telescopius.com), copy as CSV and paste into cell below."
   ]
  },
  {
   "cell_type": "code",
   "execution_count": 8,
   "metadata": {},
   "outputs": [
    {
     "name": "stdout",
     "output_type": "stream",
     "text": [
      " Pane       RA           DEC      Position Angle (East) Pane width (arcmins) Pane height (arcmins) Overlap Row Column               SkyCoord             \n",
      "                                                                                                                                    deg,deg              \n",
      "------ ------------ ------------- --------------------- -------------------- --------------------- ------- --- ------ -----------------------------------\n",
      "Pane 1 06hr 10' 39\" 20deg 44' 41\"                   4.0                 27.0                  27.0     18%   1      1          92.6625,20.744722222222222\n",
      "Pane 2 06hr 09' 05\" 20deg 46' 13\"                   4.0                 27.0                  27.0     18%   1      2 92.27083333333333,20.77027777777778\n",
      "Pane 3 06hr 10' 33\" 20deg 22' 35\"                   4.0                 27.0                  27.0     18%   2      1 92.63749999999999,20.37638888888889\n",
      "Pane 4 06hr 08' 58\" 20deg 24' 08\"                   4.0                 27.0                  27.0     18%   2      2 92.24166666666666,20.40222222222222\n"
     ]
    }
   ],
   "source": [
    "NGC2174_coordinates = '''Pane, RA, DEC, Position Angle (East), Pane width (arcmins), Pane height (arcmins), Overlap, Row, Column\n",
    "Center, 06hr 09' 49\", 20º 34' 25\", 4.00, 27.00, 27.00, 18%, -, -\n",
    "Pane 1, 06hr 10' 39\", 20º 44' 41\", 4.00, 27.00, 27.00, 18%, 1, 1\n",
    "Pane 2, 06hr 09' 05\", 20º 46' 13\", 4.00, 27.00, 27.00, 18%, 1, 2\n",
    "Pane 3, 06hr 10' 33\", 20º 22' 35\", 4.00, 27.00, 27.00, 18%, 2, 1\n",
    "Pane 4, 06hr 08' 58\", 20º 24' 08\", 4.00, 27.00, 27.00, 18%, 2, 2\n",
    "'''.replace('º', 'deg')\n",
    "\n",
    "# Load csv from string into table\n",
    "from astropy.table import Table\n",
    "NGC2174_table = Table.read(NGC2174_coordinates, format='ascii.csv')\n",
    "#print(NGC2174_table)\n",
    "# Remove center row\n",
    "NGC2174_table.remove_row(0)\n",
    "#print(NGC2174_table)\n",
    "# Convert RA and DEC to skycoords\n",
    "from astropy.coordinates import SkyCoord\n",
    "from astropy import units as u\n",
    "NGC2174_table['SkyCoord'] = SkyCoord(NGC2174_table['RA'], NGC2174_table['DEC'], unit=(u.hourangle, u.deg))\n",
    "# Print all columns of table\n",
    "NGC2174_table.pprint(max_lines=-1, max_width=-1)"
   ]
  },
  {
   "cell_type": "code",
   "execution_count": 3,
   "metadata": {},
   "outputs": [
    {
     "name": "stderr",
     "output_type": "stream",
     "text": [
      "INFO:pyscope.observatory.observatory:Using config file to initialize observatory: ./rlmt.cfg\n",
      "INFO:pyscope.observatory.observatory:Using MaxIm DL as the camera driver\n",
      "INFO:pyscope.observatory.observatory:Using MaxIm DL as the filter wheel driver\n",
      "INFO:pyscope.observatory.observatory:Using MaxIm DL as the WCS driver\n",
      "INFO:pyscope.observatory.observatory:CCD Temp Set to -65.63\n",
      "INFO:pyscope.observatory.observatory:Checking passed kwargs and overriding config file values\n",
      "INFO:pyscope.observatory.observatory:CCD Temp Set to -65.63\n",
      "INFO:pyscope.observatory.observatory:Camera connected\n",
      "INFO:pyscope.observatory.observatory:CCD Temp Set to -65.63\n",
      "INFO:pyscope.observatory.observatory:Filter wheel connected\n",
      "INFO:pyscope.observatory.observatory:Focuser connected\n",
      "INFO:pyscope.observatory.observatory:Observing conditions connected\n",
      "INFO:pyscope.observatory.observatory:Telescope connected\n"
     ]
    },
    {
     "name": "stdout",
     "output_type": "stream",
     "text": [
      "Turning cooler on\n"
     ]
    },
    {
     "data": {
      "text/plain": [
       "True"
      ]
     },
     "execution_count": 3,
     "metadata": {},
     "output_type": "execute_result"
    }
   ],
   "source": [
    "rlmt = Observatory(config_path=\"./rlmt.cfg\")\n",
    "rlmt.connect_all()"
   ]
  },
  {
   "cell_type": "code",
   "execution_count": 12,
   "metadata": {},
   "outputs": [
    {
     "data": {
      "text/plain": [
       "True"
      ]
     },
     "execution_count": 12,
     "metadata": {},
     "output_type": "execute_result"
    }
   ],
   "source": [
    "# Start autofocus\n",
    "rlmt.focuser.Autofocus()"
   ]
  },
  {
   "cell_type": "markdown",
   "metadata": {},
   "source": [
    "# Center on object (run both cells below)"
   ]
  },
  {
   "cell_type": "code",
   "execution_count": 4,
   "metadata": {},
   "outputs": [],
   "source": [
    "save_dir = \"philip_2024-04-17\"\n",
    "# Make the save directory if it doesn't exist\n",
    "pathlib.Path(save_dir).mkdir(parents=True, exist_ok=True)\n",
    "\n",
    "def capture_grism_image(filter_name, object_name, exp_time=5, filename_prefix=\"focus\", binning=1):\n",
    "    # # Set binning\n",
    "    rlmt.camera.BinX = binning\n",
    "    rlmt.camera.BinY = binning\n",
    "\n",
    "    # # Start exposure\n",
    "    print(f\"Starting {int(exp_time)}s exposure...\")\n",
    "    rlmt.camera.StartExposure(int(exp_time), True)\n",
    "    \n",
    "    # Set up image base filename\n",
    "    exp_time_str = str(exp_time).replace(\".\", \"p\")\n",
    "    filename_base = f\"{filename_prefix}_{object_name}_{exp_time_str}s_{filter_name}\"\n",
    "    # Remove spaces from filename\n",
    "    filename_base = filename_base.replace(\" \", \"_\")\n",
    "    # Check if file exists in save_dir\n",
    "    i = 0\n",
    "    filename = pathlib.Path(save_dir) / f\"{filename_base}_{i}.fts\"\n",
    "    # print(f\"Checking if {filename} exists...\")\n",
    "    # print(f\"filename.exists() is {filename.exists()}\")\n",
    "    while filename.exists():\n",
    "        # If file exists, add a number to the end of the filename\n",
    "        i += 1\n",
    "        # print(f\"{filename} does exist\")\n",
    "        filename = pathlib.Path(save_dir) / f\"{filename_base}_{i}.fts\"\n",
    "        # print(f\"Checking if {filename} exists...\")\n",
    "\n",
    "    # Save latest image\n",
    "    while not rlmt.camera.ImageReady:\n",
    "        time.sleep(0.1)\n",
    "    time.sleep(0.1)\n",
    "    rlmt.save_last_image(filename, \"Light\", overwrite=True)\n",
    "\n",
    "    return filename"
   ]
  },
  {
   "cell_type": "markdown",
   "metadata": {},
   "source": [
    "below sets object"
   ]
  },
  {
   "cell_type": "code",
   "execution_count": 11,
   "metadata": {},
   "outputs": [
    {
     "name": "stdout",
     "output_type": "stream",
     "text": [
      "RA: hms_tuple(h=16.0, m=5.0, s=7.8833904000049415),\n",
      "Dec: dms_tuple(d=17.0, m=45.0, s=27.69706799999483)\n",
      "<SkyCoord (ICRS): (ra, dec) in deg\n",
      "    (241.28284746, 17.75769363)>\n",
      "Elevation: 40.96, Azimuth: 93.60\n",
      "Elevation dms: dms_tuple(d=40.0, m=57.0, s=46.34260427665879), \n",
      "Azimuth dms: dms_tuple(d=93.0, m=35.0, s=45.58044977581517)\n"
     ]
    }
   ],
   "source": [
    "# mosaic_panel = 1\n",
    "# object_name = f\"NGC2174_{mosaic_panel}\"\n",
    "# src = NGC2174_table['SkyCoord'][mosaic_panel]\n",
    "object_name = \"NGC 6045\" # Change name here\n",
    "# src = coord.SkyCoord(\"19h21m09.2835s -03d44m26.2962s\", frame='icrs')\n",
    "src = coord.SkyCoord.from_name(object_name)\n",
    "print(f\"RA: {src.ra.hms},\\nDec: {src.dec.dms}\")\n",
    "print(src)\n",
    "# Print alt az of source\n",
    "src_altaz = rlmt.get_object_altaz(src)\n",
    "print(f\"Elevation: {src_altaz.alt.deg:.2f}, Azimuth: {src_altaz.az.deg:.2f}\")\n",
    "print(f\"Elevation dms: {src_altaz.alt.dms}, \\nAzimuth dms: {src_altaz.az.dms}\")\n",
    "if src_altaz.alt.deg < 30:\n",
    "    raise Exception(\"Source is too low to observe.\")\n",
    " \n",
    "# tete_coords = src.transform_to(coord.TETE(obstime = rlmt.observatory_time, location=rlmt.observatory_location))\n",
    "# print(tete_coords)\n",
    "# print(f\"RA: {tete_coords.ra.hms},\\nDec: {tete_coords.dec.dms}\")"
   ]
  },
  {
   "cell_type": "markdown",
   "metadata": {},
   "source": [
    "below slews to and centers object"
   ]
  },
  {
   "cell_type": "code",
   "execution_count": 12,
   "metadata": {},
   "outputs": [
    {
     "name": "stderr",
     "output_type": "stream",
     "text": [
      "INFO:pyscope.observatory.observatory:Attempt 1 of 5\n",
      "INFO:pyscope.observatory.observatory:Slewing to RA hms_tuple(h=16.0, m=5.0, s=7.8833904000049415) and Dec dms_tuple(d=17.0, m=45.0, s=27.69706799999483)\n",
      "INFO:pyscope.observatory.observatory:Turning on sidereal tracking...\n",
      "INFO:pyscope.observatory.observatory:Sidereal tracking is on.\n",
      "INFO:pyscope.observatory.observatory:Attempting to slew to coordinates...\n",
      "INFO:pyscope.observatory.observatory:Slewing to RA 16.10401 and Dec 17.68826\n",
      "INFO:pyscope.observatory.observatory:Settling for 3.00 seconds...\n",
      "INFO:pyscope.observatory.observatory:Settling for 3.00 seconds\n",
      "INFO:pyscope.observatory.observatory:Taking 3.00 second exposure\n",
      "INFO:pyscope.observatory.observatory:Exposure complete\n",
      "INFO:pyscope.observatory.observatory:Using Maxim to save image\n",
      "INFO:pyscope.observatory.observatory:Overwrite allowed for header keys ['AIRMASS', 'OBJECT', 'TELESCOP', 'INSTRUME', 'OBSERVER']\n",
      "INFO:pyscope.observatory.observatory:Getting header from MaxIm image\n",
      "WARNING: VerifyWarning: Card is too long, comment will be truncated. [astropy.io.fits.card]\n",
      "WARNING:astroquery:VerifyWarning: Card is too long, comment will be truncated.\n",
      "INFO:pyscope.observatory.observatory:Searching for a WCS solution...\n",
      "INFO:pyscope.observatory.observatory:Saving the centering image to ./recenter_images/\n",
      "INFO:pyscope.observatory.observatory:Using Maxim to save image\n",
      "INFO:pyscope.observatory.observatory:Overwrite allowed for header keys ['AIRMASS', 'OBJECT', 'TELESCOP', 'INSTRUME', 'OBSERVER']\n",
      "INFO:pyscope.observatory.observatory:Getting header from MaxIm image\n",
      "INFO:pyscope.observatory.observatory:Using Maxim to save image\n",
      "INFO:pyscope.observatory.observatory:Overwrite allowed for header keys ['AIRMASS', 'OBJECT', 'TELESCOP', 'INSTRUME', 'OBSERVER']\n",
      "INFO:pyscope.observatory.observatory:Getting header from MaxIm image\n",
      "INFO:pyscope.observatory.observatory:WCS solution found, solving for the pixel location of the target\n",
      "WARNING: FITSFixedWarning: RADECSYS= 'FK5 ' / Equatorial coordinate system \n",
      "the RADECSYS keyword is deprecated, use RADESYSa. [astropy.wcs.wcs]\n",
      "WARNING:astroquery:FITSFixedWarning: RADECSYS= 'FK5 ' / Equatorial coordinate system \n",
      "the RADECSYS keyword is deprecated, use RADESYSa.\n",
      "INFO:pyscope.observatory.observatory:Error in RA is 110.56 arcseconds\n",
      "INFO:pyscope.observatory.observatory:Error in Dec is -128.29 arcseconds\n",
      "INFO:pyscope.observatory.observatory:Error in x pixels is -120.03\n",
      "INFO:pyscope.observatory.observatory:Error in y pixels is 165.92\n",
      "INFO:pyscope.observatory.observatory:Offsetting next slew coordinates\n",
      "INFO:pyscope.observatory.observatory:<SkyCoord (ICRS): (ra, dec) in deg\n",
      "    (241.31355802, 17.72205667)>\n",
      "INFO:pyscope.observatory.observatory:Attempt 2 of 5\n",
      "INFO:pyscope.observatory.observatory:Slewing to RA hms_tuple(h=16.0, m=5.0, s=15.253925077132635) and Dec dms_tuple(d=17.0, m=43.0, s=19.404005836343856)\n",
      "INFO:pyscope.observatory.observatory:Turning on sidereal tracking...\n",
      "INFO:pyscope.observatory.observatory:Sidereal tracking is on.\n",
      "INFO:pyscope.observatory.observatory:Attempting to slew to coordinates...\n",
      "INFO:pyscope.observatory.observatory:Slewing to RA 16.10607 and Dec 17.65269\n",
      "INFO:pyscope.observatory.observatory:Settling for 3.00 seconds...\n",
      "INFO:pyscope.observatory.observatory:Settling for 3.00 seconds\n",
      "INFO:pyscope.observatory.observatory:Taking 3.00 second exposure\n",
      "INFO:pyscope.observatory.observatory:Exposure complete\n",
      "INFO:pyscope.observatory.observatory:Using Maxim to save image\n",
      "INFO:pyscope.observatory.observatory:Overwrite allowed for header keys ['AIRMASS', 'OBJECT', 'TELESCOP', 'INSTRUME', 'OBSERVER']\n",
      "INFO:pyscope.observatory.observatory:Getting header from MaxIm image\n",
      "INFO:pyscope.observatory.observatory:Searching for a WCS solution...\n",
      "INFO:pyscope.observatory.observatory:Saving the centering image to ./recenter_images/\n",
      "INFO:pyscope.observatory.observatory:Using Maxim to save image\n",
      "INFO:pyscope.observatory.observatory:Overwrite allowed for header keys ['AIRMASS', 'OBJECT', 'TELESCOP', 'INSTRUME', 'OBSERVER']\n",
      "INFO:pyscope.observatory.observatory:Getting header from MaxIm image\n",
      "INFO:pyscope.observatory.observatory:Using Maxim to save image\n",
      "INFO:pyscope.observatory.observatory:Overwrite allowed for header keys ['AIRMASS', 'OBJECT', 'TELESCOP', 'INSTRUME', 'OBSERVER']\n",
      "INFO:pyscope.observatory.observatory:Getting header from MaxIm image\n",
      "INFO:pyscope.observatory.observatory:WCS solution found, solving for the pixel location of the target\n",
      "INFO:pyscope.observatory.observatory:Error in RA is 0.05 arcseconds\n",
      "INFO:pyscope.observatory.observatory:Error in Dec is 0.15 arcseconds\n",
      "INFO:pyscope.observatory.observatory:Error in x pixels is -0.10\n",
      "INFO:pyscope.observatory.observatory:Error in y pixels is -0.19\n",
      "INFO:pyscope.observatory.observatory:Target is now in position after 2 attempts\n"
     ]
    },
    {
     "data": {
      "text/plain": [
       "True"
      ]
     },
     "execution_count": 12,
     "metadata": {},
     "output_type": "execute_result"
    }
   ],
   "source": [
    "# Set to g filter\n",
    "rlmt.filter_wheel.Position = 3\n",
    "time.sleep(3)\n",
    "while rlmt.focuser.IsMoving:\n",
    "    time.sleep(0.5)\n",
    "\n",
    "# Run recentering algorithm\n",
    "if src_altaz.alt.deg < 30:\n",
    "    raise Exception(\"Source is too low to observe.\")\n",
    "rlmt.recenter(src, \n",
    "    target_x_pixel=1024, # TODO: make default center of sensor in each axis\n",
    "    target_y_pixel=1024,\n",
    "    exposure=3, \n",
    "    save_images=True,\n",
    "    save_path=\"./recenter_images/\",\n",
    "    readout=2,\n",
    ")"
   ]
  },
  {
   "cell_type": "markdown",
   "metadata": {},
   "source": [
    "Below cell runs a series of images (and saves them)"
   ]
  },
  {
   "cell_type": "code",
   "execution_count": 15,
   "metadata": {},
   "outputs": [
    {
     "name": "stdout",
     "output_type": "stream",
     "text": [
      "Starting 60s exposure...\n"
     ]
    },
    {
     "name": "stderr",
     "output_type": "stream",
     "text": [
      "INFO:pyscope.observatory.observatory:Using Maxim to save image\n",
      "INFO:pyscope.observatory.observatory:Overwrite allowed for header keys ['AIRMASS', 'OBJECT', 'TELESCOP', 'INSTRUME', 'OBSERVER']\n",
      "INFO:pyscope.observatory.observatory:Getting header from MaxIm image\n",
      "WARNING: VerifyWarning: Card is too long, comment will be truncated. [astropy.io.fits.card]\n",
      "WARNING:astroquery:VerifyWarning: Card is too long, comment will be truncated.\n"
     ]
    },
    {
     "name": "stdout",
     "output_type": "stream",
     "text": [
      "Starting 60s exposure...\n"
     ]
    },
    {
     "name": "stderr",
     "output_type": "stream",
     "text": [
      "INFO:pyscope.observatory.observatory:Using Maxim to save image\n",
      "INFO:pyscope.observatory.observatory:Overwrite allowed for header keys ['AIRMASS', 'OBJECT', 'TELESCOP', 'INSTRUME', 'OBSERVER']\n",
      "INFO:pyscope.observatory.observatory:Getting header from MaxIm image\n"
     ]
    },
    {
     "name": "stdout",
     "output_type": "stream",
     "text": [
      "Starting 60s exposure...\n"
     ]
    },
    {
     "name": "stderr",
     "output_type": "stream",
     "text": [
      "INFO:pyscope.observatory.observatory:Using Maxim to save image\n",
      "INFO:pyscope.observatory.observatory:Overwrite allowed for header keys ['AIRMASS', 'OBJECT', 'TELESCOP', 'INSTRUME', 'OBSERVER']\n",
      "INFO:pyscope.observatory.observatory:Getting header from MaxIm image\n"
     ]
    },
    {
     "name": "stdout",
     "output_type": "stream",
     "text": [
      "Starting 60s exposure...\n"
     ]
    },
    {
     "name": "stderr",
     "output_type": "stream",
     "text": [
      "INFO:pyscope.observatory.observatory:Using Maxim to save image\n",
      "INFO:pyscope.observatory.observatory:Overwrite allowed for header keys ['AIRMASS', 'OBJECT', 'TELESCOP', 'INSTRUME', 'OBSERVER']\n",
      "INFO:pyscope.observatory.observatory:Getting header from MaxIm image\n"
     ]
    },
    {
     "name": "stdout",
     "output_type": "stream",
     "text": [
      "Starting 60s exposure...\n"
     ]
    },
    {
     "ename": "KeyboardInterrupt",
     "evalue": "",
     "output_type": "error",
     "traceback": [
      "\u001b[1;31m---------------------------------------------------------------------------\u001b[0m",
      "\u001b[1;31mKeyboardInterrupt\u001b[0m                         Traceback (most recent call last)",
      "Cell \u001b[1;32mIn[15], line 16\u001b[0m\n\u001b[0;32m     13\u001b[0m num_images \u001b[38;5;241m=\u001b[39m \u001b[38;5;241m5\u001b[39m\n\u001b[0;32m     15\u001b[0m \u001b[38;5;28;01mfor\u001b[39;00m i \u001b[38;5;129;01min\u001b[39;00m \u001b[38;5;28mrange\u001b[39m(num_images):\n\u001b[1;32m---> 16\u001b[0m     \u001b[43mcapture_grism_image\u001b[49m\u001b[43m(\u001b[49m\u001b[43mfilter_name\u001b[49m\u001b[43m,\u001b[49m\u001b[43m \u001b[49m\u001b[43mobject_name\u001b[49m\u001b[43m,\u001b[49m\u001b[43m \u001b[49m\u001b[43mexp_time\u001b[49m\u001b[38;5;241;43m=\u001b[39;49m\u001b[43mexp_time\u001b[49m\u001b[43m,\u001b[49m\u001b[43m \u001b[49m\u001b[43mfilename_prefix\u001b[49m\u001b[38;5;241;43m=\u001b[39;49m\u001b[38;5;124;43m\"\u001b[39;49m\u001b[38;5;124;43mtricolor\u001b[39;49m\u001b[38;5;124;43m\"\u001b[39;49m\u001b[43m)\u001b[49m\n\u001b[0;32m     18\u001b[0m filter_name \u001b[38;5;241m=\u001b[39m \u001b[38;5;124m\"\u001b[39m\u001b[38;5;124msii\u001b[39m\u001b[38;5;124m\"\u001b[39m\n\u001b[0;32m     19\u001b[0m rlmt\u001b[38;5;241m.\u001b[39mfilter_wheel\u001b[38;5;241m.\u001b[39mPosition \u001b[38;5;241m=\u001b[39m filter_positions[filter_name]\n",
      "Cell \u001b[1;32mIn[10], line 33\u001b[0m, in \u001b[0;36mcapture_grism_image\u001b[1;34m(filter_name, object_name, exp_time, filename_prefix, binning)\u001b[0m\n\u001b[0;32m     29\u001b[0m     \u001b[38;5;66;03m# print(f\"Checking if {filename} exists...\")\u001b[39;00m\n\u001b[0;32m     30\u001b[0m \n\u001b[0;32m     31\u001b[0m \u001b[38;5;66;03m# Save latest image\u001b[39;00m\n\u001b[0;32m     32\u001b[0m \u001b[38;5;28;01mwhile\u001b[39;00m \u001b[38;5;129;01mnot\u001b[39;00m rlmt\u001b[38;5;241m.\u001b[39mcamera\u001b[38;5;241m.\u001b[39mImageReady:\n\u001b[1;32m---> 33\u001b[0m     \u001b[43mtime\u001b[49m\u001b[38;5;241;43m.\u001b[39;49m\u001b[43msleep\u001b[49m\u001b[43m(\u001b[49m\u001b[38;5;241;43m0.1\u001b[39;49m\u001b[43m)\u001b[49m\n\u001b[0;32m     34\u001b[0m time\u001b[38;5;241m.\u001b[39msleep(\u001b[38;5;241m0.1\u001b[39m)\n\u001b[0;32m     35\u001b[0m rlmt\u001b[38;5;241m.\u001b[39msave_last_image(filename, \u001b[38;5;124m\"\u001b[39m\u001b[38;5;124mLight\u001b[39m\u001b[38;5;124m\"\u001b[39m, overwrite\u001b[38;5;241m=\u001b[39m\u001b[38;5;28;01mTrue\u001b[39;00m)\n",
      "\u001b[1;31mKeyboardInterrupt\u001b[0m: "
     ]
    }
   ],
   "source": [
    "\n",
    "# filter_positions = {\n",
    "#     \"LowRes\": 0,\n",
    "#     \"HighRes\": 4,\n",
    "#     \"g\": 2,\n",
    "#     \"r\": 3,\n",
    "#     \"ha\": 10,\n",
    "#     \"oiii\": 7,\n",
    "#     \"sii\": 9,\n",
    "# }\n",
    "# filter_name = \"ha\"\n",
    "# rlmt.filter_wheel.Position = filter_positions[filter_name]\n",
    "# exp_time = 60 # in seconds\n",
    "# num_images = 5\n",
    "\n",
    "# for i in range(num_images):\n",
    "#     capture_grism_image(filter_name, object_name, exp_time=exp_time, filename_prefix=\"tricolor\")\n",
    "\n",
    "# filter_name = \"sii\"\n",
    "# rlmt.filter_wheel.Position = filter_positions[filter_name]\n",
    "# exp_time = 60 # in seconds\n",
    "# num_images = 5\n",
    "\n",
    "# for i in range(num_images):\n",
    "#     capture_grism_image(filter_name, object_name, exp_time=exp_time, filename_prefix=\"tricolor\")\n",
    "\n",
    "# filter_name = \"oiii\"\n",
    "# rlmt.filter_wheel.Position = filter_positions[filter_name]\n",
    "# exp_time = 60 # in seconds\n",
    "# num_images = 5\n",
    "\n",
    "# for i in range(num_images):\n",
    "#     capture_grism_image(filter_name, object_name, exp_time=exp_time, filename_prefix=\"tricolor\")"
   ]
  },
  {
   "cell_type": "code",
   "execution_count": 10,
   "metadata": {},
   "outputs": [
    {
     "name": "stdout",
     "output_type": "stream",
     "text": [
      "Starting 120s exposure...\n"
     ]
    },
    {
     "name": "stderr",
     "output_type": "stream",
     "text": [
      "INFO:pyscope.observatory.observatory:Using Maxim to save image\n",
      "INFO:pyscope.observatory.observatory:Overwrite allowed for header keys ['AIRMASS', 'OBJECT', 'TELESCOP', 'INSTRUME', 'OBSERVER']\n",
      "INFO:pyscope.observatory.observatory:Getting header from MaxIm image\n"
     ]
    },
    {
     "name": "stdout",
     "output_type": "stream",
     "text": [
      "Starting 120s exposure...\n"
     ]
    },
    {
     "name": "stderr",
     "output_type": "stream",
     "text": [
      "INFO:pyscope.observatory.observatory:Using Maxim to save image\n",
      "INFO:pyscope.observatory.observatory:Overwrite allowed for header keys ['AIRMASS', 'OBJECT', 'TELESCOP', 'INSTRUME', 'OBSERVER']\n",
      "INFO:pyscope.observatory.observatory:Getting header from MaxIm image\n"
     ]
    },
    {
     "name": "stdout",
     "output_type": "stream",
     "text": [
      "Starting 120s exposure...\n"
     ]
    },
    {
     "name": "stderr",
     "output_type": "stream",
     "text": [
      "INFO:pyscope.observatory.observatory:Using Maxim to save image\n",
      "INFO:pyscope.observatory.observatory:Overwrite allowed for header keys ['AIRMASS', 'OBJECT', 'TELESCOP', 'INSTRUME', 'OBSERVER']\n",
      "INFO:pyscope.observatory.observatory:Getting header from MaxIm image\n"
     ]
    },
    {
     "name": "stdout",
     "output_type": "stream",
     "text": [
      "Starting 120s exposure...\n"
     ]
    },
    {
     "name": "stderr",
     "output_type": "stream",
     "text": [
      "INFO:pyscope.observatory.observatory:Using Maxim to save image\n",
      "INFO:pyscope.observatory.observatory:Overwrite allowed for header keys ['AIRMASS', 'OBJECT', 'TELESCOP', 'INSTRUME', 'OBSERVER']\n",
      "INFO:pyscope.observatory.observatory:Getting header from MaxIm image\n"
     ]
    },
    {
     "name": "stdout",
     "output_type": "stream",
     "text": [
      "Starting 120s exposure...\n"
     ]
    },
    {
     "name": "stderr",
     "output_type": "stream",
     "text": [
      "INFO:pyscope.observatory.observatory:Using Maxim to save image\n",
      "INFO:pyscope.observatory.observatory:Overwrite allowed for header keys ['AIRMASS', 'OBJECT', 'TELESCOP', 'INSTRUME', 'OBSERVER']\n",
      "INFO:pyscope.observatory.observatory:Getting header from MaxIm image\n"
     ]
    },
    {
     "name": "stdout",
     "output_type": "stream",
     "text": [
      "Starting 120s exposure...\n"
     ]
    },
    {
     "name": "stderr",
     "output_type": "stream",
     "text": [
      "INFO:pyscope.observatory.observatory:Using Maxim to save image\n",
      "INFO:pyscope.observatory.observatory:Overwrite allowed for header keys ['AIRMASS', 'OBJECT', 'TELESCOP', 'INSTRUME', 'OBSERVER']\n",
      "INFO:pyscope.observatory.observatory:Getting header from MaxIm image\n"
     ]
    },
    {
     "name": "stdout",
     "output_type": "stream",
     "text": [
      "Starting 120s exposure...\n"
     ]
    },
    {
     "name": "stderr",
     "output_type": "stream",
     "text": [
      "INFO:pyscope.observatory.observatory:Using Maxim to save image\n",
      "INFO:pyscope.observatory.observatory:Overwrite allowed for header keys ['AIRMASS', 'OBJECT', 'TELESCOP', 'INSTRUME', 'OBSERVER']\n",
      "INFO:pyscope.observatory.observatory:Getting header from MaxIm image\n"
     ]
    },
    {
     "name": "stdout",
     "output_type": "stream",
     "text": [
      "Starting 120s exposure...\n"
     ]
    },
    {
     "name": "stderr",
     "output_type": "stream",
     "text": [
      "INFO:pyscope.observatory.observatory:Using Maxim to save image\n",
      "INFO:pyscope.observatory.observatory:Overwrite allowed for header keys ['AIRMASS', 'OBJECT', 'TELESCOP', 'INSTRUME', 'OBSERVER']\n",
      "INFO:pyscope.observatory.observatory:Getting header from MaxIm image\n"
     ]
    },
    {
     "name": "stdout",
     "output_type": "stream",
     "text": [
      "Starting 120s exposure...\n"
     ]
    },
    {
     "name": "stderr",
     "output_type": "stream",
     "text": [
      "INFO:pyscope.observatory.observatory:Using Maxim to save image\n",
      "INFO:pyscope.observatory.observatory:Overwrite allowed for header keys ['AIRMASS', 'OBJECT', 'TELESCOP', 'INSTRUME', 'OBSERVER']\n",
      "INFO:pyscope.observatory.observatory:Getting header from MaxIm image\n"
     ]
    },
    {
     "name": "stdout",
     "output_type": "stream",
     "text": [
      "Starting 120s exposure...\n"
     ]
    },
    {
     "name": "stderr",
     "output_type": "stream",
     "text": [
      "INFO:pyscope.observatory.observatory:Using Maxim to save image\n",
      "INFO:pyscope.observatory.observatory:Overwrite allowed for header keys ['AIRMASS', 'OBJECT', 'TELESCOP', 'INSTRUME', 'OBSERVER']\n",
      "INFO:pyscope.observatory.observatory:Getting header from MaxIm image\n"
     ]
    },
    {
     "name": "stdout",
     "output_type": "stream",
     "text": [
      "Starting 120s exposure...\n"
     ]
    },
    {
     "name": "stderr",
     "output_type": "stream",
     "text": [
      "INFO:pyscope.observatory.observatory:Using Maxim to save image\n",
      "INFO:pyscope.observatory.observatory:Overwrite allowed for header keys ['AIRMASS', 'OBJECT', 'TELESCOP', 'INSTRUME', 'OBSERVER']\n",
      "INFO:pyscope.observatory.observatory:Getting header from MaxIm image\n"
     ]
    },
    {
     "name": "stdout",
     "output_type": "stream",
     "text": [
      "Starting 120s exposure...\n"
     ]
    },
    {
     "name": "stderr",
     "output_type": "stream",
     "text": [
      "INFO:pyscope.observatory.observatory:Using Maxim to save image\n",
      "INFO:pyscope.observatory.observatory:Overwrite allowed for header keys ['AIRMASS', 'OBJECT', 'TELESCOP', 'INSTRUME', 'OBSERVER']\n",
      "INFO:pyscope.observatory.observatory:Getting header from MaxIm image\n"
     ]
    },
    {
     "name": "stdout",
     "output_type": "stream",
     "text": [
      "Starting 120s exposure...\n"
     ]
    },
    {
     "name": "stderr",
     "output_type": "stream",
     "text": [
      "INFO:pyscope.observatory.observatory:Using Maxim to save image\n",
      "INFO:pyscope.observatory.observatory:Overwrite allowed for header keys ['AIRMASS', 'OBJECT', 'TELESCOP', 'INSTRUME', 'OBSERVER']\n",
      "INFO:pyscope.observatory.observatory:Getting header from MaxIm image\n"
     ]
    },
    {
     "name": "stdout",
     "output_type": "stream",
     "text": [
      "Starting 120s exposure...\n"
     ]
    },
    {
     "name": "stderr",
     "output_type": "stream",
     "text": [
      "INFO:pyscope.observatory.observatory:Using Maxim to save image\n",
      "INFO:pyscope.observatory.observatory:Overwrite allowed for header keys ['AIRMASS', 'OBJECT', 'TELESCOP', 'INSTRUME', 'OBSERVER']\n",
      "INFO:pyscope.observatory.observatory:Getting header from MaxIm image\n"
     ]
    },
    {
     "name": "stdout",
     "output_type": "stream",
     "text": [
      "Starting 120s exposure...\n"
     ]
    },
    {
     "name": "stderr",
     "output_type": "stream",
     "text": [
      "INFO:pyscope.observatory.observatory:Using Maxim to save image\n",
      "INFO:pyscope.observatory.observatory:Overwrite allowed for header keys ['AIRMASS', 'OBJECT', 'TELESCOP', 'INSTRUME', 'OBSERVER']\n",
      "INFO:pyscope.observatory.observatory:Getting header from MaxIm image\n"
     ]
    }
   ],
   "source": [
    "# filter_positions = {\n",
    "#     \"LowRes\": 0,\n",
    "#     \"HighRes\": 4,\n",
    "#     \"g\": 2,\n",
    "#     \"r\": 3,\n",
    "#     \"i\": 5,\n",
    "#     \"ha\": 10,\n",
    "#     \"oiii\": 7,\n",
    "#     \"sii\": 9,\n",
    "# }\n",
    "# num_images = 15\n",
    "# for i in range(num_images):\n",
    "#     filter_name = \"oiii\"\n",
    "#     rlmt.filter_wheel.Position = filter_positions[filter_name]\n",
    "#     exp_time = 120 # in seconds\n",
    "#     capture_grism_image(filter_name, object_name, exp_time=exp_time, filename_prefix=\"tricolor\")\n"
   ]
  },
  {
   "cell_type": "markdown",
   "metadata": {},
   "source": [
    "# Alex, run below to take images"
   ]
  },
  {
   "cell_type": "code",
   "execution_count": 14,
   "metadata": {},
   "outputs": [
    {
     "name": "stdout",
     "output_type": "stream",
     "text": [
      "Starting 30s exposure...\n"
     ]
    },
    {
     "name": "stderr",
     "output_type": "stream",
     "text": [
      "INFO:pyscope.observatory.observatory:Using Maxim to save image\n",
      "INFO:pyscope.observatory.observatory:Overwrite allowed for header keys ['AIRMASS', 'OBJECT', 'TELESCOP', 'INSTRUME', 'OBSERVER']\n",
      "INFO:pyscope.observatory.observatory:Getting header from MaxIm image\n"
     ]
    },
    {
     "name": "stdout",
     "output_type": "stream",
     "text": [
      "Starting 30s exposure...\n"
     ]
    },
    {
     "name": "stderr",
     "output_type": "stream",
     "text": [
      "INFO:pyscope.observatory.observatory:Using Maxim to save image\n",
      "INFO:pyscope.observatory.observatory:Overwrite allowed for header keys ['AIRMASS', 'OBJECT', 'TELESCOP', 'INSTRUME', 'OBSERVER']\n",
      "INFO:pyscope.observatory.observatory:Getting header from MaxIm image\n"
     ]
    },
    {
     "name": "stdout",
     "output_type": "stream",
     "text": [
      "Starting 30s exposure...\n"
     ]
    },
    {
     "name": "stderr",
     "output_type": "stream",
     "text": [
      "INFO:pyscope.observatory.observatory:Using Maxim to save image\n",
      "INFO:pyscope.observatory.observatory:Overwrite allowed for header keys ['AIRMASS', 'OBJECT', 'TELESCOP', 'INSTRUME', 'OBSERVER']\n",
      "INFO:pyscope.observatory.observatory:Getting header from MaxIm image\n"
     ]
    },
    {
     "name": "stdout",
     "output_type": "stream",
     "text": [
      "Starting 120s exposure...\n"
     ]
    },
    {
     "name": "stderr",
     "output_type": "stream",
     "text": [
      "INFO:pyscope.observatory.observatory:Using Maxim to save image\n",
      "INFO:pyscope.observatory.observatory:Overwrite allowed for header keys ['AIRMASS', 'OBJECT', 'TELESCOP', 'INSTRUME', 'OBSERVER']\n",
      "INFO:pyscope.observatory.observatory:Getting header from MaxIm image\n"
     ]
    },
    {
     "name": "stdout",
     "output_type": "stream",
     "text": [
      "Starting 30s exposure...\n"
     ]
    },
    {
     "name": "stderr",
     "output_type": "stream",
     "text": [
      "INFO:pyscope.observatory.observatory:Using Maxim to save image\n",
      "INFO:pyscope.observatory.observatory:Overwrite allowed for header keys ['AIRMASS', 'OBJECT', 'TELESCOP', 'INSTRUME', 'OBSERVER']\n",
      "INFO:pyscope.observatory.observatory:Getting header from MaxIm image\n"
     ]
    },
    {
     "name": "stdout",
     "output_type": "stream",
     "text": [
      "Starting 30s exposure...\n"
     ]
    },
    {
     "name": "stderr",
     "output_type": "stream",
     "text": [
      "INFO:pyscope.observatory.observatory:Using Maxim to save image\n",
      "INFO:pyscope.observatory.observatory:Overwrite allowed for header keys ['AIRMASS', 'OBJECT', 'TELESCOP', 'INSTRUME', 'OBSERVER']\n",
      "INFO:pyscope.observatory.observatory:Getting header from MaxIm image\n"
     ]
    },
    {
     "name": "stdout",
     "output_type": "stream",
     "text": [
      "Starting 30s exposure...\n"
     ]
    },
    {
     "name": "stderr",
     "output_type": "stream",
     "text": [
      "INFO:pyscope.observatory.observatory:Using Maxim to save image\n",
      "INFO:pyscope.observatory.observatory:Overwrite allowed for header keys ['AIRMASS', 'OBJECT', 'TELESCOP', 'INSTRUME', 'OBSERVER']\n",
      "INFO:pyscope.observatory.observatory:Getting header from MaxIm image\n"
     ]
    },
    {
     "name": "stdout",
     "output_type": "stream",
     "text": [
      "Starting 30s exposure...\n"
     ]
    },
    {
     "name": "stderr",
     "output_type": "stream",
     "text": [
      "INFO:pyscope.observatory.observatory:Using Maxim to save image\n",
      "INFO:pyscope.observatory.observatory:Overwrite allowed for header keys ['AIRMASS', 'OBJECT', 'TELESCOP', 'INSTRUME', 'OBSERVER']\n",
      "INFO:pyscope.observatory.observatory:Getting header from MaxIm image\n"
     ]
    },
    {
     "name": "stdout",
     "output_type": "stream",
     "text": [
      "Starting 30s exposure...\n"
     ]
    },
    {
     "name": "stderr",
     "output_type": "stream",
     "text": [
      "INFO:pyscope.observatory.observatory:Using Maxim to save image\n",
      "INFO:pyscope.observatory.observatory:Overwrite allowed for header keys ['AIRMASS', 'OBJECT', 'TELESCOP', 'INSTRUME', 'OBSERVER']\n",
      "INFO:pyscope.observatory.observatory:Getting header from MaxIm image\n"
     ]
    },
    {
     "name": "stdout",
     "output_type": "stream",
     "text": [
      "Starting 30s exposure...\n"
     ]
    },
    {
     "name": "stderr",
     "output_type": "stream",
     "text": [
      "INFO:pyscope.observatory.observatory:Using Maxim to save image\n",
      "INFO:pyscope.observatory.observatory:Overwrite allowed for header keys ['AIRMASS', 'OBJECT', 'TELESCOP', 'INSTRUME', 'OBSERVER']\n",
      "INFO:pyscope.observatory.observatory:Getting header from MaxIm image\n"
     ]
    },
    {
     "name": "stdout",
     "output_type": "stream",
     "text": [
      "Starting 120s exposure...\n"
     ]
    },
    {
     "name": "stderr",
     "output_type": "stream",
     "text": [
      "INFO:pyscope.observatory.observatory:Using Maxim to save image\n",
      "INFO:pyscope.observatory.observatory:Overwrite allowed for header keys ['AIRMASS', 'OBJECT', 'TELESCOP', 'INSTRUME', 'OBSERVER']\n",
      "INFO:pyscope.observatory.observatory:Getting header from MaxIm image\n"
     ]
    },
    {
     "name": "stdout",
     "output_type": "stream",
     "text": [
      "Starting 30s exposure...\n"
     ]
    },
    {
     "name": "stderr",
     "output_type": "stream",
     "text": [
      "INFO:pyscope.observatory.observatory:Using Maxim to save image\n",
      "INFO:pyscope.observatory.observatory:Overwrite allowed for header keys ['AIRMASS', 'OBJECT', 'TELESCOP', 'INSTRUME', 'OBSERVER']\n",
      "INFO:pyscope.observatory.observatory:Getting header from MaxIm image\n"
     ]
    },
    {
     "name": "stdout",
     "output_type": "stream",
     "text": [
      "Starting 30s exposure...\n"
     ]
    },
    {
     "name": "stderr",
     "output_type": "stream",
     "text": [
      "INFO:pyscope.observatory.observatory:Using Maxim to save image\n",
      "INFO:pyscope.observatory.observatory:Overwrite allowed for header keys ['AIRMASS', 'OBJECT', 'TELESCOP', 'INSTRUME', 'OBSERVER']\n",
      "INFO:pyscope.observatory.observatory:Getting header from MaxIm image\n"
     ]
    },
    {
     "name": "stdout",
     "output_type": "stream",
     "text": [
      "Starting 30s exposure...\n"
     ]
    },
    {
     "name": "stderr",
     "output_type": "stream",
     "text": [
      "INFO:pyscope.observatory.observatory:Using Maxim to save image\n",
      "INFO:pyscope.observatory.observatory:Overwrite allowed for header keys ['AIRMASS', 'OBJECT', 'TELESCOP', 'INSTRUME', 'OBSERVER']\n",
      "INFO:pyscope.observatory.observatory:Getting header from MaxIm image\n"
     ]
    },
    {
     "name": "stdout",
     "output_type": "stream",
     "text": [
      "Starting 30s exposure...\n"
     ]
    },
    {
     "name": "stderr",
     "output_type": "stream",
     "text": [
      "INFO:pyscope.observatory.observatory:Using Maxim to save image\n",
      "INFO:pyscope.observatory.observatory:Overwrite allowed for header keys ['AIRMASS', 'OBJECT', 'TELESCOP', 'INSTRUME', 'OBSERVER']\n",
      "INFO:pyscope.observatory.observatory:Getting header from MaxIm image\n"
     ]
    },
    {
     "name": "stdout",
     "output_type": "stream",
     "text": [
      "Starting 30s exposure...\n"
     ]
    },
    {
     "name": "stderr",
     "output_type": "stream",
     "text": [
      "INFO:pyscope.observatory.observatory:Using Maxim to save image\n",
      "INFO:pyscope.observatory.observatory:Overwrite allowed for header keys ['AIRMASS', 'OBJECT', 'TELESCOP', 'INSTRUME', 'OBSERVER']\n",
      "INFO:pyscope.observatory.observatory:Getting header from MaxIm image\n"
     ]
    },
    {
     "name": "stdout",
     "output_type": "stream",
     "text": [
      "Starting 30s exposure...\n"
     ]
    },
    {
     "name": "stderr",
     "output_type": "stream",
     "text": [
      "INFO:pyscope.observatory.observatory:Using Maxim to save image\n",
      "INFO:pyscope.observatory.observatory:Overwrite allowed for header keys ['AIRMASS', 'OBJECT', 'TELESCOP', 'INSTRUME', 'OBSERVER']\n",
      "INFO:pyscope.observatory.observatory:Getting header from MaxIm image\n"
     ]
    },
    {
     "name": "stdout",
     "output_type": "stream",
     "text": [
      "Starting 120s exposure...\n"
     ]
    },
    {
     "name": "stderr",
     "output_type": "stream",
     "text": [
      "INFO:pyscope.observatory.observatory:Using Maxim to save image\n",
      "INFO:pyscope.observatory.observatory:Overwrite allowed for header keys ['AIRMASS', 'OBJECT', 'TELESCOP', 'INSTRUME', 'OBSERVER']\n",
      "INFO:pyscope.observatory.observatory:Getting header from MaxIm image\n"
     ]
    },
    {
     "name": "stdout",
     "output_type": "stream",
     "text": [
      "Starting 30s exposure...\n"
     ]
    },
    {
     "name": "stderr",
     "output_type": "stream",
     "text": [
      "INFO:pyscope.observatory.observatory:Using Maxim to save image\n",
      "INFO:pyscope.observatory.observatory:Overwrite allowed for header keys ['AIRMASS', 'OBJECT', 'TELESCOP', 'INSTRUME', 'OBSERVER']\n",
      "INFO:pyscope.observatory.observatory:Getting header from MaxIm image\n"
     ]
    },
    {
     "name": "stdout",
     "output_type": "stream",
     "text": [
      "Starting 30s exposure...\n"
     ]
    },
    {
     "name": "stderr",
     "output_type": "stream",
     "text": [
      "INFO:pyscope.observatory.observatory:Using Maxim to save image\n",
      "INFO:pyscope.observatory.observatory:Overwrite allowed for header keys ['AIRMASS', 'OBJECT', 'TELESCOP', 'INSTRUME', 'OBSERVER']\n",
      "INFO:pyscope.observatory.observatory:Getting header from MaxIm image\n"
     ]
    },
    {
     "name": "stdout",
     "output_type": "stream",
     "text": [
      "Starting 30s exposure...\n"
     ]
    },
    {
     "name": "stderr",
     "output_type": "stream",
     "text": [
      "INFO:pyscope.observatory.observatory:Using Maxim to save image\n",
      "INFO:pyscope.observatory.observatory:Overwrite allowed for header keys ['AIRMASS', 'OBJECT', 'TELESCOP', 'INSTRUME', 'OBSERVER']\n",
      "INFO:pyscope.observatory.observatory:Getting header from MaxIm image\n"
     ]
    },
    {
     "name": "stdout",
     "output_type": "stream",
     "text": [
      "Starting 30s exposure...\n"
     ]
    },
    {
     "name": "stderr",
     "output_type": "stream",
     "text": [
      "INFO:pyscope.observatory.observatory:Using Maxim to save image\n",
      "INFO:pyscope.observatory.observatory:Overwrite allowed for header keys ['AIRMASS', 'OBJECT', 'TELESCOP', 'INSTRUME', 'OBSERVER']\n",
      "INFO:pyscope.observatory.observatory:Getting header from MaxIm image\n"
     ]
    },
    {
     "name": "stdout",
     "output_type": "stream",
     "text": [
      "Starting 30s exposure...\n"
     ]
    },
    {
     "name": "stderr",
     "output_type": "stream",
     "text": [
      "INFO:pyscope.observatory.observatory:Using Maxim to save image\n",
      "INFO:pyscope.observatory.observatory:Overwrite allowed for header keys ['AIRMASS', 'OBJECT', 'TELESCOP', 'INSTRUME', 'OBSERVER']\n",
      "INFO:pyscope.observatory.observatory:Getting header from MaxIm image\n"
     ]
    },
    {
     "name": "stdout",
     "output_type": "stream",
     "text": [
      "Starting 30s exposure...\n"
     ]
    },
    {
     "name": "stderr",
     "output_type": "stream",
     "text": [
      "INFO:pyscope.observatory.observatory:Using Maxim to save image\n",
      "INFO:pyscope.observatory.observatory:Overwrite allowed for header keys ['AIRMASS', 'OBJECT', 'TELESCOP', 'INSTRUME', 'OBSERVER']\n",
      "INFO:pyscope.observatory.observatory:Getting header from MaxIm image\n"
     ]
    },
    {
     "name": "stdout",
     "output_type": "stream",
     "text": [
      "Starting 120s exposure...\n"
     ]
    },
    {
     "name": "stderr",
     "output_type": "stream",
     "text": [
      "INFO:pyscope.observatory.observatory:Using Maxim to save image\n",
      "INFO:pyscope.observatory.observatory:Overwrite allowed for header keys ['AIRMASS', 'OBJECT', 'TELESCOP', 'INSTRUME', 'OBSERVER']\n",
      "INFO:pyscope.observatory.observatory:Getting header from MaxIm image\n"
     ]
    },
    {
     "name": "stdout",
     "output_type": "stream",
     "text": [
      "Starting 30s exposure...\n"
     ]
    },
    {
     "name": "stderr",
     "output_type": "stream",
     "text": [
      "INFO:pyscope.observatory.observatory:Using Maxim to save image\n",
      "INFO:pyscope.observatory.observatory:Overwrite allowed for header keys ['AIRMASS', 'OBJECT', 'TELESCOP', 'INSTRUME', 'OBSERVER']\n",
      "INFO:pyscope.observatory.observatory:Getting header from MaxIm image\n"
     ]
    },
    {
     "name": "stdout",
     "output_type": "stream",
     "text": [
      "Starting 30s exposure...\n"
     ]
    },
    {
     "name": "stderr",
     "output_type": "stream",
     "text": [
      "INFO:pyscope.observatory.observatory:Using Maxim to save image\n",
      "INFO:pyscope.observatory.observatory:Overwrite allowed for header keys ['AIRMASS', 'OBJECT', 'TELESCOP', 'INSTRUME', 'OBSERVER']\n",
      "INFO:pyscope.observatory.observatory:Getting header from MaxIm image\n"
     ]
    },
    {
     "name": "stdout",
     "output_type": "stream",
     "text": [
      "Starting 30s exposure...\n"
     ]
    },
    {
     "name": "stderr",
     "output_type": "stream",
     "text": [
      "INFO:pyscope.observatory.observatory:Using Maxim to save image\n",
      "INFO:pyscope.observatory.observatory:Overwrite allowed for header keys ['AIRMASS', 'OBJECT', 'TELESCOP', 'INSTRUME', 'OBSERVER']\n",
      "INFO:pyscope.observatory.observatory:Getting header from MaxIm image\n"
     ]
    },
    {
     "name": "stdout",
     "output_type": "stream",
     "text": [
      "Starting 30s exposure...\n"
     ]
    },
    {
     "name": "stderr",
     "output_type": "stream",
     "text": [
      "INFO:pyscope.observatory.observatory:Using Maxim to save image\n",
      "INFO:pyscope.observatory.observatory:Overwrite allowed for header keys ['AIRMASS', 'OBJECT', 'TELESCOP', 'INSTRUME', 'OBSERVER']\n",
      "INFO:pyscope.observatory.observatory:Getting header from MaxIm image\n"
     ]
    },
    {
     "name": "stdout",
     "output_type": "stream",
     "text": [
      "Starting 30s exposure...\n"
     ]
    },
    {
     "name": "stderr",
     "output_type": "stream",
     "text": [
      "INFO:pyscope.observatory.observatory:Using Maxim to save image\n",
      "INFO:pyscope.observatory.observatory:Overwrite allowed for header keys ['AIRMASS', 'OBJECT', 'TELESCOP', 'INSTRUME', 'OBSERVER']\n",
      "INFO:pyscope.observatory.observatory:Getting header from MaxIm image\n"
     ]
    },
    {
     "name": "stdout",
     "output_type": "stream",
     "text": [
      "Starting 30s exposure...\n"
     ]
    },
    {
     "name": "stderr",
     "output_type": "stream",
     "text": [
      "INFO:pyscope.observatory.observatory:Using Maxim to save image\n",
      "INFO:pyscope.observatory.observatory:Overwrite allowed for header keys ['AIRMASS', 'OBJECT', 'TELESCOP', 'INSTRUME', 'OBSERVER']\n",
      "INFO:pyscope.observatory.observatory:Getting header from MaxIm image\n"
     ]
    },
    {
     "name": "stdout",
     "output_type": "stream",
     "text": [
      "Starting 120s exposure...\n"
     ]
    },
    {
     "name": "stderr",
     "output_type": "stream",
     "text": [
      "INFO:pyscope.observatory.observatory:Using Maxim to save image\n",
      "INFO:pyscope.observatory.observatory:Overwrite allowed for header keys ['AIRMASS', 'OBJECT', 'TELESCOP', 'INSTRUME', 'OBSERVER']\n",
      "INFO:pyscope.observatory.observatory:Getting header from MaxIm image\n"
     ]
    },
    {
     "name": "stdout",
     "output_type": "stream",
     "text": [
      "Starting 30s exposure...\n"
     ]
    },
    {
     "name": "stderr",
     "output_type": "stream",
     "text": [
      "INFO:pyscope.observatory.observatory:Using Maxim to save image\n",
      "INFO:pyscope.observatory.observatory:Overwrite allowed for header keys ['AIRMASS', 'OBJECT', 'TELESCOP', 'INSTRUME', 'OBSERVER']\n",
      "INFO:pyscope.observatory.observatory:Getting header from MaxIm image\n"
     ]
    },
    {
     "name": "stdout",
     "output_type": "stream",
     "text": [
      "Starting 30s exposure...\n"
     ]
    },
    {
     "name": "stderr",
     "output_type": "stream",
     "text": [
      "INFO:pyscope.observatory.observatory:Using Maxim to save image\n",
      "INFO:pyscope.observatory.observatory:Overwrite allowed for header keys ['AIRMASS', 'OBJECT', 'TELESCOP', 'INSTRUME', 'OBSERVER']\n",
      "INFO:pyscope.observatory.observatory:Getting header from MaxIm image\n"
     ]
    },
    {
     "name": "stdout",
     "output_type": "stream",
     "text": [
      "Starting 30s exposure...\n"
     ]
    },
    {
     "name": "stderr",
     "output_type": "stream",
     "text": [
      "INFO:pyscope.observatory.observatory:Using Maxim to save image\n",
      "INFO:pyscope.observatory.observatory:Overwrite allowed for header keys ['AIRMASS', 'OBJECT', 'TELESCOP', 'INSTRUME', 'OBSERVER']\n",
      "INFO:pyscope.observatory.observatory:Getting header from MaxIm image\n"
     ]
    },
    {
     "name": "stdout",
     "output_type": "stream",
     "text": [
      "Starting 30s exposure...\n"
     ]
    },
    {
     "name": "stderr",
     "output_type": "stream",
     "text": [
      "INFO:pyscope.observatory.observatory:Using Maxim to save image\n",
      "INFO:pyscope.observatory.observatory:Overwrite allowed for header keys ['AIRMASS', 'OBJECT', 'TELESCOP', 'INSTRUME', 'OBSERVER']\n",
      "INFO:pyscope.observatory.observatory:Getting header from MaxIm image\n"
     ]
    },
    {
     "name": "stdout",
     "output_type": "stream",
     "text": [
      "Starting 30s exposure...\n"
     ]
    },
    {
     "name": "stderr",
     "output_type": "stream",
     "text": [
      "INFO:pyscope.observatory.observatory:Using Maxim to save image\n",
      "INFO:pyscope.observatory.observatory:Overwrite allowed for header keys ['AIRMASS', 'OBJECT', 'TELESCOP', 'INSTRUME', 'OBSERVER']\n",
      "INFO:pyscope.observatory.observatory:Getting header from MaxIm image\n"
     ]
    },
    {
     "name": "stdout",
     "output_type": "stream",
     "text": [
      "Starting 30s exposure...\n"
     ]
    },
    {
     "name": "stderr",
     "output_type": "stream",
     "text": [
      "INFO:pyscope.observatory.observatory:Using Maxim to save image\n",
      "INFO:pyscope.observatory.observatory:Overwrite allowed for header keys ['AIRMASS', 'OBJECT', 'TELESCOP', 'INSTRUME', 'OBSERVER']\n",
      "INFO:pyscope.observatory.observatory:Getting header from MaxIm image\n"
     ]
    },
    {
     "name": "stdout",
     "output_type": "stream",
     "text": [
      "Starting 120s exposure...\n"
     ]
    },
    {
     "name": "stderr",
     "output_type": "stream",
     "text": [
      "INFO:pyscope.observatory.observatory:Using Maxim to save image\n",
      "INFO:pyscope.observatory.observatory:Overwrite allowed for header keys ['AIRMASS', 'OBJECT', 'TELESCOP', 'INSTRUME', 'OBSERVER']\n",
      "INFO:pyscope.observatory.observatory:Getting header from MaxIm image\n"
     ]
    },
    {
     "name": "stdout",
     "output_type": "stream",
     "text": [
      "Starting 30s exposure...\n"
     ]
    },
    {
     "name": "stderr",
     "output_type": "stream",
     "text": [
      "INFO:pyscope.observatory.observatory:Using Maxim to save image\n",
      "INFO:pyscope.observatory.observatory:Overwrite allowed for header keys ['AIRMASS', 'OBJECT', 'TELESCOP', 'INSTRUME', 'OBSERVER']\n",
      "INFO:pyscope.observatory.observatory:Getting header from MaxIm image\n"
     ]
    },
    {
     "name": "stdout",
     "output_type": "stream",
     "text": [
      "Starting 30s exposure...\n"
     ]
    },
    {
     "name": "stderr",
     "output_type": "stream",
     "text": [
      "INFO:pyscope.observatory.observatory:Using Maxim to save image\n",
      "INFO:pyscope.observatory.observatory:Overwrite allowed for header keys ['AIRMASS', 'OBJECT', 'TELESCOP', 'INSTRUME', 'OBSERVER']\n",
      "INFO:pyscope.observatory.observatory:Getting header from MaxIm image\n"
     ]
    },
    {
     "name": "stdout",
     "output_type": "stream",
     "text": [
      "Starting 30s exposure...\n"
     ]
    },
    {
     "name": "stderr",
     "output_type": "stream",
     "text": [
      "INFO:pyscope.observatory.observatory:Using Maxim to save image\n",
      "INFO:pyscope.observatory.observatory:Overwrite allowed for header keys ['AIRMASS', 'OBJECT', 'TELESCOP', 'INSTRUME', 'OBSERVER']\n",
      "INFO:pyscope.observatory.observatory:Getting header from MaxIm image\n"
     ]
    },
    {
     "name": "stdout",
     "output_type": "stream",
     "text": [
      "Starting 30s exposure...\n"
     ]
    },
    {
     "name": "stderr",
     "output_type": "stream",
     "text": [
      "INFO:pyscope.observatory.observatory:Using Maxim to save image\n",
      "INFO:pyscope.observatory.observatory:Overwrite allowed for header keys ['AIRMASS', 'OBJECT', 'TELESCOP', 'INSTRUME', 'OBSERVER']\n",
      "INFO:pyscope.observatory.observatory:Getting header from MaxIm image\n"
     ]
    },
    {
     "name": "stdout",
     "output_type": "stream",
     "text": [
      "Starting 30s exposure...\n"
     ]
    },
    {
     "name": "stderr",
     "output_type": "stream",
     "text": [
      "INFO:pyscope.observatory.observatory:Using Maxim to save image\n",
      "INFO:pyscope.observatory.observatory:Overwrite allowed for header keys ['AIRMASS', 'OBJECT', 'TELESCOP', 'INSTRUME', 'OBSERVER']\n",
      "INFO:pyscope.observatory.observatory:Getting header from MaxIm image\n"
     ]
    },
    {
     "name": "stdout",
     "output_type": "stream",
     "text": [
      "Starting 30s exposure...\n"
     ]
    },
    {
     "name": "stderr",
     "output_type": "stream",
     "text": [
      "INFO:pyscope.observatory.observatory:Using Maxim to save image\n",
      "INFO:pyscope.observatory.observatory:Overwrite allowed for header keys ['AIRMASS', 'OBJECT', 'TELESCOP', 'INSTRUME', 'OBSERVER']\n",
      "INFO:pyscope.observatory.observatory:Getting header from MaxIm image\n"
     ]
    },
    {
     "name": "stdout",
     "output_type": "stream",
     "text": [
      "Starting 120s exposure...\n"
     ]
    },
    {
     "name": "stderr",
     "output_type": "stream",
     "text": [
      "INFO:pyscope.observatory.observatory:Using Maxim to save image\n",
      "INFO:pyscope.observatory.observatory:Overwrite allowed for header keys ['AIRMASS', 'OBJECT', 'TELESCOP', 'INSTRUME', 'OBSERVER']\n",
      "INFO:pyscope.observatory.observatory:Getting header from MaxIm image\n"
     ]
    },
    {
     "name": "stdout",
     "output_type": "stream",
     "text": [
      "Starting 30s exposure...\n"
     ]
    },
    {
     "name": "stderr",
     "output_type": "stream",
     "text": [
      "INFO:pyscope.observatory.observatory:Using Maxim to save image\n",
      "INFO:pyscope.observatory.observatory:Overwrite allowed for header keys ['AIRMASS', 'OBJECT', 'TELESCOP', 'INSTRUME', 'OBSERVER']\n",
      "INFO:pyscope.observatory.observatory:Getting header from MaxIm image\n"
     ]
    },
    {
     "name": "stdout",
     "output_type": "stream",
     "text": [
      "Starting 30s exposure...\n"
     ]
    },
    {
     "name": "stderr",
     "output_type": "stream",
     "text": [
      "INFO:pyscope.observatory.observatory:Using Maxim to save image\n",
      "INFO:pyscope.observatory.observatory:Overwrite allowed for header keys ['AIRMASS', 'OBJECT', 'TELESCOP', 'INSTRUME', 'OBSERVER']\n",
      "INFO:pyscope.observatory.observatory:Getting header from MaxIm image\n"
     ]
    },
    {
     "name": "stdout",
     "output_type": "stream",
     "text": [
      "Starting 30s exposure...\n"
     ]
    },
    {
     "name": "stderr",
     "output_type": "stream",
     "text": [
      "INFO:pyscope.observatory.observatory:Using Maxim to save image\n",
      "INFO:pyscope.observatory.observatory:Overwrite allowed for header keys ['AIRMASS', 'OBJECT', 'TELESCOP', 'INSTRUME', 'OBSERVER']\n",
      "INFO:pyscope.observatory.observatory:Getting header from MaxIm image\n"
     ]
    },
    {
     "name": "stdout",
     "output_type": "stream",
     "text": [
      "Starting 30s exposure...\n"
     ]
    },
    {
     "name": "stderr",
     "output_type": "stream",
     "text": [
      "INFO:pyscope.observatory.observatory:Using Maxim to save image\n",
      "INFO:pyscope.observatory.observatory:Overwrite allowed for header keys ['AIRMASS', 'OBJECT', 'TELESCOP', 'INSTRUME', 'OBSERVER']\n",
      "INFO:pyscope.observatory.observatory:Getting header from MaxIm image\n"
     ]
    },
    {
     "name": "stdout",
     "output_type": "stream",
     "text": [
      "Starting 30s exposure...\n"
     ]
    },
    {
     "name": "stderr",
     "output_type": "stream",
     "text": [
      "INFO:pyscope.observatory.observatory:Using Maxim to save image\n",
      "INFO:pyscope.observatory.observatory:Overwrite allowed for header keys ['AIRMASS', 'OBJECT', 'TELESCOP', 'INSTRUME', 'OBSERVER']\n",
      "INFO:pyscope.observatory.observatory:Getting header from MaxIm image\n"
     ]
    },
    {
     "name": "stdout",
     "output_type": "stream",
     "text": [
      "Starting 30s exposure...\n"
     ]
    },
    {
     "name": "stderr",
     "output_type": "stream",
     "text": [
      "INFO:pyscope.observatory.observatory:Using Maxim to save image\n",
      "INFO:pyscope.observatory.observatory:Overwrite allowed for header keys ['AIRMASS', 'OBJECT', 'TELESCOP', 'INSTRUME', 'OBSERVER']\n",
      "INFO:pyscope.observatory.observatory:Getting header from MaxIm image\n"
     ]
    },
    {
     "name": "stdout",
     "output_type": "stream",
     "text": [
      "Starting 120s exposure...\n"
     ]
    },
    {
     "name": "stderr",
     "output_type": "stream",
     "text": [
      "INFO:pyscope.observatory.observatory:Using Maxim to save image\n",
      "INFO:pyscope.observatory.observatory:Overwrite allowed for header keys ['AIRMASS', 'OBJECT', 'TELESCOP', 'INSTRUME', 'OBSERVER']\n",
      "INFO:pyscope.observatory.observatory:Getting header from MaxIm image\n"
     ]
    },
    {
     "name": "stdout",
     "output_type": "stream",
     "text": [
      "Starting 30s exposure...\n"
     ]
    },
    {
     "name": "stderr",
     "output_type": "stream",
     "text": [
      "INFO:pyscope.observatory.observatory:Using Maxim to save image\n",
      "INFO:pyscope.observatory.observatory:Overwrite allowed for header keys ['AIRMASS', 'OBJECT', 'TELESCOP', 'INSTRUME', 'OBSERVER']\n",
      "INFO:pyscope.observatory.observatory:Getting header from MaxIm image\n"
     ]
    },
    {
     "name": "stdout",
     "output_type": "stream",
     "text": [
      "Starting 30s exposure...\n"
     ]
    },
    {
     "name": "stderr",
     "output_type": "stream",
     "text": [
      "INFO:pyscope.observatory.observatory:Using Maxim to save image\n",
      "INFO:pyscope.observatory.observatory:Overwrite allowed for header keys ['AIRMASS', 'OBJECT', 'TELESCOP', 'INSTRUME', 'OBSERVER']\n",
      "INFO:pyscope.observatory.observatory:Getting header from MaxIm image\n"
     ]
    },
    {
     "name": "stdout",
     "output_type": "stream",
     "text": [
      "Starting 30s exposure...\n"
     ]
    },
    {
     "name": "stderr",
     "output_type": "stream",
     "text": [
      "INFO:pyscope.observatory.observatory:Using Maxim to save image\n",
      "INFO:pyscope.observatory.observatory:Overwrite allowed for header keys ['AIRMASS', 'OBJECT', 'TELESCOP', 'INSTRUME', 'OBSERVER']\n",
      "INFO:pyscope.observatory.observatory:Getting header from MaxIm image\n"
     ]
    },
    {
     "name": "stdout",
     "output_type": "stream",
     "text": [
      "Starting 30s exposure...\n"
     ]
    },
    {
     "name": "stderr",
     "output_type": "stream",
     "text": [
      "INFO:pyscope.observatory.observatory:Using Maxim to save image\n",
      "INFO:pyscope.observatory.observatory:Overwrite allowed for header keys ['AIRMASS', 'OBJECT', 'TELESCOP', 'INSTRUME', 'OBSERVER']\n",
      "INFO:pyscope.observatory.observatory:Getting header from MaxIm image\n"
     ]
    },
    {
     "name": "stdout",
     "output_type": "stream",
     "text": [
      "Starting 30s exposure...\n"
     ]
    },
    {
     "name": "stderr",
     "output_type": "stream",
     "text": [
      "INFO:pyscope.observatory.observatory:Using Maxim to save image\n",
      "INFO:pyscope.observatory.observatory:Overwrite allowed for header keys ['AIRMASS', 'OBJECT', 'TELESCOP', 'INSTRUME', 'OBSERVER']\n",
      "INFO:pyscope.observatory.observatory:Getting header from MaxIm image\n"
     ]
    },
    {
     "name": "stdout",
     "output_type": "stream",
     "text": [
      "Starting 30s exposure...\n"
     ]
    },
    {
     "name": "stderr",
     "output_type": "stream",
     "text": [
      "INFO:pyscope.observatory.observatory:Using Maxim to save image\n",
      "INFO:pyscope.observatory.observatory:Overwrite allowed for header keys ['AIRMASS', 'OBJECT', 'TELESCOP', 'INSTRUME', 'OBSERVER']\n",
      "INFO:pyscope.observatory.observatory:Getting header from MaxIm image\n"
     ]
    },
    {
     "name": "stdout",
     "output_type": "stream",
     "text": [
      "Starting 120s exposure...\n"
     ]
    },
    {
     "name": "stderr",
     "output_type": "stream",
     "text": [
      "INFO:pyscope.observatory.observatory:Using Maxim to save image\n",
      "INFO:pyscope.observatory.observatory:Overwrite allowed for header keys ['AIRMASS', 'OBJECT', 'TELESCOP', 'INSTRUME', 'OBSERVER']\n",
      "INFO:pyscope.observatory.observatory:Getting header from MaxIm image\n"
     ]
    },
    {
     "name": "stdout",
     "output_type": "stream",
     "text": [
      "Starting 30s exposure...\n"
     ]
    },
    {
     "name": "stderr",
     "output_type": "stream",
     "text": [
      "INFO:pyscope.observatory.observatory:Using Maxim to save image\n",
      "INFO:pyscope.observatory.observatory:Overwrite allowed for header keys ['AIRMASS', 'OBJECT', 'TELESCOP', 'INSTRUME', 'OBSERVER']\n",
      "INFO:pyscope.observatory.observatory:Getting header from MaxIm image\n"
     ]
    },
    {
     "name": "stdout",
     "output_type": "stream",
     "text": [
      "Starting 30s exposure...\n"
     ]
    },
    {
     "name": "stderr",
     "output_type": "stream",
     "text": [
      "INFO:pyscope.observatory.observatory:Using Maxim to save image\n",
      "INFO:pyscope.observatory.observatory:Overwrite allowed for header keys ['AIRMASS', 'OBJECT', 'TELESCOP', 'INSTRUME', 'OBSERVER']\n",
      "INFO:pyscope.observatory.observatory:Getting header from MaxIm image\n"
     ]
    },
    {
     "name": "stdout",
     "output_type": "stream",
     "text": [
      "Starting 30s exposure...\n"
     ]
    },
    {
     "name": "stderr",
     "output_type": "stream",
     "text": [
      "INFO:pyscope.observatory.observatory:Using Maxim to save image\n",
      "INFO:pyscope.observatory.observatory:Overwrite allowed for header keys ['AIRMASS', 'OBJECT', 'TELESCOP', 'INSTRUME', 'OBSERVER']\n",
      "INFO:pyscope.observatory.observatory:Getting header from MaxIm image\n"
     ]
    },
    {
     "name": "stdout",
     "output_type": "stream",
     "text": [
      "Starting 30s exposure...\n"
     ]
    },
    {
     "name": "stderr",
     "output_type": "stream",
     "text": [
      "INFO:pyscope.observatory.observatory:Using Maxim to save image\n",
      "INFO:pyscope.observatory.observatory:Overwrite allowed for header keys ['AIRMASS', 'OBJECT', 'TELESCOP', 'INSTRUME', 'OBSERVER']\n",
      "INFO:pyscope.observatory.observatory:Getting header from MaxIm image\n"
     ]
    },
    {
     "name": "stdout",
     "output_type": "stream",
     "text": [
      "Starting 30s exposure...\n"
     ]
    },
    {
     "name": "stderr",
     "output_type": "stream",
     "text": [
      "INFO:pyscope.observatory.observatory:Using Maxim to save image\n",
      "INFO:pyscope.observatory.observatory:Overwrite allowed for header keys ['AIRMASS', 'OBJECT', 'TELESCOP', 'INSTRUME', 'OBSERVER']\n",
      "INFO:pyscope.observatory.observatory:Getting header from MaxIm image\n"
     ]
    },
    {
     "name": "stdout",
     "output_type": "stream",
     "text": [
      "Starting 30s exposure...\n"
     ]
    },
    {
     "name": "stderr",
     "output_type": "stream",
     "text": [
      "INFO:pyscope.observatory.observatory:Using Maxim to save image\n",
      "INFO:pyscope.observatory.observatory:Overwrite allowed for header keys ['AIRMASS', 'OBJECT', 'TELESCOP', 'INSTRUME', 'OBSERVER']\n",
      "INFO:pyscope.observatory.observatory:Getting header from MaxIm image\n"
     ]
    },
    {
     "name": "stdout",
     "output_type": "stream",
     "text": [
      "Starting 120s exposure...\n"
     ]
    },
    {
     "name": "stderr",
     "output_type": "stream",
     "text": [
      "INFO:pyscope.observatory.observatory:Using Maxim to save image\n",
      "INFO:pyscope.observatory.observatory:Overwrite allowed for header keys ['AIRMASS', 'OBJECT', 'TELESCOP', 'INSTRUME', 'OBSERVER']\n",
      "INFO:pyscope.observatory.observatory:Getting header from MaxIm image\n"
     ]
    },
    {
     "name": "stdout",
     "output_type": "stream",
     "text": [
      "Starting 30s exposure...\n"
     ]
    },
    {
     "name": "stderr",
     "output_type": "stream",
     "text": [
      "INFO:pyscope.observatory.observatory:Using Maxim to save image\n",
      "INFO:pyscope.observatory.observatory:Overwrite allowed for header keys ['AIRMASS', 'OBJECT', 'TELESCOP', 'INSTRUME', 'OBSERVER']\n",
      "INFO:pyscope.observatory.observatory:Getting header from MaxIm image\n"
     ]
    },
    {
     "name": "stdout",
     "output_type": "stream",
     "text": [
      "Starting 30s exposure...\n"
     ]
    },
    {
     "name": "stderr",
     "output_type": "stream",
     "text": [
      "INFO:pyscope.observatory.observatory:Using Maxim to save image\n",
      "INFO:pyscope.observatory.observatory:Overwrite allowed for header keys ['AIRMASS', 'OBJECT', 'TELESCOP', 'INSTRUME', 'OBSERVER']\n",
      "INFO:pyscope.observatory.observatory:Getting header from MaxIm image\n"
     ]
    },
    {
     "name": "stdout",
     "output_type": "stream",
     "text": [
      "Starting 30s exposure...\n"
     ]
    },
    {
     "name": "stderr",
     "output_type": "stream",
     "text": [
      "INFO:pyscope.observatory.observatory:Using Maxim to save image\n",
      "INFO:pyscope.observatory.observatory:Overwrite allowed for header keys ['AIRMASS', 'OBJECT', 'TELESCOP', 'INSTRUME', 'OBSERVER']\n",
      "INFO:pyscope.observatory.observatory:Getting header from MaxIm image\n"
     ]
    },
    {
     "name": "stdout",
     "output_type": "stream",
     "text": [
      "Starting 30s exposure...\n"
     ]
    },
    {
     "name": "stderr",
     "output_type": "stream",
     "text": [
      "INFO:pyscope.observatory.observatory:Using Maxim to save image\n",
      "INFO:pyscope.observatory.observatory:Overwrite allowed for header keys ['AIRMASS', 'OBJECT', 'TELESCOP', 'INSTRUME', 'OBSERVER']\n",
      "INFO:pyscope.observatory.observatory:Getting header from MaxIm image\n"
     ]
    },
    {
     "name": "stdout",
     "output_type": "stream",
     "text": [
      "Starting 30s exposure...\n"
     ]
    },
    {
     "name": "stderr",
     "output_type": "stream",
     "text": [
      "INFO:pyscope.observatory.observatory:Using Maxim to save image\n",
      "INFO:pyscope.observatory.observatory:Overwrite allowed for header keys ['AIRMASS', 'OBJECT', 'TELESCOP', 'INSTRUME', 'OBSERVER']\n",
      "INFO:pyscope.observatory.observatory:Getting header from MaxIm image\n"
     ]
    },
    {
     "name": "stdout",
     "output_type": "stream",
     "text": [
      "Starting 30s exposure...\n"
     ]
    },
    {
     "name": "stderr",
     "output_type": "stream",
     "text": [
      "INFO:pyscope.observatory.observatory:Using Maxim to save image\n",
      "INFO:pyscope.observatory.observatory:Overwrite allowed for header keys ['AIRMASS', 'OBJECT', 'TELESCOP', 'INSTRUME', 'OBSERVER']\n",
      "INFO:pyscope.observatory.observatory:Getting header from MaxIm image\n"
     ]
    },
    {
     "name": "stdout",
     "output_type": "stream",
     "text": [
      "Starting 120s exposure...\n"
     ]
    },
    {
     "name": "stderr",
     "output_type": "stream",
     "text": [
      "INFO:pyscope.observatory.observatory:Using Maxim to save image\n",
      "INFO:pyscope.observatory.observatory:Overwrite allowed for header keys ['AIRMASS', 'OBJECT', 'TELESCOP', 'INSTRUME', 'OBSERVER']\n",
      "INFO:pyscope.observatory.observatory:Getting header from MaxIm image\n"
     ]
    },
    {
     "name": "stdout",
     "output_type": "stream",
     "text": [
      "Starting 30s exposure...\n"
     ]
    },
    {
     "name": "stderr",
     "output_type": "stream",
     "text": [
      "INFO:pyscope.observatory.observatory:Using Maxim to save image\n",
      "INFO:pyscope.observatory.observatory:Overwrite allowed for header keys ['AIRMASS', 'OBJECT', 'TELESCOP', 'INSTRUME', 'OBSERVER']\n",
      "INFO:pyscope.observatory.observatory:Getting header from MaxIm image\n"
     ]
    },
    {
     "name": "stdout",
     "output_type": "stream",
     "text": [
      "Starting 30s exposure...\n"
     ]
    },
    {
     "name": "stderr",
     "output_type": "stream",
     "text": [
      "INFO:pyscope.observatory.observatory:Using Maxim to save image\n",
      "INFO:pyscope.observatory.observatory:Overwrite allowed for header keys ['AIRMASS', 'OBJECT', 'TELESCOP', 'INSTRUME', 'OBSERVER']\n",
      "INFO:pyscope.observatory.observatory:Getting header from MaxIm image\n"
     ]
    },
    {
     "name": "stdout",
     "output_type": "stream",
     "text": [
      "Starting 30s exposure...\n"
     ]
    },
    {
     "name": "stderr",
     "output_type": "stream",
     "text": [
      "INFO:pyscope.observatory.observatory:Using Maxim to save image\n",
      "INFO:pyscope.observatory.observatory:Overwrite allowed for header keys ['AIRMASS', 'OBJECT', 'TELESCOP', 'INSTRUME', 'OBSERVER']\n",
      "INFO:pyscope.observatory.observatory:Getting header from MaxIm image\n"
     ]
    },
    {
     "name": "stdout",
     "output_type": "stream",
     "text": [
      "Starting 30s exposure...\n"
     ]
    },
    {
     "name": "stderr",
     "output_type": "stream",
     "text": [
      "INFO:pyscope.observatory.observatory:Using Maxim to save image\n",
      "INFO:pyscope.observatory.observatory:Overwrite allowed for header keys ['AIRMASS', 'OBJECT', 'TELESCOP', 'INSTRUME', 'OBSERVER']\n",
      "INFO:pyscope.observatory.observatory:Getting header from MaxIm image\n"
     ]
    },
    {
     "name": "stdout",
     "output_type": "stream",
     "text": [
      "Starting 30s exposure...\n"
     ]
    },
    {
     "name": "stderr",
     "output_type": "stream",
     "text": [
      "INFO:pyscope.observatory.observatory:Using Maxim to save image\n",
      "INFO:pyscope.observatory.observatory:Overwrite allowed for header keys ['AIRMASS', 'OBJECT', 'TELESCOP', 'INSTRUME', 'OBSERVER']\n",
      "INFO:pyscope.observatory.observatory:Getting header from MaxIm image\n"
     ]
    },
    {
     "name": "stdout",
     "output_type": "stream",
     "text": [
      "Starting 30s exposure...\n"
     ]
    },
    {
     "name": "stderr",
     "output_type": "stream",
     "text": [
      "INFO:pyscope.observatory.observatory:Using Maxim to save image\n",
      "INFO:pyscope.observatory.observatory:Overwrite allowed for header keys ['AIRMASS', 'OBJECT', 'TELESCOP', 'INSTRUME', 'OBSERVER']\n",
      "INFO:pyscope.observatory.observatory:Getting header from MaxIm image\n"
     ]
    },
    {
     "name": "stdout",
     "output_type": "stream",
     "text": [
      "Starting 120s exposure...\n"
     ]
    },
    {
     "name": "stderr",
     "output_type": "stream",
     "text": [
      "INFO:pyscope.observatory.observatory:Using Maxim to save image\n",
      "INFO:pyscope.observatory.observatory:Overwrite allowed for header keys ['AIRMASS', 'OBJECT', 'TELESCOP', 'INSTRUME', 'OBSERVER']\n",
      "INFO:pyscope.observatory.observatory:Getting header from MaxIm image\n"
     ]
    },
    {
     "name": "stdout",
     "output_type": "stream",
     "text": [
      "Starting 30s exposure...\n"
     ]
    },
    {
     "name": "stderr",
     "output_type": "stream",
     "text": [
      "INFO:pyscope.observatory.observatory:Using Maxim to save image\n",
      "INFO:pyscope.observatory.observatory:Overwrite allowed for header keys ['AIRMASS', 'OBJECT', 'TELESCOP', 'INSTRUME', 'OBSERVER']\n",
      "INFO:pyscope.observatory.observatory:Getting header from MaxIm image\n"
     ]
    },
    {
     "name": "stdout",
     "output_type": "stream",
     "text": [
      "Starting 30s exposure...\n"
     ]
    },
    {
     "name": "stderr",
     "output_type": "stream",
     "text": [
      "INFO:pyscope.observatory.observatory:Using Maxim to save image\n",
      "INFO:pyscope.observatory.observatory:Overwrite allowed for header keys ['AIRMASS', 'OBJECT', 'TELESCOP', 'INSTRUME', 'OBSERVER']\n",
      "INFO:pyscope.observatory.observatory:Getting header from MaxIm image\n"
     ]
    },
    {
     "name": "stdout",
     "output_type": "stream",
     "text": [
      "Starting 30s exposure...\n"
     ]
    },
    {
     "name": "stderr",
     "output_type": "stream",
     "text": [
      "INFO:pyscope.observatory.observatory:Using Maxim to save image\n",
      "INFO:pyscope.observatory.observatory:Overwrite allowed for header keys ['AIRMASS', 'OBJECT', 'TELESCOP', 'INSTRUME', 'OBSERVER']\n",
      "INFO:pyscope.observatory.observatory:Getting header from MaxIm image\n"
     ]
    },
    {
     "name": "stdout",
     "output_type": "stream",
     "text": [
      "Starting 30s exposure...\n"
     ]
    },
    {
     "name": "stderr",
     "output_type": "stream",
     "text": [
      "INFO:pyscope.observatory.observatory:Using Maxim to save image\n",
      "INFO:pyscope.observatory.observatory:Overwrite allowed for header keys ['AIRMASS', 'OBJECT', 'TELESCOP', 'INSTRUME', 'OBSERVER']\n",
      "INFO:pyscope.observatory.observatory:Getting header from MaxIm image\n"
     ]
    },
    {
     "name": "stdout",
     "output_type": "stream",
     "text": [
      "Starting 30s exposure...\n"
     ]
    },
    {
     "name": "stderr",
     "output_type": "stream",
     "text": [
      "INFO:pyscope.observatory.observatory:Using Maxim to save image\n",
      "INFO:pyscope.observatory.observatory:Overwrite allowed for header keys ['AIRMASS', 'OBJECT', 'TELESCOP', 'INSTRUME', 'OBSERVER']\n",
      "INFO:pyscope.observatory.observatory:Getting header from MaxIm image\n"
     ]
    },
    {
     "name": "stdout",
     "output_type": "stream",
     "text": [
      "Starting 30s exposure...\n"
     ]
    },
    {
     "name": "stderr",
     "output_type": "stream",
     "text": [
      "INFO:pyscope.observatory.observatory:Using Maxim to save image\n",
      "INFO:pyscope.observatory.observatory:Overwrite allowed for header keys ['AIRMASS', 'OBJECT', 'TELESCOP', 'INSTRUME', 'OBSERVER']\n",
      "INFO:pyscope.observatory.observatory:Getting header from MaxIm image\n"
     ]
    },
    {
     "name": "stdout",
     "output_type": "stream",
     "text": [
      "Starting 120s exposure...\n"
     ]
    },
    {
     "name": "stderr",
     "output_type": "stream",
     "text": [
      "INFO:pyscope.observatory.observatory:Using Maxim to save image\n",
      "INFO:pyscope.observatory.observatory:Overwrite allowed for header keys ['AIRMASS', 'OBJECT', 'TELESCOP', 'INSTRUME', 'OBSERVER']\n",
      "INFO:pyscope.observatory.observatory:Getting header from MaxIm image\n"
     ]
    },
    {
     "name": "stdout",
     "output_type": "stream",
     "text": [
      "Starting 30s exposure...\n"
     ]
    },
    {
     "name": "stderr",
     "output_type": "stream",
     "text": [
      "INFO:pyscope.observatory.observatory:Using Maxim to save image\n",
      "INFO:pyscope.observatory.observatory:Overwrite allowed for header keys ['AIRMASS', 'OBJECT', 'TELESCOP', 'INSTRUME', 'OBSERVER']\n",
      "INFO:pyscope.observatory.observatory:Getting header from MaxIm image\n"
     ]
    },
    {
     "name": "stdout",
     "output_type": "stream",
     "text": [
      "Starting 30s exposure...\n"
     ]
    },
    {
     "name": "stderr",
     "output_type": "stream",
     "text": [
      "INFO:pyscope.observatory.observatory:Using Maxim to save image\n",
      "INFO:pyscope.observatory.observatory:Overwrite allowed for header keys ['AIRMASS', 'OBJECT', 'TELESCOP', 'INSTRUME', 'OBSERVER']\n",
      "INFO:pyscope.observatory.observatory:Getting header from MaxIm image\n"
     ]
    },
    {
     "name": "stdout",
     "output_type": "stream",
     "text": [
      "Starting 30s exposure...\n"
     ]
    },
    {
     "name": "stderr",
     "output_type": "stream",
     "text": [
      "INFO:pyscope.observatory.observatory:Using Maxim to save image\n",
      "INFO:pyscope.observatory.observatory:Overwrite allowed for header keys ['AIRMASS', 'OBJECT', 'TELESCOP', 'INSTRUME', 'OBSERVER']\n",
      "INFO:pyscope.observatory.observatory:Getting header from MaxIm image\n"
     ]
    },
    {
     "name": "stdout",
     "output_type": "stream",
     "text": [
      "Starting 30s exposure...\n"
     ]
    },
    {
     "name": "stderr",
     "output_type": "stream",
     "text": [
      "INFO:pyscope.observatory.observatory:Using Maxim to save image\n",
      "INFO:pyscope.observatory.observatory:Overwrite allowed for header keys ['AIRMASS', 'OBJECT', 'TELESCOP', 'INSTRUME', 'OBSERVER']\n",
      "INFO:pyscope.observatory.observatory:Getting header from MaxIm image\n"
     ]
    },
    {
     "name": "stdout",
     "output_type": "stream",
     "text": [
      "Starting 30s exposure...\n"
     ]
    },
    {
     "name": "stderr",
     "output_type": "stream",
     "text": [
      "INFO:pyscope.observatory.observatory:Using Maxim to save image\n",
      "INFO:pyscope.observatory.observatory:Overwrite allowed for header keys ['AIRMASS', 'OBJECT', 'TELESCOP', 'INSTRUME', 'OBSERVER']\n",
      "INFO:pyscope.observatory.observatory:Getting header from MaxIm image\n"
     ]
    },
    {
     "name": "stdout",
     "output_type": "stream",
     "text": [
      "Starting 30s exposure...\n"
     ]
    },
    {
     "name": "stderr",
     "output_type": "stream",
     "text": [
      "INFO:pyscope.observatory.observatory:Using Maxim to save image\n",
      "INFO:pyscope.observatory.observatory:Overwrite allowed for header keys ['AIRMASS', 'OBJECT', 'TELESCOP', 'INSTRUME', 'OBSERVER']\n",
      "INFO:pyscope.observatory.observatory:Getting header from MaxIm image\n"
     ]
    },
    {
     "name": "stdout",
     "output_type": "stream",
     "text": [
      "Starting 120s exposure...\n"
     ]
    },
    {
     "name": "stderr",
     "output_type": "stream",
     "text": [
      "INFO:pyscope.observatory.observatory:Using Maxim to save image\n",
      "INFO:pyscope.observatory.observatory:Overwrite allowed for header keys ['AIRMASS', 'OBJECT', 'TELESCOP', 'INSTRUME', 'OBSERVER']\n",
      "INFO:pyscope.observatory.observatory:Getting header from MaxIm image\n"
     ]
    },
    {
     "name": "stdout",
     "output_type": "stream",
     "text": [
      "Starting 30s exposure...\n"
     ]
    },
    {
     "name": "stderr",
     "output_type": "stream",
     "text": [
      "INFO:pyscope.observatory.observatory:Using Maxim to save image\n",
      "INFO:pyscope.observatory.observatory:Overwrite allowed for header keys ['AIRMASS', 'OBJECT', 'TELESCOP', 'INSTRUME', 'OBSERVER']\n",
      "INFO:pyscope.observatory.observatory:Getting header from MaxIm image\n"
     ]
    },
    {
     "name": "stdout",
     "output_type": "stream",
     "text": [
      "Starting 30s exposure...\n"
     ]
    },
    {
     "name": "stderr",
     "output_type": "stream",
     "text": [
      "INFO:pyscope.observatory.observatory:Using Maxim to save image\n",
      "INFO:pyscope.observatory.observatory:Overwrite allowed for header keys ['AIRMASS', 'OBJECT', 'TELESCOP', 'INSTRUME', 'OBSERVER']\n",
      "INFO:pyscope.observatory.observatory:Getting header from MaxIm image\n"
     ]
    },
    {
     "name": "stdout",
     "output_type": "stream",
     "text": [
      "Starting 30s exposure...\n"
     ]
    },
    {
     "name": "stderr",
     "output_type": "stream",
     "text": [
      "INFO:pyscope.observatory.observatory:Using Maxim to save image\n",
      "INFO:pyscope.observatory.observatory:Overwrite allowed for header keys ['AIRMASS', 'OBJECT', 'TELESCOP', 'INSTRUME', 'OBSERVER']\n",
      "INFO:pyscope.observatory.observatory:Getting header from MaxIm image\n"
     ]
    },
    {
     "name": "stdout",
     "output_type": "stream",
     "text": [
      "Starting 30s exposure...\n"
     ]
    },
    {
     "name": "stderr",
     "output_type": "stream",
     "text": [
      "INFO:pyscope.observatory.observatory:Using Maxim to save image\n",
      "INFO:pyscope.observatory.observatory:Overwrite allowed for header keys ['AIRMASS', 'OBJECT', 'TELESCOP', 'INSTRUME', 'OBSERVER']\n",
      "INFO:pyscope.observatory.observatory:Getting header from MaxIm image\n"
     ]
    },
    {
     "name": "stdout",
     "output_type": "stream",
     "text": [
      "Starting 30s exposure...\n"
     ]
    },
    {
     "name": "stderr",
     "output_type": "stream",
     "text": [
      "INFO:pyscope.observatory.observatory:Using Maxim to save image\n",
      "INFO:pyscope.observatory.observatory:Overwrite allowed for header keys ['AIRMASS', 'OBJECT', 'TELESCOP', 'INSTRUME', 'OBSERVER']\n",
      "INFO:pyscope.observatory.observatory:Getting header from MaxIm image\n"
     ]
    },
    {
     "name": "stdout",
     "output_type": "stream",
     "text": [
      "Starting 30s exposure...\n"
     ]
    },
    {
     "name": "stderr",
     "output_type": "stream",
     "text": [
      "INFO:pyscope.observatory.observatory:Using Maxim to save image\n",
      "INFO:pyscope.observatory.observatory:Overwrite allowed for header keys ['AIRMASS', 'OBJECT', 'TELESCOP', 'INSTRUME', 'OBSERVER']\n",
      "INFO:pyscope.observatory.observatory:Getting header from MaxIm image\n"
     ]
    },
    {
     "name": "stdout",
     "output_type": "stream",
     "text": [
      "Starting 120s exposure...\n"
     ]
    },
    {
     "name": "stderr",
     "output_type": "stream",
     "text": [
      "INFO:pyscope.observatory.observatory:Using Maxim to save image\n",
      "INFO:pyscope.observatory.observatory:Overwrite allowed for header keys ['AIRMASS', 'OBJECT', 'TELESCOP', 'INSTRUME', 'OBSERVER']\n",
      "INFO:pyscope.observatory.observatory:Getting header from MaxIm image\n"
     ]
    },
    {
     "name": "stdout",
     "output_type": "stream",
     "text": [
      "Starting 30s exposure...\n"
     ]
    },
    {
     "name": "stderr",
     "output_type": "stream",
     "text": [
      "INFO:pyscope.observatory.observatory:Using Maxim to save image\n",
      "INFO:pyscope.observatory.observatory:Overwrite allowed for header keys ['AIRMASS', 'OBJECT', 'TELESCOP', 'INSTRUME', 'OBSERVER']\n",
      "INFO:pyscope.observatory.observatory:Getting header from MaxIm image\n"
     ]
    },
    {
     "name": "stdout",
     "output_type": "stream",
     "text": [
      "Starting 30s exposure...\n"
     ]
    },
    {
     "name": "stderr",
     "output_type": "stream",
     "text": [
      "INFO:pyscope.observatory.observatory:Using Maxim to save image\n",
      "INFO:pyscope.observatory.observatory:Overwrite allowed for header keys ['AIRMASS', 'OBJECT', 'TELESCOP', 'INSTRUME', 'OBSERVER']\n",
      "INFO:pyscope.observatory.observatory:Getting header from MaxIm image\n"
     ]
    },
    {
     "name": "stdout",
     "output_type": "stream",
     "text": [
      "Starting 30s exposure...\n"
     ]
    },
    {
     "name": "stderr",
     "output_type": "stream",
     "text": [
      "INFO:pyscope.observatory.observatory:Using Maxim to save image\n",
      "INFO:pyscope.observatory.observatory:Overwrite allowed for header keys ['AIRMASS', 'OBJECT', 'TELESCOP', 'INSTRUME', 'OBSERVER']\n",
      "INFO:pyscope.observatory.observatory:Getting header from MaxIm image\n"
     ]
    },
    {
     "name": "stdout",
     "output_type": "stream",
     "text": [
      "Starting 30s exposure...\n"
     ]
    },
    {
     "name": "stderr",
     "output_type": "stream",
     "text": [
      "INFO:pyscope.observatory.observatory:Using Maxim to save image\n",
      "INFO:pyscope.observatory.observatory:Overwrite allowed for header keys ['AIRMASS', 'OBJECT', 'TELESCOP', 'INSTRUME', 'OBSERVER']\n",
      "INFO:pyscope.observatory.observatory:Getting header from MaxIm image\n"
     ]
    },
    {
     "name": "stdout",
     "output_type": "stream",
     "text": [
      "Starting 30s exposure...\n"
     ]
    },
    {
     "name": "stderr",
     "output_type": "stream",
     "text": [
      "INFO:pyscope.observatory.observatory:Using Maxim to save image\n",
      "INFO:pyscope.observatory.observatory:Overwrite allowed for header keys ['AIRMASS', 'OBJECT', 'TELESCOP', 'INSTRUME', 'OBSERVER']\n",
      "INFO:pyscope.observatory.observatory:Getting header from MaxIm image\n"
     ]
    },
    {
     "name": "stdout",
     "output_type": "stream",
     "text": [
      "Starting 30s exposure...\n"
     ]
    },
    {
     "name": "stderr",
     "output_type": "stream",
     "text": [
      "INFO:pyscope.observatory.observatory:Using Maxim to save image\n",
      "INFO:pyscope.observatory.observatory:Overwrite allowed for header keys ['AIRMASS', 'OBJECT', 'TELESCOP', 'INSTRUME', 'OBSERVER']\n",
      "INFO:pyscope.observatory.observatory:Getting header from MaxIm image\n"
     ]
    },
    {
     "name": "stdout",
     "output_type": "stream",
     "text": [
      "Starting 120s exposure...\n"
     ]
    },
    {
     "name": "stderr",
     "output_type": "stream",
     "text": [
      "INFO:pyscope.observatory.observatory:Using Maxim to save image\n",
      "INFO:pyscope.observatory.observatory:Overwrite allowed for header keys ['AIRMASS', 'OBJECT', 'TELESCOP', 'INSTRUME', 'OBSERVER']\n",
      "INFO:pyscope.observatory.observatory:Getting header from MaxIm image\n"
     ]
    },
    {
     "name": "stdout",
     "output_type": "stream",
     "text": [
      "Starting 30s exposure...\n"
     ]
    },
    {
     "name": "stderr",
     "output_type": "stream",
     "text": [
      "INFO:pyscope.observatory.observatory:Using Maxim to save image\n",
      "INFO:pyscope.observatory.observatory:Overwrite allowed for header keys ['AIRMASS', 'OBJECT', 'TELESCOP', 'INSTRUME', 'OBSERVER']\n",
      "INFO:pyscope.observatory.observatory:Getting header from MaxIm image\n"
     ]
    },
    {
     "name": "stdout",
     "output_type": "stream",
     "text": [
      "Starting 30s exposure...\n"
     ]
    },
    {
     "name": "stderr",
     "output_type": "stream",
     "text": [
      "INFO:pyscope.observatory.observatory:Using Maxim to save image\n",
      "INFO:pyscope.observatory.observatory:Overwrite allowed for header keys ['AIRMASS', 'OBJECT', 'TELESCOP', 'INSTRUME', 'OBSERVER']\n",
      "INFO:pyscope.observatory.observatory:Getting header from MaxIm image\n"
     ]
    },
    {
     "name": "stdout",
     "output_type": "stream",
     "text": [
      "Starting 30s exposure...\n"
     ]
    },
    {
     "name": "stderr",
     "output_type": "stream",
     "text": [
      "INFO:pyscope.observatory.observatory:Using Maxim to save image\n",
      "INFO:pyscope.observatory.observatory:Overwrite allowed for header keys ['AIRMASS', 'OBJECT', 'TELESCOP', 'INSTRUME', 'OBSERVER']\n",
      "INFO:pyscope.observatory.observatory:Getting header from MaxIm image\n"
     ]
    },
    {
     "name": "stdout",
     "output_type": "stream",
     "text": [
      "Starting 30s exposure...\n"
     ]
    },
    {
     "name": "stderr",
     "output_type": "stream",
     "text": [
      "INFO:pyscope.observatory.observatory:Using Maxim to save image\n",
      "INFO:pyscope.observatory.observatory:Overwrite allowed for header keys ['AIRMASS', 'OBJECT', 'TELESCOP', 'INSTRUME', 'OBSERVER']\n",
      "INFO:pyscope.observatory.observatory:Getting header from MaxIm image\n"
     ]
    },
    {
     "name": "stdout",
     "output_type": "stream",
     "text": [
      "Starting 30s exposure...\n"
     ]
    },
    {
     "name": "stderr",
     "output_type": "stream",
     "text": [
      "INFO:pyscope.observatory.observatory:Using Maxim to save image\n",
      "INFO:pyscope.observatory.observatory:Overwrite allowed for header keys ['AIRMASS', 'OBJECT', 'TELESCOP', 'INSTRUME', 'OBSERVER']\n",
      "INFO:pyscope.observatory.observatory:Getting header from MaxIm image\n"
     ]
    },
    {
     "name": "stdout",
     "output_type": "stream",
     "text": [
      "Starting 30s exposure...\n"
     ]
    },
    {
     "name": "stderr",
     "output_type": "stream",
     "text": [
      "INFO:pyscope.observatory.observatory:Using Maxim to save image\n",
      "INFO:pyscope.observatory.observatory:Overwrite allowed for header keys ['AIRMASS', 'OBJECT', 'TELESCOP', 'INSTRUME', 'OBSERVER']\n",
      "INFO:pyscope.observatory.observatory:Getting header from MaxIm image\n"
     ]
    },
    {
     "name": "stdout",
     "output_type": "stream",
     "text": [
      "Starting 120s exposure...\n"
     ]
    },
    {
     "name": "stderr",
     "output_type": "stream",
     "text": [
      "INFO:pyscope.observatory.observatory:Using Maxim to save image\n",
      "INFO:pyscope.observatory.observatory:Overwrite allowed for header keys ['AIRMASS', 'OBJECT', 'TELESCOP', 'INSTRUME', 'OBSERVER']\n",
      "INFO:pyscope.observatory.observatory:Getting header from MaxIm image\n"
     ]
    },
    {
     "name": "stdout",
     "output_type": "stream",
     "text": [
      "Starting 30s exposure...\n"
     ]
    },
    {
     "name": "stderr",
     "output_type": "stream",
     "text": [
      "INFO:pyscope.observatory.observatory:Using Maxim to save image\n",
      "INFO:pyscope.observatory.observatory:Overwrite allowed for header keys ['AIRMASS', 'OBJECT', 'TELESCOP', 'INSTRUME', 'OBSERVER']\n",
      "INFO:pyscope.observatory.observatory:Getting header from MaxIm image\n"
     ]
    },
    {
     "name": "stdout",
     "output_type": "stream",
     "text": [
      "Starting 30s exposure...\n"
     ]
    },
    {
     "name": "stderr",
     "output_type": "stream",
     "text": [
      "INFO:pyscope.observatory.observatory:Using Maxim to save image\n",
      "INFO:pyscope.observatory.observatory:Overwrite allowed for header keys ['AIRMASS', 'OBJECT', 'TELESCOP', 'INSTRUME', 'OBSERVER']\n",
      "INFO:pyscope.observatory.observatory:Getting header from MaxIm image\n"
     ]
    },
    {
     "name": "stdout",
     "output_type": "stream",
     "text": [
      "Starting 30s exposure...\n"
     ]
    },
    {
     "name": "stderr",
     "output_type": "stream",
     "text": [
      "INFO:pyscope.observatory.observatory:Using Maxim to save image\n",
      "INFO:pyscope.observatory.observatory:Overwrite allowed for header keys ['AIRMASS', 'OBJECT', 'TELESCOP', 'INSTRUME', 'OBSERVER']\n",
      "INFO:pyscope.observatory.observatory:Getting header from MaxIm image\n"
     ]
    },
    {
     "name": "stdout",
     "output_type": "stream",
     "text": [
      "Starting 30s exposure...\n"
     ]
    },
    {
     "name": "stderr",
     "output_type": "stream",
     "text": [
      "INFO:pyscope.observatory.observatory:Using Maxim to save image\n",
      "INFO:pyscope.observatory.observatory:Overwrite allowed for header keys ['AIRMASS', 'OBJECT', 'TELESCOP', 'INSTRUME', 'OBSERVER']\n",
      "INFO:pyscope.observatory.observatory:Getting header from MaxIm image\n"
     ]
    },
    {
     "name": "stdout",
     "output_type": "stream",
     "text": [
      "Starting 30s exposure...\n"
     ]
    },
    {
     "name": "stderr",
     "output_type": "stream",
     "text": [
      "INFO:pyscope.observatory.observatory:Using Maxim to save image\n",
      "INFO:pyscope.observatory.observatory:Overwrite allowed for header keys ['AIRMASS', 'OBJECT', 'TELESCOP', 'INSTRUME', 'OBSERVER']\n",
      "INFO:pyscope.observatory.observatory:Getting header from MaxIm image\n"
     ]
    },
    {
     "name": "stdout",
     "output_type": "stream",
     "text": [
      "Starting 30s exposure...\n"
     ]
    },
    {
     "name": "stderr",
     "output_type": "stream",
     "text": [
      "INFO:pyscope.observatory.observatory:Using Maxim to save image\n",
      "INFO:pyscope.observatory.observatory:Overwrite allowed for header keys ['AIRMASS', 'OBJECT', 'TELESCOP', 'INSTRUME', 'OBSERVER']\n",
      "INFO:pyscope.observatory.observatory:Getting header from MaxIm image\n"
     ]
    },
    {
     "name": "stdout",
     "output_type": "stream",
     "text": [
      "Starting 120s exposure...\n"
     ]
    },
    {
     "name": "stderr",
     "output_type": "stream",
     "text": [
      "INFO:pyscope.observatory.observatory:Using Maxim to save image\n",
      "INFO:pyscope.observatory.observatory:Overwrite allowed for header keys ['AIRMASS', 'OBJECT', 'TELESCOP', 'INSTRUME', 'OBSERVER']\n",
      "INFO:pyscope.observatory.observatory:Getting header from MaxIm image\n"
     ]
    },
    {
     "name": "stdout",
     "output_type": "stream",
     "text": [
      "Starting 30s exposure...\n"
     ]
    },
    {
     "name": "stderr",
     "output_type": "stream",
     "text": [
      "INFO:pyscope.observatory.observatory:Using Maxim to save image\n",
      "INFO:pyscope.observatory.observatory:Overwrite allowed for header keys ['AIRMASS', 'OBJECT', 'TELESCOP', 'INSTRUME', 'OBSERVER']\n",
      "INFO:pyscope.observatory.observatory:Getting header from MaxIm image\n"
     ]
    },
    {
     "name": "stdout",
     "output_type": "stream",
     "text": [
      "Starting 30s exposure...\n"
     ]
    },
    {
     "name": "stderr",
     "output_type": "stream",
     "text": [
      "INFO:pyscope.observatory.observatory:Using Maxim to save image\n",
      "INFO:pyscope.observatory.observatory:Overwrite allowed for header keys ['AIRMASS', 'OBJECT', 'TELESCOP', 'INSTRUME', 'OBSERVER']\n",
      "INFO:pyscope.observatory.observatory:Getting header from MaxIm image\n"
     ]
    },
    {
     "name": "stdout",
     "output_type": "stream",
     "text": [
      "Starting 30s exposure...\n"
     ]
    },
    {
     "name": "stderr",
     "output_type": "stream",
     "text": [
      "INFO:pyscope.observatory.observatory:Using Maxim to save image\n",
      "INFO:pyscope.observatory.observatory:Overwrite allowed for header keys ['AIRMASS', 'OBJECT', 'TELESCOP', 'INSTRUME', 'OBSERVER']\n",
      "INFO:pyscope.observatory.observatory:Getting header from MaxIm image\n"
     ]
    },
    {
     "name": "stdout",
     "output_type": "stream",
     "text": [
      "Starting 30s exposure...\n"
     ]
    },
    {
     "name": "stderr",
     "output_type": "stream",
     "text": [
      "INFO:pyscope.observatory.observatory:Using Maxim to save image\n",
      "INFO:pyscope.observatory.observatory:Overwrite allowed for header keys ['AIRMASS', 'OBJECT', 'TELESCOP', 'INSTRUME', 'OBSERVER']\n",
      "INFO:pyscope.observatory.observatory:Getting header from MaxIm image\n"
     ]
    },
    {
     "name": "stdout",
     "output_type": "stream",
     "text": [
      "Starting 30s exposure...\n"
     ]
    },
    {
     "name": "stderr",
     "output_type": "stream",
     "text": [
      "INFO:pyscope.observatory.observatory:Using Maxim to save image\n",
      "INFO:pyscope.observatory.observatory:Overwrite allowed for header keys ['AIRMASS', 'OBJECT', 'TELESCOP', 'INSTRUME', 'OBSERVER']\n",
      "INFO:pyscope.observatory.observatory:Getting header from MaxIm image\n"
     ]
    },
    {
     "name": "stdout",
     "output_type": "stream",
     "text": [
      "Starting 30s exposure...\n"
     ]
    },
    {
     "name": "stderr",
     "output_type": "stream",
     "text": [
      "INFO:pyscope.observatory.observatory:Using Maxim to save image\n",
      "INFO:pyscope.observatory.observatory:Overwrite allowed for header keys ['AIRMASS', 'OBJECT', 'TELESCOP', 'INSTRUME', 'OBSERVER']\n",
      "INFO:pyscope.observatory.observatory:Getting header from MaxIm image\n"
     ]
    },
    {
     "name": "stdout",
     "output_type": "stream",
     "text": [
      "Starting 120s exposure...\n"
     ]
    },
    {
     "name": "stderr",
     "output_type": "stream",
     "text": [
      "INFO:pyscope.observatory.observatory:Using Maxim to save image\n",
      "INFO:pyscope.observatory.observatory:Overwrite allowed for header keys ['AIRMASS', 'OBJECT', 'TELESCOP', 'INSTRUME', 'OBSERVER']\n",
      "INFO:pyscope.observatory.observatory:Getting header from MaxIm image\n"
     ]
    },
    {
     "name": "stdout",
     "output_type": "stream",
     "text": [
      "Starting 30s exposure...\n"
     ]
    },
    {
     "name": "stderr",
     "output_type": "stream",
     "text": [
      "INFO:pyscope.observatory.observatory:Using Maxim to save image\n",
      "INFO:pyscope.observatory.observatory:Overwrite allowed for header keys ['AIRMASS', 'OBJECT', 'TELESCOP', 'INSTRUME', 'OBSERVER']\n",
      "INFO:pyscope.observatory.observatory:Getting header from MaxIm image\n"
     ]
    },
    {
     "name": "stdout",
     "output_type": "stream",
     "text": [
      "Starting 30s exposure...\n"
     ]
    },
    {
     "name": "stderr",
     "output_type": "stream",
     "text": [
      "INFO:pyscope.observatory.observatory:Using Maxim to save image\n",
      "INFO:pyscope.observatory.observatory:Overwrite allowed for header keys ['AIRMASS', 'OBJECT', 'TELESCOP', 'INSTRUME', 'OBSERVER']\n",
      "INFO:pyscope.observatory.observatory:Getting header from MaxIm image\n"
     ]
    },
    {
     "name": "stdout",
     "output_type": "stream",
     "text": [
      "Starting 30s exposure...\n"
     ]
    },
    {
     "name": "stderr",
     "output_type": "stream",
     "text": [
      "INFO:pyscope.observatory.observatory:Using Maxim to save image\n",
      "INFO:pyscope.observatory.observatory:Overwrite allowed for header keys ['AIRMASS', 'OBJECT', 'TELESCOP', 'INSTRUME', 'OBSERVER']\n",
      "INFO:pyscope.observatory.observatory:Getting header from MaxIm image\n"
     ]
    },
    {
     "name": "stdout",
     "output_type": "stream",
     "text": [
      "Starting 30s exposure...\n"
     ]
    },
    {
     "name": "stderr",
     "output_type": "stream",
     "text": [
      "INFO:pyscope.observatory.observatory:Using Maxim to save image\n",
      "INFO:pyscope.observatory.observatory:Overwrite allowed for header keys ['AIRMASS', 'OBJECT', 'TELESCOP', 'INSTRUME', 'OBSERVER']\n",
      "INFO:pyscope.observatory.observatory:Getting header from MaxIm image\n"
     ]
    },
    {
     "name": "stdout",
     "output_type": "stream",
     "text": [
      "Starting 30s exposure...\n"
     ]
    },
    {
     "name": "stderr",
     "output_type": "stream",
     "text": [
      "INFO:pyscope.observatory.observatory:Using Maxim to save image\n",
      "INFO:pyscope.observatory.observatory:Overwrite allowed for header keys ['AIRMASS', 'OBJECT', 'TELESCOP', 'INSTRUME', 'OBSERVER']\n",
      "INFO:pyscope.observatory.observatory:Getting header from MaxIm image\n"
     ]
    },
    {
     "name": "stdout",
     "output_type": "stream",
     "text": [
      "Starting 30s exposure...\n"
     ]
    },
    {
     "name": "stderr",
     "output_type": "stream",
     "text": [
      "INFO:pyscope.observatory.observatory:Using Maxim to save image\n",
      "INFO:pyscope.observatory.observatory:Overwrite allowed for header keys ['AIRMASS', 'OBJECT', 'TELESCOP', 'INSTRUME', 'OBSERVER']\n",
      "INFO:pyscope.observatory.observatory:Getting header from MaxIm image\n"
     ]
    },
    {
     "name": "stdout",
     "output_type": "stream",
     "text": [
      "Starting 120s exposure...\n"
     ]
    },
    {
     "name": "stderr",
     "output_type": "stream",
     "text": [
      "INFO:pyscope.observatory.observatory:Using Maxim to save image\n",
      "INFO:pyscope.observatory.observatory:Overwrite allowed for header keys ['AIRMASS', 'OBJECT', 'TELESCOP', 'INSTRUME', 'OBSERVER']\n",
      "INFO:pyscope.observatory.observatory:Getting header from MaxIm image\n"
     ]
    },
    {
     "name": "stdout",
     "output_type": "stream",
     "text": [
      "Starting 30s exposure...\n"
     ]
    },
    {
     "name": "stderr",
     "output_type": "stream",
     "text": [
      "INFO:pyscope.observatory.observatory:Using Maxim to save image\n",
      "INFO:pyscope.observatory.observatory:Overwrite allowed for header keys ['AIRMASS', 'OBJECT', 'TELESCOP', 'INSTRUME', 'OBSERVER']\n",
      "INFO:pyscope.observatory.observatory:Getting header from MaxIm image\n"
     ]
    },
    {
     "name": "stdout",
     "output_type": "stream",
     "text": [
      "Starting 30s exposure...\n"
     ]
    },
    {
     "name": "stderr",
     "output_type": "stream",
     "text": [
      "INFO:pyscope.observatory.observatory:Using Maxim to save image\n",
      "INFO:pyscope.observatory.observatory:Overwrite allowed for header keys ['AIRMASS', 'OBJECT', 'TELESCOP', 'INSTRUME', 'OBSERVER']\n",
      "INFO:pyscope.observatory.observatory:Getting header from MaxIm image\n"
     ]
    },
    {
     "name": "stdout",
     "output_type": "stream",
     "text": [
      "Starting 30s exposure...\n"
     ]
    },
    {
     "name": "stderr",
     "output_type": "stream",
     "text": [
      "INFO:pyscope.observatory.observatory:Using Maxim to save image\n",
      "INFO:pyscope.observatory.observatory:Overwrite allowed for header keys ['AIRMASS', 'OBJECT', 'TELESCOP', 'INSTRUME', 'OBSERVER']\n",
      "INFO:pyscope.observatory.observatory:Getting header from MaxIm image\n"
     ]
    },
    {
     "name": "stdout",
     "output_type": "stream",
     "text": [
      "Starting 30s exposure...\n"
     ]
    },
    {
     "name": "stderr",
     "output_type": "stream",
     "text": [
      "INFO:pyscope.observatory.observatory:Using Maxim to save image\n",
      "INFO:pyscope.observatory.observatory:Overwrite allowed for header keys ['AIRMASS', 'OBJECT', 'TELESCOP', 'INSTRUME', 'OBSERVER']\n",
      "INFO:pyscope.observatory.observatory:Getting header from MaxIm image\n"
     ]
    },
    {
     "name": "stdout",
     "output_type": "stream",
     "text": [
      "Starting 30s exposure...\n"
     ]
    },
    {
     "name": "stderr",
     "output_type": "stream",
     "text": [
      "INFO:pyscope.observatory.observatory:Using Maxim to save image\n",
      "INFO:pyscope.observatory.observatory:Overwrite allowed for header keys ['AIRMASS', 'OBJECT', 'TELESCOP', 'INSTRUME', 'OBSERVER']\n",
      "INFO:pyscope.observatory.observatory:Getting header from MaxIm image\n"
     ]
    },
    {
     "name": "stdout",
     "output_type": "stream",
     "text": [
      "Starting 30s exposure...\n"
     ]
    },
    {
     "name": "stderr",
     "output_type": "stream",
     "text": [
      "INFO:pyscope.observatory.observatory:Using Maxim to save image\n",
      "INFO:pyscope.observatory.observatory:Overwrite allowed for header keys ['AIRMASS', 'OBJECT', 'TELESCOP', 'INSTRUME', 'OBSERVER']\n",
      "INFO:pyscope.observatory.observatory:Getting header from MaxIm image\n"
     ]
    },
    {
     "name": "stdout",
     "output_type": "stream",
     "text": [
      "Starting 120s exposure...\n"
     ]
    },
    {
     "name": "stderr",
     "output_type": "stream",
     "text": [
      "INFO:pyscope.observatory.observatory:Using Maxim to save image\n",
      "INFO:pyscope.observatory.observatory:Overwrite allowed for header keys ['AIRMASS', 'OBJECT', 'TELESCOP', 'INSTRUME', 'OBSERVER']\n",
      "INFO:pyscope.observatory.observatory:Getting header from MaxIm image\n"
     ]
    },
    {
     "name": "stdout",
     "output_type": "stream",
     "text": [
      "Starting 30s exposure...\n"
     ]
    },
    {
     "name": "stderr",
     "output_type": "stream",
     "text": [
      "INFO:pyscope.observatory.observatory:Using Maxim to save image\n",
      "INFO:pyscope.observatory.observatory:Overwrite allowed for header keys ['AIRMASS', 'OBJECT', 'TELESCOP', 'INSTRUME', 'OBSERVER']\n",
      "INFO:pyscope.observatory.observatory:Getting header from MaxIm image\n"
     ]
    },
    {
     "name": "stdout",
     "output_type": "stream",
     "text": [
      "Starting 30s exposure...\n"
     ]
    },
    {
     "name": "stderr",
     "output_type": "stream",
     "text": [
      "INFO:pyscope.observatory.observatory:Using Maxim to save image\n",
      "INFO:pyscope.observatory.observatory:Overwrite allowed for header keys ['AIRMASS', 'OBJECT', 'TELESCOP', 'INSTRUME', 'OBSERVER']\n",
      "INFO:pyscope.observatory.observatory:Getting header from MaxIm image\n"
     ]
    },
    {
     "name": "stdout",
     "output_type": "stream",
     "text": [
      "Starting 30s exposure...\n"
     ]
    },
    {
     "name": "stderr",
     "output_type": "stream",
     "text": [
      "INFO:pyscope.observatory.observatory:Using Maxim to save image\n",
      "INFO:pyscope.observatory.observatory:Overwrite allowed for header keys ['AIRMASS', 'OBJECT', 'TELESCOP', 'INSTRUME', 'OBSERVER']\n",
      "INFO:pyscope.observatory.observatory:Getting header from MaxIm image\n"
     ]
    },
    {
     "name": "stdout",
     "output_type": "stream",
     "text": [
      "Starting 30s exposure...\n"
     ]
    },
    {
     "name": "stderr",
     "output_type": "stream",
     "text": [
      "INFO:pyscope.observatory.observatory:Using Maxim to save image\n",
      "INFO:pyscope.observatory.observatory:Overwrite allowed for header keys ['AIRMASS', 'OBJECT', 'TELESCOP', 'INSTRUME', 'OBSERVER']\n",
      "INFO:pyscope.observatory.observatory:Getting header from MaxIm image\n"
     ]
    },
    {
     "name": "stdout",
     "output_type": "stream",
     "text": [
      "Starting 30s exposure...\n"
     ]
    },
    {
     "name": "stderr",
     "output_type": "stream",
     "text": [
      "INFO:pyscope.observatory.observatory:Using Maxim to save image\n",
      "INFO:pyscope.observatory.observatory:Overwrite allowed for header keys ['AIRMASS', 'OBJECT', 'TELESCOP', 'INSTRUME', 'OBSERVER']\n",
      "INFO:pyscope.observatory.observatory:Getting header from MaxIm image\n"
     ]
    },
    {
     "name": "stdout",
     "output_type": "stream",
     "text": [
      "Starting 30s exposure...\n"
     ]
    },
    {
     "name": "stderr",
     "output_type": "stream",
     "text": [
      "INFO:pyscope.observatory.observatory:Using Maxim to save image\n",
      "INFO:pyscope.observatory.observatory:Overwrite allowed for header keys ['AIRMASS', 'OBJECT', 'TELESCOP', 'INSTRUME', 'OBSERVER']\n",
      "INFO:pyscope.observatory.observatory:Getting header from MaxIm image\n"
     ]
    },
    {
     "name": "stdout",
     "output_type": "stream",
     "text": [
      "Starting 120s exposure...\n"
     ]
    },
    {
     "name": "stderr",
     "output_type": "stream",
     "text": [
      "INFO:pyscope.observatory.observatory:Using Maxim to save image\n",
      "INFO:pyscope.observatory.observatory:Overwrite allowed for header keys ['AIRMASS', 'OBJECT', 'TELESCOP', 'INSTRUME', 'OBSERVER']\n",
      "INFO:pyscope.observatory.observatory:Getting header from MaxIm image\n"
     ]
    },
    {
     "name": "stdout",
     "output_type": "stream",
     "text": [
      "Starting 30s exposure...\n"
     ]
    },
    {
     "name": "stderr",
     "output_type": "stream",
     "text": [
      "INFO:pyscope.observatory.observatory:Using Maxim to save image\n",
      "INFO:pyscope.observatory.observatory:Overwrite allowed for header keys ['AIRMASS', 'OBJECT', 'TELESCOP', 'INSTRUME', 'OBSERVER']\n",
      "INFO:pyscope.observatory.observatory:Getting header from MaxIm image\n"
     ]
    },
    {
     "name": "stdout",
     "output_type": "stream",
     "text": [
      "Starting 30s exposure...\n"
     ]
    },
    {
     "name": "stderr",
     "output_type": "stream",
     "text": [
      "INFO:pyscope.observatory.observatory:Using Maxim to save image\n",
      "INFO:pyscope.observatory.observatory:Overwrite allowed for header keys ['AIRMASS', 'OBJECT', 'TELESCOP', 'INSTRUME', 'OBSERVER']\n",
      "INFO:pyscope.observatory.observatory:Getting header from MaxIm image\n"
     ]
    },
    {
     "name": "stdout",
     "output_type": "stream",
     "text": [
      "Starting 30s exposure...\n"
     ]
    },
    {
     "name": "stderr",
     "output_type": "stream",
     "text": [
      "INFO:pyscope.observatory.observatory:Using Maxim to save image\n",
      "INFO:pyscope.observatory.observatory:Overwrite allowed for header keys ['AIRMASS', 'OBJECT', 'TELESCOP', 'INSTRUME', 'OBSERVER']\n",
      "INFO:pyscope.observatory.observatory:Getting header from MaxIm image\n"
     ]
    },
    {
     "name": "stdout",
     "output_type": "stream",
     "text": [
      "Starting 30s exposure...\n"
     ]
    },
    {
     "name": "stderr",
     "output_type": "stream",
     "text": [
      "INFO:pyscope.observatory.observatory:Using Maxim to save image\n",
      "INFO:pyscope.observatory.observatory:Overwrite allowed for header keys ['AIRMASS', 'OBJECT', 'TELESCOP', 'INSTRUME', 'OBSERVER']\n",
      "INFO:pyscope.observatory.observatory:Getting header from MaxIm image\n"
     ]
    },
    {
     "name": "stdout",
     "output_type": "stream",
     "text": [
      "Starting 30s exposure...\n"
     ]
    },
    {
     "name": "stderr",
     "output_type": "stream",
     "text": [
      "INFO:pyscope.observatory.observatory:Using Maxim to save image\n",
      "INFO:pyscope.observatory.observatory:Overwrite allowed for header keys ['AIRMASS', 'OBJECT', 'TELESCOP', 'INSTRUME', 'OBSERVER']\n",
      "INFO:pyscope.observatory.observatory:Getting header from MaxIm image\n"
     ]
    },
    {
     "name": "stdout",
     "output_type": "stream",
     "text": [
      "Starting 30s exposure...\n"
     ]
    },
    {
     "name": "stderr",
     "output_type": "stream",
     "text": [
      "INFO:pyscope.observatory.observatory:Using Maxim to save image\n",
      "INFO:pyscope.observatory.observatory:Overwrite allowed for header keys ['AIRMASS', 'OBJECT', 'TELESCOP', 'INSTRUME', 'OBSERVER']\n",
      "INFO:pyscope.observatory.observatory:Getting header from MaxIm image\n"
     ]
    },
    {
     "name": "stdout",
     "output_type": "stream",
     "text": [
      "Starting 120s exposure...\n"
     ]
    },
    {
     "name": "stderr",
     "output_type": "stream",
     "text": [
      "INFO:pyscope.observatory.observatory:Using Maxim to save image\n",
      "INFO:pyscope.observatory.observatory:Overwrite allowed for header keys ['AIRMASS', 'OBJECT', 'TELESCOP', 'INSTRUME', 'OBSERVER']\n",
      "INFO:pyscope.observatory.observatory:Getting header from MaxIm image\n"
     ]
    },
    {
     "name": "stdout",
     "output_type": "stream",
     "text": [
      "Starting 30s exposure...\n"
     ]
    },
    {
     "name": "stderr",
     "output_type": "stream",
     "text": [
      "INFO:pyscope.observatory.observatory:Using Maxim to save image\n",
      "INFO:pyscope.observatory.observatory:Overwrite allowed for header keys ['AIRMASS', 'OBJECT', 'TELESCOP', 'INSTRUME', 'OBSERVER']\n",
      "INFO:pyscope.observatory.observatory:Getting header from MaxIm image\n"
     ]
    },
    {
     "name": "stdout",
     "output_type": "stream",
     "text": [
      "Starting 30s exposure...\n"
     ]
    },
    {
     "name": "stderr",
     "output_type": "stream",
     "text": [
      "INFO:pyscope.observatory.observatory:Using Maxim to save image\n",
      "INFO:pyscope.observatory.observatory:Overwrite allowed for header keys ['AIRMASS', 'OBJECT', 'TELESCOP', 'INSTRUME', 'OBSERVER']\n",
      "INFO:pyscope.observatory.observatory:Getting header from MaxIm image\n"
     ]
    },
    {
     "name": "stdout",
     "output_type": "stream",
     "text": [
      "Starting 30s exposure...\n"
     ]
    },
    {
     "name": "stderr",
     "output_type": "stream",
     "text": [
      "INFO:pyscope.observatory.observatory:Using Maxim to save image\n",
      "INFO:pyscope.observatory.observatory:Overwrite allowed for header keys ['AIRMASS', 'OBJECT', 'TELESCOP', 'INSTRUME', 'OBSERVER']\n",
      "INFO:pyscope.observatory.observatory:Getting header from MaxIm image\n"
     ]
    },
    {
     "name": "stdout",
     "output_type": "stream",
     "text": [
      "Starting 30s exposure...\n"
     ]
    },
    {
     "name": "stderr",
     "output_type": "stream",
     "text": [
      "INFO:pyscope.observatory.observatory:Using Maxim to save image\n",
      "INFO:pyscope.observatory.observatory:Overwrite allowed for header keys ['AIRMASS', 'OBJECT', 'TELESCOP', 'INSTRUME', 'OBSERVER']\n",
      "INFO:pyscope.observatory.observatory:Getting header from MaxIm image\n"
     ]
    },
    {
     "name": "stdout",
     "output_type": "stream",
     "text": [
      "Starting 30s exposure...\n"
     ]
    },
    {
     "name": "stderr",
     "output_type": "stream",
     "text": [
      "INFO:pyscope.observatory.observatory:Using Maxim to save image\n",
      "INFO:pyscope.observatory.observatory:Overwrite allowed for header keys ['AIRMASS', 'OBJECT', 'TELESCOP', 'INSTRUME', 'OBSERVER']\n",
      "INFO:pyscope.observatory.observatory:Getting header from MaxIm image\n"
     ]
    },
    {
     "name": "stdout",
     "output_type": "stream",
     "text": [
      "Starting 30s exposure...\n"
     ]
    },
    {
     "name": "stderr",
     "output_type": "stream",
     "text": [
      "INFO:pyscope.observatory.observatory:Using Maxim to save image\n",
      "INFO:pyscope.observatory.observatory:Overwrite allowed for header keys ['AIRMASS', 'OBJECT', 'TELESCOP', 'INSTRUME', 'OBSERVER']\n",
      "INFO:pyscope.observatory.observatory:Getting header from MaxIm image\n"
     ]
    },
    {
     "name": "stdout",
     "output_type": "stream",
     "text": [
      "Starting 120s exposure...\n"
     ]
    },
    {
     "name": "stderr",
     "output_type": "stream",
     "text": [
      "INFO:pyscope.observatory.observatory:Using Maxim to save image\n",
      "INFO:pyscope.observatory.observatory:Overwrite allowed for header keys ['AIRMASS', 'OBJECT', 'TELESCOP', 'INSTRUME', 'OBSERVER']\n",
      "INFO:pyscope.observatory.observatory:Getting header from MaxIm image\n"
     ]
    },
    {
     "name": "stdout",
     "output_type": "stream",
     "text": [
      "Starting 30s exposure...\n"
     ]
    },
    {
     "name": "stderr",
     "output_type": "stream",
     "text": [
      "INFO:pyscope.observatory.observatory:Using Maxim to save image\n",
      "INFO:pyscope.observatory.observatory:Overwrite allowed for header keys ['AIRMASS', 'OBJECT', 'TELESCOP', 'INSTRUME', 'OBSERVER']\n",
      "INFO:pyscope.observatory.observatory:Getting header from MaxIm image\n"
     ]
    },
    {
     "name": "stdout",
     "output_type": "stream",
     "text": [
      "Starting 30s exposure...\n"
     ]
    },
    {
     "name": "stderr",
     "output_type": "stream",
     "text": [
      "INFO:pyscope.observatory.observatory:Using Maxim to save image\n",
      "INFO:pyscope.observatory.observatory:Overwrite allowed for header keys ['AIRMASS', 'OBJECT', 'TELESCOP', 'INSTRUME', 'OBSERVER']\n",
      "INFO:pyscope.observatory.observatory:Getting header from MaxIm image\n"
     ]
    },
    {
     "name": "stdout",
     "output_type": "stream",
     "text": [
      "Starting 30s exposure...\n"
     ]
    },
    {
     "name": "stderr",
     "output_type": "stream",
     "text": [
      "INFO:pyscope.observatory.observatory:Using Maxim to save image\n",
      "INFO:pyscope.observatory.observatory:Overwrite allowed for header keys ['AIRMASS', 'OBJECT', 'TELESCOP', 'INSTRUME', 'OBSERVER']\n",
      "INFO:pyscope.observatory.observatory:Getting header from MaxIm image\n"
     ]
    },
    {
     "name": "stdout",
     "output_type": "stream",
     "text": [
      "Starting 30s exposure...\n"
     ]
    },
    {
     "name": "stderr",
     "output_type": "stream",
     "text": [
      "INFO:pyscope.observatory.observatory:Using Maxim to save image\n",
      "INFO:pyscope.observatory.observatory:Overwrite allowed for header keys ['AIRMASS', 'OBJECT', 'TELESCOP', 'INSTRUME', 'OBSERVER']\n",
      "INFO:pyscope.observatory.observatory:Getting header from MaxIm image\n"
     ]
    },
    {
     "name": "stdout",
     "output_type": "stream",
     "text": [
      "Starting 30s exposure...\n"
     ]
    },
    {
     "name": "stderr",
     "output_type": "stream",
     "text": [
      "INFO:pyscope.observatory.observatory:Using Maxim to save image\n",
      "INFO:pyscope.observatory.observatory:Overwrite allowed for header keys ['AIRMASS', 'OBJECT', 'TELESCOP', 'INSTRUME', 'OBSERVER']\n",
      "INFO:pyscope.observatory.observatory:Getting header from MaxIm image\n"
     ]
    },
    {
     "name": "stdout",
     "output_type": "stream",
     "text": [
      "Starting 30s exposure...\n"
     ]
    },
    {
     "name": "stderr",
     "output_type": "stream",
     "text": [
      "INFO:pyscope.observatory.observatory:Using Maxim to save image\n",
      "INFO:pyscope.observatory.observatory:Overwrite allowed for header keys ['AIRMASS', 'OBJECT', 'TELESCOP', 'INSTRUME', 'OBSERVER']\n",
      "INFO:pyscope.observatory.observatory:Getting header from MaxIm image\n"
     ]
    },
    {
     "name": "stdout",
     "output_type": "stream",
     "text": [
      "Starting 120s exposure...\n"
     ]
    },
    {
     "name": "stderr",
     "output_type": "stream",
     "text": [
      "INFO:pyscope.observatory.observatory:Using Maxim to save image\n",
      "INFO:pyscope.observatory.observatory:Overwrite allowed for header keys ['AIRMASS', 'OBJECT', 'TELESCOP', 'INSTRUME', 'OBSERVER']\n",
      "INFO:pyscope.observatory.observatory:Getting header from MaxIm image\n"
     ]
    },
    {
     "name": "stdout",
     "output_type": "stream",
     "text": [
      "Starting 30s exposure...\n"
     ]
    },
    {
     "name": "stderr",
     "output_type": "stream",
     "text": [
      "INFO:pyscope.observatory.observatory:Using Maxim to save image\n",
      "INFO:pyscope.observatory.observatory:Overwrite allowed for header keys ['AIRMASS', 'OBJECT', 'TELESCOP', 'INSTRUME', 'OBSERVER']\n",
      "INFO:pyscope.observatory.observatory:Getting header from MaxIm image\n"
     ]
    },
    {
     "name": "stdout",
     "output_type": "stream",
     "text": [
      "Starting 30s exposure...\n"
     ]
    },
    {
     "name": "stderr",
     "output_type": "stream",
     "text": [
      "INFO:pyscope.observatory.observatory:Using Maxim to save image\n",
      "INFO:pyscope.observatory.observatory:Overwrite allowed for header keys ['AIRMASS', 'OBJECT', 'TELESCOP', 'INSTRUME', 'OBSERVER']\n",
      "INFO:pyscope.observatory.observatory:Getting header from MaxIm image\n"
     ]
    },
    {
     "name": "stdout",
     "output_type": "stream",
     "text": [
      "Starting 30s exposure...\n"
     ]
    },
    {
     "name": "stderr",
     "output_type": "stream",
     "text": [
      "INFO:pyscope.observatory.observatory:Using Maxim to save image\n",
      "INFO:pyscope.observatory.observatory:Overwrite allowed for header keys ['AIRMASS', 'OBJECT', 'TELESCOP', 'INSTRUME', 'OBSERVER']\n",
      "INFO:pyscope.observatory.observatory:Getting header from MaxIm image\n"
     ]
    },
    {
     "name": "stdout",
     "output_type": "stream",
     "text": [
      "Starting 30s exposure...\n"
     ]
    },
    {
     "name": "stderr",
     "output_type": "stream",
     "text": [
      "INFO:pyscope.observatory.observatory:Using Maxim to save image\n",
      "INFO:pyscope.observatory.observatory:Overwrite allowed for header keys ['AIRMASS', 'OBJECT', 'TELESCOP', 'INSTRUME', 'OBSERVER']\n",
      "INFO:pyscope.observatory.observatory:Getting header from MaxIm image\n"
     ]
    },
    {
     "name": "stdout",
     "output_type": "stream",
     "text": [
      "Starting 30s exposure...\n"
     ]
    },
    {
     "name": "stderr",
     "output_type": "stream",
     "text": [
      "INFO:pyscope.observatory.observatory:Using Maxim to save image\n",
      "INFO:pyscope.observatory.observatory:Overwrite allowed for header keys ['AIRMASS', 'OBJECT', 'TELESCOP', 'INSTRUME', 'OBSERVER']\n",
      "INFO:pyscope.observatory.observatory:Getting header from MaxIm image\n"
     ]
    },
    {
     "name": "stdout",
     "output_type": "stream",
     "text": [
      "Starting 30s exposure...\n"
     ]
    },
    {
     "name": "stderr",
     "output_type": "stream",
     "text": [
      "INFO:pyscope.observatory.observatory:Using Maxim to save image\n",
      "INFO:pyscope.observatory.observatory:Overwrite allowed for header keys ['AIRMASS', 'OBJECT', 'TELESCOP', 'INSTRUME', 'OBSERVER']\n",
      "INFO:pyscope.observatory.observatory:Getting header from MaxIm image\n"
     ]
    },
    {
     "name": "stdout",
     "output_type": "stream",
     "text": [
      "Starting 120s exposure...\n"
     ]
    },
    {
     "name": "stderr",
     "output_type": "stream",
     "text": [
      "INFO:pyscope.observatory.observatory:Using Maxim to save image\n",
      "INFO:pyscope.observatory.observatory:Overwrite allowed for header keys ['AIRMASS', 'OBJECT', 'TELESCOP', 'INSTRUME', 'OBSERVER']\n",
      "INFO:pyscope.observatory.observatory:Getting header from MaxIm image\n"
     ]
    },
    {
     "name": "stdout",
     "output_type": "stream",
     "text": [
      "Starting 30s exposure...\n"
     ]
    },
    {
     "name": "stderr",
     "output_type": "stream",
     "text": [
      "INFO:pyscope.observatory.observatory:Using Maxim to save image\n",
      "INFO:pyscope.observatory.observatory:Overwrite allowed for header keys ['AIRMASS', 'OBJECT', 'TELESCOP', 'INSTRUME', 'OBSERVER']\n",
      "INFO:pyscope.observatory.observatory:Getting header from MaxIm image\n"
     ]
    },
    {
     "name": "stdout",
     "output_type": "stream",
     "text": [
      "Starting 30s exposure...\n"
     ]
    },
    {
     "name": "stderr",
     "output_type": "stream",
     "text": [
      "INFO:pyscope.observatory.observatory:Using Maxim to save image\n",
      "INFO:pyscope.observatory.observatory:Overwrite allowed for header keys ['AIRMASS', 'OBJECT', 'TELESCOP', 'INSTRUME', 'OBSERVER']\n",
      "INFO:pyscope.observatory.observatory:Getting header from MaxIm image\n"
     ]
    },
    {
     "name": "stdout",
     "output_type": "stream",
     "text": [
      "Starting 30s exposure...\n"
     ]
    },
    {
     "name": "stderr",
     "output_type": "stream",
     "text": [
      "INFO:pyscope.observatory.observatory:Using Maxim to save image\n",
      "INFO:pyscope.observatory.observatory:Overwrite allowed for header keys ['AIRMASS', 'OBJECT', 'TELESCOP', 'INSTRUME', 'OBSERVER']\n",
      "INFO:pyscope.observatory.observatory:Getting header from MaxIm image\n"
     ]
    },
    {
     "name": "stdout",
     "output_type": "stream",
     "text": [
      "Starting 30s exposure...\n"
     ]
    },
    {
     "name": "stderr",
     "output_type": "stream",
     "text": [
      "INFO:pyscope.observatory.observatory:Using Maxim to save image\n",
      "INFO:pyscope.observatory.observatory:Overwrite allowed for header keys ['AIRMASS', 'OBJECT', 'TELESCOP', 'INSTRUME', 'OBSERVER']\n",
      "INFO:pyscope.observatory.observatory:Getting header from MaxIm image\n"
     ]
    },
    {
     "name": "stdout",
     "output_type": "stream",
     "text": [
      "Starting 30s exposure...\n"
     ]
    },
    {
     "name": "stderr",
     "output_type": "stream",
     "text": [
      "INFO:pyscope.observatory.observatory:Using Maxim to save image\n",
      "INFO:pyscope.observatory.observatory:Overwrite allowed for header keys ['AIRMASS', 'OBJECT', 'TELESCOP', 'INSTRUME', 'OBSERVER']\n",
      "INFO:pyscope.observatory.observatory:Getting header from MaxIm image\n"
     ]
    },
    {
     "name": "stdout",
     "output_type": "stream",
     "text": [
      "Starting 30s exposure...\n"
     ]
    },
    {
     "name": "stderr",
     "output_type": "stream",
     "text": [
      "INFO:pyscope.observatory.observatory:Using Maxim to save image\n",
      "INFO:pyscope.observatory.observatory:Overwrite allowed for header keys ['AIRMASS', 'OBJECT', 'TELESCOP', 'INSTRUME', 'OBSERVER']\n",
      "INFO:pyscope.observatory.observatory:Getting header from MaxIm image\n"
     ]
    },
    {
     "name": "stdout",
     "output_type": "stream",
     "text": [
      "Starting 120s exposure...\n"
     ]
    },
    {
     "name": "stderr",
     "output_type": "stream",
     "text": [
      "INFO:pyscope.observatory.observatory:Using Maxim to save image\n",
      "INFO:pyscope.observatory.observatory:Overwrite allowed for header keys ['AIRMASS', 'OBJECT', 'TELESCOP', 'INSTRUME', 'OBSERVER']\n",
      "INFO:pyscope.observatory.observatory:Getting header from MaxIm image\n"
     ]
    },
    {
     "name": "stdout",
     "output_type": "stream",
     "text": [
      "Starting 30s exposure...\n"
     ]
    },
    {
     "name": "stderr",
     "output_type": "stream",
     "text": [
      "INFO:pyscope.observatory.observatory:Using Maxim to save image\n",
      "INFO:pyscope.observatory.observatory:Overwrite allowed for header keys ['AIRMASS', 'OBJECT', 'TELESCOP', 'INSTRUME', 'OBSERVER']\n",
      "INFO:pyscope.observatory.observatory:Getting header from MaxIm image\n"
     ]
    },
    {
     "name": "stdout",
     "output_type": "stream",
     "text": [
      "Starting 30s exposure...\n"
     ]
    },
    {
     "name": "stderr",
     "output_type": "stream",
     "text": [
      "INFO:pyscope.observatory.observatory:Using Maxim to save image\n",
      "INFO:pyscope.observatory.observatory:Overwrite allowed for header keys ['AIRMASS', 'OBJECT', 'TELESCOP', 'INSTRUME', 'OBSERVER']\n",
      "INFO:pyscope.observatory.observatory:Getting header from MaxIm image\n"
     ]
    },
    {
     "name": "stdout",
     "output_type": "stream",
     "text": [
      "Starting 30s exposure...\n"
     ]
    },
    {
     "name": "stderr",
     "output_type": "stream",
     "text": [
      "INFO:pyscope.observatory.observatory:Using Maxim to save image\n",
      "INFO:pyscope.observatory.observatory:Overwrite allowed for header keys ['AIRMASS', 'OBJECT', 'TELESCOP', 'INSTRUME', 'OBSERVER']\n",
      "INFO:pyscope.observatory.observatory:Getting header from MaxIm image\n"
     ]
    },
    {
     "name": "stdout",
     "output_type": "stream",
     "text": [
      "Starting 30s exposure...\n"
     ]
    },
    {
     "name": "stderr",
     "output_type": "stream",
     "text": [
      "INFO:pyscope.observatory.observatory:Using Maxim to save image\n",
      "INFO:pyscope.observatory.observatory:Overwrite allowed for header keys ['AIRMASS', 'OBJECT', 'TELESCOP', 'INSTRUME', 'OBSERVER']\n",
      "INFO:pyscope.observatory.observatory:Getting header from MaxIm image\n"
     ]
    },
    {
     "name": "stdout",
     "output_type": "stream",
     "text": [
      "Starting 30s exposure...\n"
     ]
    },
    {
     "name": "stderr",
     "output_type": "stream",
     "text": [
      "INFO:pyscope.observatory.observatory:Using Maxim to save image\n",
      "INFO:pyscope.observatory.observatory:Overwrite allowed for header keys ['AIRMASS', 'OBJECT', 'TELESCOP', 'INSTRUME', 'OBSERVER']\n",
      "INFO:pyscope.observatory.observatory:Getting header from MaxIm image\n"
     ]
    },
    {
     "name": "stdout",
     "output_type": "stream",
     "text": [
      "Starting 30s exposure...\n"
     ]
    },
    {
     "name": "stderr",
     "output_type": "stream",
     "text": [
      "INFO:pyscope.observatory.observatory:Using Maxim to save image\n",
      "INFO:pyscope.observatory.observatory:Overwrite allowed for header keys ['AIRMASS', 'OBJECT', 'TELESCOP', 'INSTRUME', 'OBSERVER']\n",
      "INFO:pyscope.observatory.observatory:Getting header from MaxIm image\n"
     ]
    },
    {
     "name": "stdout",
     "output_type": "stream",
     "text": [
      "Starting 120s exposure...\n"
     ]
    },
    {
     "name": "stderr",
     "output_type": "stream",
     "text": [
      "INFO:pyscope.observatory.observatory:Using Maxim to save image\n",
      "INFO:pyscope.observatory.observatory:Overwrite allowed for header keys ['AIRMASS', 'OBJECT', 'TELESCOP', 'INSTRUME', 'OBSERVER']\n",
      "INFO:pyscope.observatory.observatory:Getting header from MaxIm image\n"
     ]
    },
    {
     "name": "stdout",
     "output_type": "stream",
     "text": [
      "Starting 30s exposure...\n"
     ]
    },
    {
     "name": "stderr",
     "output_type": "stream",
     "text": [
      "INFO:pyscope.observatory.observatory:Using Maxim to save image\n",
      "INFO:pyscope.observatory.observatory:Overwrite allowed for header keys ['AIRMASS', 'OBJECT', 'TELESCOP', 'INSTRUME', 'OBSERVER']\n",
      "INFO:pyscope.observatory.observatory:Getting header from MaxIm image\n"
     ]
    },
    {
     "name": "stdout",
     "output_type": "stream",
     "text": [
      "Starting 30s exposure...\n"
     ]
    },
    {
     "name": "stderr",
     "output_type": "stream",
     "text": [
      "INFO:pyscope.observatory.observatory:Using Maxim to save image\n",
      "INFO:pyscope.observatory.observatory:Overwrite allowed for header keys ['AIRMASS', 'OBJECT', 'TELESCOP', 'INSTRUME', 'OBSERVER']\n",
      "INFO:pyscope.observatory.observatory:Getting header from MaxIm image\n"
     ]
    },
    {
     "name": "stdout",
     "output_type": "stream",
     "text": [
      "Starting 30s exposure...\n"
     ]
    },
    {
     "name": "stderr",
     "output_type": "stream",
     "text": [
      "INFO:pyscope.observatory.observatory:Using Maxim to save image\n",
      "INFO:pyscope.observatory.observatory:Overwrite allowed for header keys ['AIRMASS', 'OBJECT', 'TELESCOP', 'INSTRUME', 'OBSERVER']\n",
      "INFO:pyscope.observatory.observatory:Getting header from MaxIm image\n"
     ]
    },
    {
     "name": "stdout",
     "output_type": "stream",
     "text": [
      "Starting 30s exposure...\n"
     ]
    },
    {
     "name": "stderr",
     "output_type": "stream",
     "text": [
      "INFO:pyscope.observatory.observatory:Using Maxim to save image\n",
      "INFO:pyscope.observatory.observatory:Overwrite allowed for header keys ['AIRMASS', 'OBJECT', 'TELESCOP', 'INSTRUME', 'OBSERVER']\n",
      "INFO:pyscope.observatory.observatory:Getting header from MaxIm image\n"
     ]
    },
    {
     "name": "stdout",
     "output_type": "stream",
     "text": [
      "Starting 30s exposure...\n"
     ]
    },
    {
     "name": "stderr",
     "output_type": "stream",
     "text": [
      "INFO:pyscope.observatory.observatory:Using Maxim to save image\n",
      "INFO:pyscope.observatory.observatory:Overwrite allowed for header keys ['AIRMASS', 'OBJECT', 'TELESCOP', 'INSTRUME', 'OBSERVER']\n",
      "INFO:pyscope.observatory.observatory:Getting header from MaxIm image\n"
     ]
    },
    {
     "name": "stdout",
     "output_type": "stream",
     "text": [
      "Starting 30s exposure...\n"
     ]
    },
    {
     "name": "stderr",
     "output_type": "stream",
     "text": [
      "INFO:pyscope.observatory.observatory:Using Maxim to save image\n",
      "INFO:pyscope.observatory.observatory:Overwrite allowed for header keys ['AIRMASS', 'OBJECT', 'TELESCOP', 'INSTRUME', 'OBSERVER']\n",
      "INFO:pyscope.observatory.observatory:Getting header from MaxIm image\n"
     ]
    },
    {
     "name": "stdout",
     "output_type": "stream",
     "text": [
      "Starting 120s exposure...\n"
     ]
    },
    {
     "name": "stderr",
     "output_type": "stream",
     "text": [
      "INFO:pyscope.observatory.observatory:Using Maxim to save image\n",
      "INFO:pyscope.observatory.observatory:Overwrite allowed for header keys ['AIRMASS', 'OBJECT', 'TELESCOP', 'INSTRUME', 'OBSERVER']\n",
      "INFO:pyscope.observatory.observatory:Getting header from MaxIm image\n"
     ]
    },
    {
     "name": "stdout",
     "output_type": "stream",
     "text": [
      "Starting 30s exposure...\n"
     ]
    },
    {
     "name": "stderr",
     "output_type": "stream",
     "text": [
      "INFO:pyscope.observatory.observatory:Using Maxim to save image\n",
      "INFO:pyscope.observatory.observatory:Overwrite allowed for header keys ['AIRMASS', 'OBJECT', 'TELESCOP', 'INSTRUME', 'OBSERVER']\n",
      "INFO:pyscope.observatory.observatory:Getting header from MaxIm image\n"
     ]
    },
    {
     "name": "stdout",
     "output_type": "stream",
     "text": [
      "Starting 30s exposure...\n"
     ]
    },
    {
     "name": "stderr",
     "output_type": "stream",
     "text": [
      "INFO:pyscope.observatory.observatory:Using Maxim to save image\n",
      "INFO:pyscope.observatory.observatory:Overwrite allowed for header keys ['AIRMASS', 'OBJECT', 'TELESCOP', 'INSTRUME', 'OBSERVER']\n",
      "INFO:pyscope.observatory.observatory:Getting header from MaxIm image\n"
     ]
    },
    {
     "name": "stdout",
     "output_type": "stream",
     "text": [
      "Starting 30s exposure...\n"
     ]
    },
    {
     "name": "stderr",
     "output_type": "stream",
     "text": [
      "INFO:pyscope.observatory.observatory:Using Maxim to save image\n",
      "INFO:pyscope.observatory.observatory:Overwrite allowed for header keys ['AIRMASS', 'OBJECT', 'TELESCOP', 'INSTRUME', 'OBSERVER']\n",
      "INFO:pyscope.observatory.observatory:Getting header from MaxIm image\n"
     ]
    },
    {
     "name": "stdout",
     "output_type": "stream",
     "text": [
      "Starting 30s exposure...\n"
     ]
    },
    {
     "name": "stderr",
     "output_type": "stream",
     "text": [
      "INFO:pyscope.observatory.observatory:Using Maxim to save image\n",
      "INFO:pyscope.observatory.observatory:Overwrite allowed for header keys ['AIRMASS', 'OBJECT', 'TELESCOP', 'INSTRUME', 'OBSERVER']\n",
      "INFO:pyscope.observatory.observatory:Getting header from MaxIm image\n"
     ]
    },
    {
     "name": "stdout",
     "output_type": "stream",
     "text": [
      "Starting 30s exposure...\n"
     ]
    },
    {
     "name": "stderr",
     "output_type": "stream",
     "text": [
      "INFO:pyscope.observatory.observatory:Using Maxim to save image\n",
      "INFO:pyscope.observatory.observatory:Overwrite allowed for header keys ['AIRMASS', 'OBJECT', 'TELESCOP', 'INSTRUME', 'OBSERVER']\n",
      "INFO:pyscope.observatory.observatory:Getting header from MaxIm image\n"
     ]
    },
    {
     "name": "stdout",
     "output_type": "stream",
     "text": [
      "Starting 30s exposure...\n"
     ]
    },
    {
     "name": "stderr",
     "output_type": "stream",
     "text": [
      "INFO:pyscope.observatory.observatory:Using Maxim to save image\n",
      "INFO:pyscope.observatory.observatory:Overwrite allowed for header keys ['AIRMASS', 'OBJECT', 'TELESCOP', 'INSTRUME', 'OBSERVER']\n",
      "INFO:pyscope.observatory.observatory:Getting header from MaxIm image\n"
     ]
    },
    {
     "name": "stdout",
     "output_type": "stream",
     "text": [
      "Starting 120s exposure...\n"
     ]
    },
    {
     "name": "stderr",
     "output_type": "stream",
     "text": [
      "INFO:pyscope.observatory.observatory:Using Maxim to save image\n",
      "INFO:pyscope.observatory.observatory:Overwrite allowed for header keys ['AIRMASS', 'OBJECT', 'TELESCOP', 'INSTRUME', 'OBSERVER']\n",
      "INFO:pyscope.observatory.observatory:Getting header from MaxIm image\n"
     ]
    },
    {
     "name": "stdout",
     "output_type": "stream",
     "text": [
      "Starting 30s exposure...\n"
     ]
    },
    {
     "name": "stderr",
     "output_type": "stream",
     "text": [
      "INFO:pyscope.observatory.observatory:Using Maxim to save image\n",
      "INFO:pyscope.observatory.observatory:Overwrite allowed for header keys ['AIRMASS', 'OBJECT', 'TELESCOP', 'INSTRUME', 'OBSERVER']\n",
      "INFO:pyscope.observatory.observatory:Getting header from MaxIm image\n"
     ]
    },
    {
     "name": "stdout",
     "output_type": "stream",
     "text": [
      "Starting 30s exposure...\n"
     ]
    },
    {
     "name": "stderr",
     "output_type": "stream",
     "text": [
      "INFO:pyscope.observatory.observatory:Using Maxim to save image\n",
      "INFO:pyscope.observatory.observatory:Overwrite allowed for header keys ['AIRMASS', 'OBJECT', 'TELESCOP', 'INSTRUME', 'OBSERVER']\n",
      "INFO:pyscope.observatory.observatory:Getting header from MaxIm image\n"
     ]
    },
    {
     "name": "stdout",
     "output_type": "stream",
     "text": [
      "Starting 30s exposure...\n"
     ]
    },
    {
     "name": "stderr",
     "output_type": "stream",
     "text": [
      "INFO:pyscope.observatory.observatory:Using Maxim to save image\n",
      "INFO:pyscope.observatory.observatory:Overwrite allowed for header keys ['AIRMASS', 'OBJECT', 'TELESCOP', 'INSTRUME', 'OBSERVER']\n",
      "INFO:pyscope.observatory.observatory:Getting header from MaxIm image\n"
     ]
    },
    {
     "name": "stdout",
     "output_type": "stream",
     "text": [
      "Starting 30s exposure...\n"
     ]
    },
    {
     "name": "stderr",
     "output_type": "stream",
     "text": [
      "INFO:pyscope.observatory.observatory:Using Maxim to save image\n",
      "INFO:pyscope.observatory.observatory:Overwrite allowed for header keys ['AIRMASS', 'OBJECT', 'TELESCOP', 'INSTRUME', 'OBSERVER']\n",
      "INFO:pyscope.observatory.observatory:Getting header from MaxIm image\n"
     ]
    },
    {
     "name": "stdout",
     "output_type": "stream",
     "text": [
      "Starting 30s exposure...\n"
     ]
    },
    {
     "name": "stderr",
     "output_type": "stream",
     "text": [
      "INFO:pyscope.observatory.observatory:Using Maxim to save image\n",
      "INFO:pyscope.observatory.observatory:Overwrite allowed for header keys ['AIRMASS', 'OBJECT', 'TELESCOP', 'INSTRUME', 'OBSERVER']\n",
      "INFO:pyscope.observatory.observatory:Getting header from MaxIm image\n"
     ]
    },
    {
     "name": "stdout",
     "output_type": "stream",
     "text": [
      "Starting 30s exposure...\n"
     ]
    },
    {
     "name": "stderr",
     "output_type": "stream",
     "text": [
      "INFO:pyscope.observatory.observatory:Using Maxim to save image\n",
      "INFO:pyscope.observatory.observatory:Overwrite allowed for header keys ['AIRMASS', 'OBJECT', 'TELESCOP', 'INSTRUME', 'OBSERVER']\n",
      "INFO:pyscope.observatory.observatory:Getting header from MaxIm image\n"
     ]
    },
    {
     "name": "stdout",
     "output_type": "stream",
     "text": [
      "Starting 120s exposure...\n"
     ]
    },
    {
     "name": "stderr",
     "output_type": "stream",
     "text": [
      "INFO:pyscope.observatory.observatory:Using Maxim to save image\n",
      "INFO:pyscope.observatory.observatory:Overwrite allowed for header keys ['AIRMASS', 'OBJECT', 'TELESCOP', 'INSTRUME', 'OBSERVER']\n",
      "INFO:pyscope.observatory.observatory:Getting header from MaxIm image\n"
     ]
    },
    {
     "name": "stdout",
     "output_type": "stream",
     "text": [
      "Starting 30s exposure...\n"
     ]
    },
    {
     "name": "stderr",
     "output_type": "stream",
     "text": [
      "INFO:pyscope.observatory.observatory:Using Maxim to save image\n",
      "INFO:pyscope.observatory.observatory:Overwrite allowed for header keys ['AIRMASS', 'OBJECT', 'TELESCOP', 'INSTRUME', 'OBSERVER']\n",
      "INFO:pyscope.observatory.observatory:Getting header from MaxIm image\n"
     ]
    },
    {
     "name": "stdout",
     "output_type": "stream",
     "text": [
      "Starting 30s exposure...\n"
     ]
    },
    {
     "name": "stderr",
     "output_type": "stream",
     "text": [
      "INFO:pyscope.observatory.observatory:Using Maxim to save image\n",
      "INFO:pyscope.observatory.observatory:Overwrite allowed for header keys ['AIRMASS', 'OBJECT', 'TELESCOP', 'INSTRUME', 'OBSERVER']\n",
      "INFO:pyscope.observatory.observatory:Getting header from MaxIm image\n"
     ]
    },
    {
     "name": "stdout",
     "output_type": "stream",
     "text": [
      "Starting 30s exposure...\n"
     ]
    },
    {
     "name": "stderr",
     "output_type": "stream",
     "text": [
      "INFO:pyscope.observatory.observatory:Using Maxim to save image\n",
      "INFO:pyscope.observatory.observatory:Overwrite allowed for header keys ['AIRMASS', 'OBJECT', 'TELESCOP', 'INSTRUME', 'OBSERVER']\n",
      "INFO:pyscope.observatory.observatory:Getting header from MaxIm image\n"
     ]
    },
    {
     "name": "stdout",
     "output_type": "stream",
     "text": [
      "Starting 30s exposure...\n"
     ]
    },
    {
     "name": "stderr",
     "output_type": "stream",
     "text": [
      "INFO:pyscope.observatory.observatory:Using Maxim to save image\n",
      "INFO:pyscope.observatory.observatory:Overwrite allowed for header keys ['AIRMASS', 'OBJECT', 'TELESCOP', 'INSTRUME', 'OBSERVER']\n",
      "INFO:pyscope.observatory.observatory:Getting header from MaxIm image\n"
     ]
    },
    {
     "name": "stdout",
     "output_type": "stream",
     "text": [
      "Starting 30s exposure...\n"
     ]
    },
    {
     "name": "stderr",
     "output_type": "stream",
     "text": [
      "INFO:pyscope.observatory.observatory:Using Maxim to save image\n",
      "INFO:pyscope.observatory.observatory:Overwrite allowed for header keys ['AIRMASS', 'OBJECT', 'TELESCOP', 'INSTRUME', 'OBSERVER']\n",
      "INFO:pyscope.observatory.observatory:Getting header from MaxIm image\n"
     ]
    },
    {
     "name": "stdout",
     "output_type": "stream",
     "text": [
      "Starting 30s exposure...\n"
     ]
    },
    {
     "name": "stderr",
     "output_type": "stream",
     "text": [
      "INFO:pyscope.observatory.observatory:Using Maxim to save image\n",
      "INFO:pyscope.observatory.observatory:Overwrite allowed for header keys ['AIRMASS', 'OBJECT', 'TELESCOP', 'INSTRUME', 'OBSERVER']\n",
      "INFO:pyscope.observatory.observatory:Getting header from MaxIm image\n"
     ]
    },
    {
     "name": "stdout",
     "output_type": "stream",
     "text": [
      "Starting 120s exposure...\n"
     ]
    },
    {
     "name": "stderr",
     "output_type": "stream",
     "text": [
      "INFO:pyscope.observatory.observatory:Using Maxim to save image\n",
      "INFO:pyscope.observatory.observatory:Overwrite allowed for header keys ['AIRMASS', 'OBJECT', 'TELESCOP', 'INSTRUME', 'OBSERVER']\n",
      "INFO:pyscope.observatory.observatory:Getting header from MaxIm image\n"
     ]
    },
    {
     "name": "stdout",
     "output_type": "stream",
     "text": [
      "Starting 30s exposure...\n"
     ]
    },
    {
     "name": "stderr",
     "output_type": "stream",
     "text": [
      "INFO:pyscope.observatory.observatory:Using Maxim to save image\n",
      "INFO:pyscope.observatory.observatory:Overwrite allowed for header keys ['AIRMASS', 'OBJECT', 'TELESCOP', 'INSTRUME', 'OBSERVER']\n",
      "INFO:pyscope.observatory.observatory:Getting header from MaxIm image\n"
     ]
    },
    {
     "name": "stdout",
     "output_type": "stream",
     "text": [
      "Starting 30s exposure...\n"
     ]
    },
    {
     "name": "stderr",
     "output_type": "stream",
     "text": [
      "INFO:pyscope.observatory.observatory:Using Maxim to save image\n",
      "INFO:pyscope.observatory.observatory:Overwrite allowed for header keys ['AIRMASS', 'OBJECT', 'TELESCOP', 'INSTRUME', 'OBSERVER']\n",
      "INFO:pyscope.observatory.observatory:Getting header from MaxIm image\n"
     ]
    },
    {
     "name": "stdout",
     "output_type": "stream",
     "text": [
      "Starting 30s exposure...\n"
     ]
    },
    {
     "name": "stderr",
     "output_type": "stream",
     "text": [
      "INFO:pyscope.observatory.observatory:Using Maxim to save image\n",
      "INFO:pyscope.observatory.observatory:Overwrite allowed for header keys ['AIRMASS', 'OBJECT', 'TELESCOP', 'INSTRUME', 'OBSERVER']\n",
      "INFO:pyscope.observatory.observatory:Getting header from MaxIm image\n"
     ]
    },
    {
     "name": "stdout",
     "output_type": "stream",
     "text": [
      "Starting 30s exposure...\n"
     ]
    },
    {
     "name": "stderr",
     "output_type": "stream",
     "text": [
      "INFO:pyscope.observatory.observatory:Using Maxim to save image\n",
      "INFO:pyscope.observatory.observatory:Overwrite allowed for header keys ['AIRMASS', 'OBJECT', 'TELESCOP', 'INSTRUME', 'OBSERVER']\n",
      "INFO:pyscope.observatory.observatory:Getting header from MaxIm image\n"
     ]
    },
    {
     "name": "stdout",
     "output_type": "stream",
     "text": [
      "Starting 30s exposure...\n"
     ]
    },
    {
     "name": "stderr",
     "output_type": "stream",
     "text": [
      "INFO:pyscope.observatory.observatory:Using Maxim to save image\n",
      "INFO:pyscope.observatory.observatory:Overwrite allowed for header keys ['AIRMASS', 'OBJECT', 'TELESCOP', 'INSTRUME', 'OBSERVER']\n",
      "INFO:pyscope.observatory.observatory:Getting header from MaxIm image\n"
     ]
    },
    {
     "name": "stdout",
     "output_type": "stream",
     "text": [
      "Starting 30s exposure...\n"
     ]
    },
    {
     "name": "stderr",
     "output_type": "stream",
     "text": [
      "INFO:pyscope.observatory.observatory:Using Maxim to save image\n",
      "INFO:pyscope.observatory.observatory:Overwrite allowed for header keys ['AIRMASS', 'OBJECT', 'TELESCOP', 'INSTRUME', 'OBSERVER']\n",
      "INFO:pyscope.observatory.observatory:Getting header from MaxIm image\n"
     ]
    },
    {
     "name": "stdout",
     "output_type": "stream",
     "text": [
      "Starting 120s exposure...\n"
     ]
    },
    {
     "name": "stderr",
     "output_type": "stream",
     "text": [
      "INFO:pyscope.observatory.observatory:Using Maxim to save image\n",
      "INFO:pyscope.observatory.observatory:Overwrite allowed for header keys ['AIRMASS', 'OBJECT', 'TELESCOP', 'INSTRUME', 'OBSERVER']\n",
      "INFO:pyscope.observatory.observatory:Getting header from MaxIm image\n"
     ]
    },
    {
     "name": "stdout",
     "output_type": "stream",
     "text": [
      "Starting 30s exposure...\n"
     ]
    },
    {
     "name": "stderr",
     "output_type": "stream",
     "text": [
      "INFO:pyscope.observatory.observatory:Using Maxim to save image\n",
      "INFO:pyscope.observatory.observatory:Overwrite allowed for header keys ['AIRMASS', 'OBJECT', 'TELESCOP', 'INSTRUME', 'OBSERVER']\n",
      "INFO:pyscope.observatory.observatory:Getting header from MaxIm image\n"
     ]
    },
    {
     "name": "stdout",
     "output_type": "stream",
     "text": [
      "Starting 30s exposure...\n"
     ]
    },
    {
     "name": "stderr",
     "output_type": "stream",
     "text": [
      "INFO:pyscope.observatory.observatory:Using Maxim to save image\n",
      "INFO:pyscope.observatory.observatory:Overwrite allowed for header keys ['AIRMASS', 'OBJECT', 'TELESCOP', 'INSTRUME', 'OBSERVER']\n",
      "INFO:pyscope.observatory.observatory:Getting header from MaxIm image\n"
     ]
    },
    {
     "name": "stdout",
     "output_type": "stream",
     "text": [
      "Starting 30s exposure...\n"
     ]
    },
    {
     "name": "stderr",
     "output_type": "stream",
     "text": [
      "INFO:pyscope.observatory.observatory:Using Maxim to save image\n",
      "INFO:pyscope.observatory.observatory:Overwrite allowed for header keys ['AIRMASS', 'OBJECT', 'TELESCOP', 'INSTRUME', 'OBSERVER']\n",
      "INFO:pyscope.observatory.observatory:Getting header from MaxIm image\n"
     ]
    },
    {
     "name": "stdout",
     "output_type": "stream",
     "text": [
      "Starting 30s exposure...\n"
     ]
    },
    {
     "name": "stderr",
     "output_type": "stream",
     "text": [
      "INFO:pyscope.observatory.observatory:Using Maxim to save image\n",
      "INFO:pyscope.observatory.observatory:Overwrite allowed for header keys ['AIRMASS', 'OBJECT', 'TELESCOP', 'INSTRUME', 'OBSERVER']\n",
      "INFO:pyscope.observatory.observatory:Getting header from MaxIm image\n"
     ]
    },
    {
     "name": "stdout",
     "output_type": "stream",
     "text": [
      "Starting 30s exposure...\n"
     ]
    },
    {
     "name": "stderr",
     "output_type": "stream",
     "text": [
      "INFO:pyscope.observatory.observatory:Using Maxim to save image\n",
      "INFO:pyscope.observatory.observatory:Overwrite allowed for header keys ['AIRMASS', 'OBJECT', 'TELESCOP', 'INSTRUME', 'OBSERVER']\n",
      "INFO:pyscope.observatory.observatory:Getting header from MaxIm image\n"
     ]
    },
    {
     "name": "stdout",
     "output_type": "stream",
     "text": [
      "Starting 30s exposure...\n"
     ]
    },
    {
     "name": "stderr",
     "output_type": "stream",
     "text": [
      "INFO:pyscope.observatory.observatory:Using Maxim to save image\n",
      "INFO:pyscope.observatory.observatory:Overwrite allowed for header keys ['AIRMASS', 'OBJECT', 'TELESCOP', 'INSTRUME', 'OBSERVER']\n",
      "INFO:pyscope.observatory.observatory:Getting header from MaxIm image\n"
     ]
    },
    {
     "name": "stdout",
     "output_type": "stream",
     "text": [
      "Starting 120s exposure...\n"
     ]
    },
    {
     "name": "stderr",
     "output_type": "stream",
     "text": [
      "INFO:pyscope.observatory.observatory:Using Maxim to save image\n",
      "INFO:pyscope.observatory.observatory:Overwrite allowed for header keys ['AIRMASS', 'OBJECT', 'TELESCOP', 'INSTRUME', 'OBSERVER']\n",
      "INFO:pyscope.observatory.observatory:Getting header from MaxIm image\n"
     ]
    },
    {
     "name": "stdout",
     "output_type": "stream",
     "text": [
      "Starting 30s exposure...\n"
     ]
    },
    {
     "name": "stderr",
     "output_type": "stream",
     "text": [
      "INFO:pyscope.observatory.observatory:Using Maxim to save image\n",
      "INFO:pyscope.observatory.observatory:Overwrite allowed for header keys ['AIRMASS', 'OBJECT', 'TELESCOP', 'INSTRUME', 'OBSERVER']\n",
      "INFO:pyscope.observatory.observatory:Getting header from MaxIm image\n"
     ]
    },
    {
     "name": "stdout",
     "output_type": "stream",
     "text": [
      "Starting 30s exposure...\n"
     ]
    },
    {
     "name": "stderr",
     "output_type": "stream",
     "text": [
      "INFO:pyscope.observatory.observatory:Using Maxim to save image\n",
      "INFO:pyscope.observatory.observatory:Overwrite allowed for header keys ['AIRMASS', 'OBJECT', 'TELESCOP', 'INSTRUME', 'OBSERVER']\n",
      "INFO:pyscope.observatory.observatory:Getting header from MaxIm image\n"
     ]
    },
    {
     "name": "stdout",
     "output_type": "stream",
     "text": [
      "Starting 30s exposure...\n"
     ]
    },
    {
     "name": "stderr",
     "output_type": "stream",
     "text": [
      "INFO:pyscope.observatory.observatory:Using Maxim to save image\n",
      "INFO:pyscope.observatory.observatory:Overwrite allowed for header keys ['AIRMASS', 'OBJECT', 'TELESCOP', 'INSTRUME', 'OBSERVER']\n",
      "INFO:pyscope.observatory.observatory:Getting header from MaxIm image\n"
     ]
    },
    {
     "name": "stdout",
     "output_type": "stream",
     "text": [
      "Starting 30s exposure...\n"
     ]
    },
    {
     "name": "stderr",
     "output_type": "stream",
     "text": [
      "INFO:pyscope.observatory.observatory:Using Maxim to save image\n",
      "INFO:pyscope.observatory.observatory:Overwrite allowed for header keys ['AIRMASS', 'OBJECT', 'TELESCOP', 'INSTRUME', 'OBSERVER']\n",
      "INFO:pyscope.observatory.observatory:Getting header from MaxIm image\n"
     ]
    },
    {
     "name": "stdout",
     "output_type": "stream",
     "text": [
      "Starting 30s exposure...\n"
     ]
    },
    {
     "name": "stderr",
     "output_type": "stream",
     "text": [
      "INFO:pyscope.observatory.observatory:Using Maxim to save image\n",
      "INFO:pyscope.observatory.observatory:Overwrite allowed for header keys ['AIRMASS', 'OBJECT', 'TELESCOP', 'INSTRUME', 'OBSERVER']\n",
      "INFO:pyscope.observatory.observatory:Getting header from MaxIm image\n"
     ]
    },
    {
     "name": "stdout",
     "output_type": "stream",
     "text": [
      "Starting 30s exposure...\n"
     ]
    },
    {
     "name": "stderr",
     "output_type": "stream",
     "text": [
      "INFO:pyscope.observatory.observatory:Using Maxim to save image\n",
      "INFO:pyscope.observatory.observatory:Overwrite allowed for header keys ['AIRMASS', 'OBJECT', 'TELESCOP', 'INSTRUME', 'OBSERVER']\n",
      "INFO:pyscope.observatory.observatory:Getting header from MaxIm image\n"
     ]
    },
    {
     "name": "stdout",
     "output_type": "stream",
     "text": [
      "Starting 120s exposure...\n"
     ]
    },
    {
     "name": "stderr",
     "output_type": "stream",
     "text": [
      "INFO:pyscope.observatory.observatory:Using Maxim to save image\n",
      "INFO:pyscope.observatory.observatory:Overwrite allowed for header keys ['AIRMASS', 'OBJECT', 'TELESCOP', 'INSTRUME', 'OBSERVER']\n",
      "INFO:pyscope.observatory.observatory:Getting header from MaxIm image\n"
     ]
    },
    {
     "name": "stdout",
     "output_type": "stream",
     "text": [
      "Starting 30s exposure...\n"
     ]
    },
    {
     "name": "stderr",
     "output_type": "stream",
     "text": [
      "INFO:pyscope.observatory.observatory:Using Maxim to save image\n",
      "INFO:pyscope.observatory.observatory:Overwrite allowed for header keys ['AIRMASS', 'OBJECT', 'TELESCOP', 'INSTRUME', 'OBSERVER']\n",
      "INFO:pyscope.observatory.observatory:Getting header from MaxIm image\n"
     ]
    },
    {
     "name": "stdout",
     "output_type": "stream",
     "text": [
      "Starting 30s exposure...\n"
     ]
    },
    {
     "name": "stderr",
     "output_type": "stream",
     "text": [
      "INFO:pyscope.observatory.observatory:Using Maxim to save image\n",
      "INFO:pyscope.observatory.observatory:Overwrite allowed for header keys ['AIRMASS', 'OBJECT', 'TELESCOP', 'INSTRUME', 'OBSERVER']\n",
      "INFO:pyscope.observatory.observatory:Getting header from MaxIm image\n"
     ]
    },
    {
     "name": "stdout",
     "output_type": "stream",
     "text": [
      "Starting 30s exposure...\n"
     ]
    },
    {
     "name": "stderr",
     "output_type": "stream",
     "text": [
      "INFO:pyscope.observatory.observatory:Using Maxim to save image\n",
      "INFO:pyscope.observatory.observatory:Overwrite allowed for header keys ['AIRMASS', 'OBJECT', 'TELESCOP', 'INSTRUME', 'OBSERVER']\n",
      "INFO:pyscope.observatory.observatory:Getting header from MaxIm image\n"
     ]
    },
    {
     "name": "stdout",
     "output_type": "stream",
     "text": [
      "Starting 30s exposure...\n"
     ]
    },
    {
     "name": "stderr",
     "output_type": "stream",
     "text": [
      "INFO:pyscope.observatory.observatory:Using Maxim to save image\n",
      "INFO:pyscope.observatory.observatory:Overwrite allowed for header keys ['AIRMASS', 'OBJECT', 'TELESCOP', 'INSTRUME', 'OBSERVER']\n",
      "INFO:pyscope.observatory.observatory:Getting header from MaxIm image\n"
     ]
    },
    {
     "name": "stdout",
     "output_type": "stream",
     "text": [
      "Starting 30s exposure...\n"
     ]
    },
    {
     "name": "stderr",
     "output_type": "stream",
     "text": [
      "INFO:pyscope.observatory.observatory:Using Maxim to save image\n",
      "INFO:pyscope.observatory.observatory:Overwrite allowed for header keys ['AIRMASS', 'OBJECT', 'TELESCOP', 'INSTRUME', 'OBSERVER']\n",
      "INFO:pyscope.observatory.observatory:Getting header from MaxIm image\n"
     ]
    },
    {
     "name": "stdout",
     "output_type": "stream",
     "text": [
      "Starting 30s exposure...\n"
     ]
    },
    {
     "name": "stderr",
     "output_type": "stream",
     "text": [
      "INFO:pyscope.observatory.observatory:Using Maxim to save image\n",
      "INFO:pyscope.observatory.observatory:Overwrite allowed for header keys ['AIRMASS', 'OBJECT', 'TELESCOP', 'INSTRUME', 'OBSERVER']\n",
      "INFO:pyscope.observatory.observatory:Getting header from MaxIm image\n"
     ]
    },
    {
     "name": "stdout",
     "output_type": "stream",
     "text": [
      "Starting 120s exposure...\n"
     ]
    },
    {
     "name": "stderr",
     "output_type": "stream",
     "text": [
      "INFO:pyscope.observatory.observatory:Using Maxim to save image\n",
      "INFO:pyscope.observatory.observatory:Overwrite allowed for header keys ['AIRMASS', 'OBJECT', 'TELESCOP', 'INSTRUME', 'OBSERVER']\n",
      "INFO:pyscope.observatory.observatory:Getting header from MaxIm image\n"
     ]
    },
    {
     "name": "stdout",
     "output_type": "stream",
     "text": [
      "Starting 30s exposure...\n"
     ]
    },
    {
     "name": "stderr",
     "output_type": "stream",
     "text": [
      "INFO:pyscope.observatory.observatory:Using Maxim to save image\n",
      "INFO:pyscope.observatory.observatory:Overwrite allowed for header keys ['AIRMASS', 'OBJECT', 'TELESCOP', 'INSTRUME', 'OBSERVER']\n",
      "INFO:pyscope.observatory.observatory:Getting header from MaxIm image\n"
     ]
    },
    {
     "name": "stdout",
     "output_type": "stream",
     "text": [
      "Starting 30s exposure...\n"
     ]
    },
    {
     "name": "stderr",
     "output_type": "stream",
     "text": [
      "INFO:pyscope.observatory.observatory:Using Maxim to save image\n",
      "INFO:pyscope.observatory.observatory:Overwrite allowed for header keys ['AIRMASS', 'OBJECT', 'TELESCOP', 'INSTRUME', 'OBSERVER']\n",
      "INFO:pyscope.observatory.observatory:Getting header from MaxIm image\n"
     ]
    },
    {
     "name": "stdout",
     "output_type": "stream",
     "text": [
      "Starting 30s exposure...\n"
     ]
    },
    {
     "name": "stderr",
     "output_type": "stream",
     "text": [
      "INFO:pyscope.observatory.observatory:Using Maxim to save image\n",
      "INFO:pyscope.observatory.observatory:Overwrite allowed for header keys ['AIRMASS', 'OBJECT', 'TELESCOP', 'INSTRUME', 'OBSERVER']\n",
      "INFO:pyscope.observatory.observatory:Getting header from MaxIm image\n"
     ]
    },
    {
     "name": "stdout",
     "output_type": "stream",
     "text": [
      "Starting 30s exposure...\n"
     ]
    },
    {
     "name": "stderr",
     "output_type": "stream",
     "text": [
      "INFO:pyscope.observatory.observatory:Using Maxim to save image\n",
      "INFO:pyscope.observatory.observatory:Overwrite allowed for header keys ['AIRMASS', 'OBJECT', 'TELESCOP', 'INSTRUME', 'OBSERVER']\n",
      "INFO:pyscope.observatory.observatory:Getting header from MaxIm image\n"
     ]
    },
    {
     "name": "stdout",
     "output_type": "stream",
     "text": [
      "Starting 30s exposure...\n"
     ]
    },
    {
     "name": "stderr",
     "output_type": "stream",
     "text": [
      "INFO:pyscope.observatory.observatory:Using Maxim to save image\n",
      "INFO:pyscope.observatory.observatory:Overwrite allowed for header keys ['AIRMASS', 'OBJECT', 'TELESCOP', 'INSTRUME', 'OBSERVER']\n",
      "INFO:pyscope.observatory.observatory:Getting header from MaxIm image\n"
     ]
    },
    {
     "name": "stdout",
     "output_type": "stream",
     "text": [
      "Starting 30s exposure...\n"
     ]
    },
    {
     "name": "stderr",
     "output_type": "stream",
     "text": [
      "INFO:pyscope.observatory.observatory:Using Maxim to save image\n",
      "INFO:pyscope.observatory.observatory:Overwrite allowed for header keys ['AIRMASS', 'OBJECT', 'TELESCOP', 'INSTRUME', 'OBSERVER']\n",
      "INFO:pyscope.observatory.observatory:Getting header from MaxIm image\n"
     ]
    },
    {
     "name": "stdout",
     "output_type": "stream",
     "text": [
      "Starting 120s exposure...\n"
     ]
    },
    {
     "name": "stderr",
     "output_type": "stream",
     "text": [
      "INFO:pyscope.observatory.observatory:Using Maxim to save image\n",
      "INFO:pyscope.observatory.observatory:Overwrite allowed for header keys ['AIRMASS', 'OBJECT', 'TELESCOP', 'INSTRUME', 'OBSERVER']\n",
      "INFO:pyscope.observatory.observatory:Getting header from MaxIm image\n"
     ]
    },
    {
     "name": "stdout",
     "output_type": "stream",
     "text": [
      "Starting 30s exposure...\n"
     ]
    },
    {
     "name": "stderr",
     "output_type": "stream",
     "text": [
      "INFO:pyscope.observatory.observatory:Using Maxim to save image\n",
      "INFO:pyscope.observatory.observatory:Overwrite allowed for header keys ['AIRMASS', 'OBJECT', 'TELESCOP', 'INSTRUME', 'OBSERVER']\n",
      "INFO:pyscope.observatory.observatory:Getting header from MaxIm image\n"
     ]
    },
    {
     "name": "stdout",
     "output_type": "stream",
     "text": [
      "Starting 30s exposure...\n"
     ]
    },
    {
     "name": "stderr",
     "output_type": "stream",
     "text": [
      "INFO:pyscope.observatory.observatory:Using Maxim to save image\n",
      "INFO:pyscope.observatory.observatory:Overwrite allowed for header keys ['AIRMASS', 'OBJECT', 'TELESCOP', 'INSTRUME', 'OBSERVER']\n",
      "INFO:pyscope.observatory.observatory:Getting header from MaxIm image\n"
     ]
    },
    {
     "name": "stdout",
     "output_type": "stream",
     "text": [
      "Starting 30s exposure...\n"
     ]
    },
    {
     "name": "stderr",
     "output_type": "stream",
     "text": [
      "INFO:pyscope.observatory.observatory:Using Maxim to save image\n",
      "INFO:pyscope.observatory.observatory:Overwrite allowed for header keys ['AIRMASS', 'OBJECT', 'TELESCOP', 'INSTRUME', 'OBSERVER']\n",
      "INFO:pyscope.observatory.observatory:Getting header from MaxIm image\n"
     ]
    },
    {
     "name": "stdout",
     "output_type": "stream",
     "text": [
      "Starting 30s exposure...\n"
     ]
    },
    {
     "name": "stderr",
     "output_type": "stream",
     "text": [
      "INFO:pyscope.observatory.observatory:Using Maxim to save image\n",
      "INFO:pyscope.observatory.observatory:Overwrite allowed for header keys ['AIRMASS', 'OBJECT', 'TELESCOP', 'INSTRUME', 'OBSERVER']\n",
      "INFO:pyscope.observatory.observatory:Getting header from MaxIm image\n"
     ]
    },
    {
     "name": "stdout",
     "output_type": "stream",
     "text": [
      "Starting 30s exposure...\n"
     ]
    },
    {
     "name": "stderr",
     "output_type": "stream",
     "text": [
      "INFO:pyscope.observatory.observatory:Using Maxim to save image\n",
      "INFO:pyscope.observatory.observatory:Overwrite allowed for header keys ['AIRMASS', 'OBJECT', 'TELESCOP', 'INSTRUME', 'OBSERVER']\n",
      "INFO:pyscope.observatory.observatory:Getting header from MaxIm image\n"
     ]
    },
    {
     "name": "stdout",
     "output_type": "stream",
     "text": [
      "Starting 30s exposure...\n"
     ]
    },
    {
     "name": "stderr",
     "output_type": "stream",
     "text": [
      "INFO:pyscope.observatory.observatory:Using Maxim to save image\n",
      "INFO:pyscope.observatory.observatory:Overwrite allowed for header keys ['AIRMASS', 'OBJECT', 'TELESCOP', 'INSTRUME', 'OBSERVER']\n",
      "INFO:pyscope.observatory.observatory:Getting header from MaxIm image\n"
     ]
    },
    {
     "name": "stdout",
     "output_type": "stream",
     "text": [
      "Starting 120s exposure...\n"
     ]
    },
    {
     "name": "stderr",
     "output_type": "stream",
     "text": [
      "INFO:pyscope.observatory.observatory:Using Maxim to save image\n",
      "INFO:pyscope.observatory.observatory:Overwrite allowed for header keys ['AIRMASS', 'OBJECT', 'TELESCOP', 'INSTRUME', 'OBSERVER']\n",
      "INFO:pyscope.observatory.observatory:Getting header from MaxIm image\n"
     ]
    },
    {
     "name": "stdout",
     "output_type": "stream",
     "text": [
      "Starting 30s exposure...\n"
     ]
    },
    {
     "name": "stderr",
     "output_type": "stream",
     "text": [
      "INFO:pyscope.observatory.observatory:Using Maxim to save image\n",
      "INFO:pyscope.observatory.observatory:Overwrite allowed for header keys ['AIRMASS', 'OBJECT', 'TELESCOP', 'INSTRUME', 'OBSERVER']\n",
      "INFO:pyscope.observatory.observatory:Getting header from MaxIm image\n"
     ]
    },
    {
     "name": "stdout",
     "output_type": "stream",
     "text": [
      "Starting 30s exposure...\n"
     ]
    },
    {
     "name": "stderr",
     "output_type": "stream",
     "text": [
      "INFO:pyscope.observatory.observatory:Using Maxim to save image\n",
      "INFO:pyscope.observatory.observatory:Overwrite allowed for header keys ['AIRMASS', 'OBJECT', 'TELESCOP', 'INSTRUME', 'OBSERVER']\n",
      "INFO:pyscope.observatory.observatory:Getting header from MaxIm image\n"
     ]
    },
    {
     "name": "stdout",
     "output_type": "stream",
     "text": [
      "Starting 30s exposure...\n"
     ]
    },
    {
     "name": "stderr",
     "output_type": "stream",
     "text": [
      "INFO:pyscope.observatory.observatory:Using Maxim to save image\n",
      "INFO:pyscope.observatory.observatory:Overwrite allowed for header keys ['AIRMASS', 'OBJECT', 'TELESCOP', 'INSTRUME', 'OBSERVER']\n",
      "INFO:pyscope.observatory.observatory:Getting header from MaxIm image\n"
     ]
    },
    {
     "name": "stdout",
     "output_type": "stream",
     "text": [
      "Starting 30s exposure...\n"
     ]
    },
    {
     "name": "stderr",
     "output_type": "stream",
     "text": [
      "INFO:pyscope.observatory.observatory:Using Maxim to save image\n",
      "INFO:pyscope.observatory.observatory:Overwrite allowed for header keys ['AIRMASS', 'OBJECT', 'TELESCOP', 'INSTRUME', 'OBSERVER']\n",
      "INFO:pyscope.observatory.observatory:Getting header from MaxIm image\n"
     ]
    },
    {
     "name": "stdout",
     "output_type": "stream",
     "text": [
      "Starting 30s exposure...\n"
     ]
    },
    {
     "name": "stderr",
     "output_type": "stream",
     "text": [
      "INFO:pyscope.observatory.observatory:Using Maxim to save image\n",
      "INFO:pyscope.observatory.observatory:Overwrite allowed for header keys ['AIRMASS', 'OBJECT', 'TELESCOP', 'INSTRUME', 'OBSERVER']\n",
      "INFO:pyscope.observatory.observatory:Getting header from MaxIm image\n"
     ]
    },
    {
     "name": "stdout",
     "output_type": "stream",
     "text": [
      "Starting 30s exposure...\n"
     ]
    },
    {
     "name": "stderr",
     "output_type": "stream",
     "text": [
      "INFO:pyscope.observatory.observatory:Using Maxim to save image\n",
      "INFO:pyscope.observatory.observatory:Overwrite allowed for header keys ['AIRMASS', 'OBJECT', 'TELESCOP', 'INSTRUME', 'OBSERVER']\n",
      "INFO:pyscope.observatory.observatory:Getting header from MaxIm image\n"
     ]
    },
    {
     "name": "stdout",
     "output_type": "stream",
     "text": [
      "Starting 120s exposure...\n"
     ]
    },
    {
     "name": "stderr",
     "output_type": "stream",
     "text": [
      "INFO:pyscope.observatory.observatory:Using Maxim to save image\n",
      "INFO:pyscope.observatory.observatory:Overwrite allowed for header keys ['AIRMASS', 'OBJECT', 'TELESCOP', 'INSTRUME', 'OBSERVER']\n",
      "INFO:pyscope.observatory.observatory:Getting header from MaxIm image\n"
     ]
    },
    {
     "name": "stdout",
     "output_type": "stream",
     "text": [
      "Starting 30s exposure...\n"
     ]
    },
    {
     "name": "stderr",
     "output_type": "stream",
     "text": [
      "INFO:pyscope.observatory.observatory:Using Maxim to save image\n",
      "INFO:pyscope.observatory.observatory:Overwrite allowed for header keys ['AIRMASS', 'OBJECT', 'TELESCOP', 'INSTRUME', 'OBSERVER']\n",
      "INFO:pyscope.observatory.observatory:Getting header from MaxIm image\n"
     ]
    },
    {
     "name": "stdout",
     "output_type": "stream",
     "text": [
      "Starting 30s exposure...\n"
     ]
    },
    {
     "name": "stderr",
     "output_type": "stream",
     "text": [
      "INFO:pyscope.observatory.observatory:Using Maxim to save image\n",
      "INFO:pyscope.observatory.observatory:Overwrite allowed for header keys ['AIRMASS', 'OBJECT', 'TELESCOP', 'INSTRUME', 'OBSERVER']\n",
      "INFO:pyscope.observatory.observatory:Getting header from MaxIm image\n"
     ]
    },
    {
     "name": "stdout",
     "output_type": "stream",
     "text": [
      "Starting 30s exposure...\n"
     ]
    },
    {
     "name": "stderr",
     "output_type": "stream",
     "text": [
      "INFO:pyscope.observatory.observatory:Using Maxim to save image\n",
      "INFO:pyscope.observatory.observatory:Overwrite allowed for header keys ['AIRMASS', 'OBJECT', 'TELESCOP', 'INSTRUME', 'OBSERVER']\n",
      "INFO:pyscope.observatory.observatory:Getting header from MaxIm image\n"
     ]
    },
    {
     "name": "stdout",
     "output_type": "stream",
     "text": [
      "Starting 30s exposure...\n"
     ]
    },
    {
     "name": "stderr",
     "output_type": "stream",
     "text": [
      "INFO:pyscope.observatory.observatory:Using Maxim to save image\n",
      "INFO:pyscope.observatory.observatory:Overwrite allowed for header keys ['AIRMASS', 'OBJECT', 'TELESCOP', 'INSTRUME', 'OBSERVER']\n",
      "INFO:pyscope.observatory.observatory:Getting header from MaxIm image\n"
     ]
    },
    {
     "name": "stdout",
     "output_type": "stream",
     "text": [
      "Starting 30s exposure...\n"
     ]
    },
    {
     "name": "stderr",
     "output_type": "stream",
     "text": [
      "INFO:pyscope.observatory.observatory:Using Maxim to save image\n",
      "INFO:pyscope.observatory.observatory:Overwrite allowed for header keys ['AIRMASS', 'OBJECT', 'TELESCOP', 'INSTRUME', 'OBSERVER']\n",
      "INFO:pyscope.observatory.observatory:Getting header from MaxIm image\n"
     ]
    },
    {
     "name": "stdout",
     "output_type": "stream",
     "text": [
      "Starting 30s exposure...\n"
     ]
    },
    {
     "name": "stderr",
     "output_type": "stream",
     "text": [
      "INFO:pyscope.observatory.observatory:Using Maxim to save image\n",
      "INFO:pyscope.observatory.observatory:Overwrite allowed for header keys ['AIRMASS', 'OBJECT', 'TELESCOP', 'INSTRUME', 'OBSERVER']\n",
      "INFO:pyscope.observatory.observatory:Getting header from MaxIm image\n"
     ]
    },
    {
     "name": "stdout",
     "output_type": "stream",
     "text": [
      "Starting 120s exposure...\n"
     ]
    },
    {
     "name": "stderr",
     "output_type": "stream",
     "text": [
      "INFO:pyscope.observatory.observatory:Using Maxim to save image\n",
      "INFO:pyscope.observatory.observatory:Overwrite allowed for header keys ['AIRMASS', 'OBJECT', 'TELESCOP', 'INSTRUME', 'OBSERVER']\n",
      "INFO:pyscope.observatory.observatory:Getting header from MaxIm image\n"
     ]
    },
    {
     "name": "stdout",
     "output_type": "stream",
     "text": [
      "Starting 30s exposure...\n"
     ]
    },
    {
     "name": "stderr",
     "output_type": "stream",
     "text": [
      "INFO:pyscope.observatory.observatory:Using Maxim to save image\n",
      "INFO:pyscope.observatory.observatory:Overwrite allowed for header keys ['AIRMASS', 'OBJECT', 'TELESCOP', 'INSTRUME', 'OBSERVER']\n",
      "INFO:pyscope.observatory.observatory:Getting header from MaxIm image\n"
     ]
    },
    {
     "name": "stdout",
     "output_type": "stream",
     "text": [
      "Starting 30s exposure...\n"
     ]
    },
    {
     "name": "stderr",
     "output_type": "stream",
     "text": [
      "INFO:pyscope.observatory.observatory:Using Maxim to save image\n",
      "INFO:pyscope.observatory.observatory:Overwrite allowed for header keys ['AIRMASS', 'OBJECT', 'TELESCOP', 'INSTRUME', 'OBSERVER']\n",
      "INFO:pyscope.observatory.observatory:Getting header from MaxIm image\n"
     ]
    },
    {
     "name": "stdout",
     "output_type": "stream",
     "text": [
      "Starting 30s exposure...\n"
     ]
    },
    {
     "name": "stderr",
     "output_type": "stream",
     "text": [
      "INFO:pyscope.observatory.observatory:Using Maxim to save image\n",
      "INFO:pyscope.observatory.observatory:Overwrite allowed for header keys ['AIRMASS', 'OBJECT', 'TELESCOP', 'INSTRUME', 'OBSERVER']\n",
      "INFO:pyscope.observatory.observatory:Getting header from MaxIm image\n"
     ]
    },
    {
     "name": "stdout",
     "output_type": "stream",
     "text": [
      "Starting 30s exposure...\n"
     ]
    },
    {
     "name": "stderr",
     "output_type": "stream",
     "text": [
      "INFO:pyscope.observatory.observatory:Using Maxim to save image\n",
      "INFO:pyscope.observatory.observatory:Overwrite allowed for header keys ['AIRMASS', 'OBJECT', 'TELESCOP', 'INSTRUME', 'OBSERVER']\n",
      "INFO:pyscope.observatory.observatory:Getting header from MaxIm image\n"
     ]
    },
    {
     "name": "stdout",
     "output_type": "stream",
     "text": [
      "Starting 30s exposure...\n"
     ]
    },
    {
     "name": "stderr",
     "output_type": "stream",
     "text": [
      "INFO:pyscope.observatory.observatory:Using Maxim to save image\n",
      "INFO:pyscope.observatory.observatory:Overwrite allowed for header keys ['AIRMASS', 'OBJECT', 'TELESCOP', 'INSTRUME', 'OBSERVER']\n",
      "INFO:pyscope.observatory.observatory:Getting header from MaxIm image\n"
     ]
    },
    {
     "name": "stdout",
     "output_type": "stream",
     "text": [
      "Starting 30s exposure...\n"
     ]
    },
    {
     "name": "stderr",
     "output_type": "stream",
     "text": [
      "INFO:pyscope.observatory.observatory:Using Maxim to save image\n",
      "INFO:pyscope.observatory.observatory:Overwrite allowed for header keys ['AIRMASS', 'OBJECT', 'TELESCOP', 'INSTRUME', 'OBSERVER']\n",
      "INFO:pyscope.observatory.observatory:Getting header from MaxIm image\n"
     ]
    },
    {
     "name": "stdout",
     "output_type": "stream",
     "text": [
      "Starting 120s exposure...\n"
     ]
    },
    {
     "name": "stderr",
     "output_type": "stream",
     "text": [
      "INFO:pyscope.observatory.observatory:Using Maxim to save image\n",
      "INFO:pyscope.observatory.observatory:Overwrite allowed for header keys ['AIRMASS', 'OBJECT', 'TELESCOP', 'INSTRUME', 'OBSERVER']\n",
      "INFO:pyscope.observatory.observatory:Getting header from MaxIm image\n"
     ]
    },
    {
     "name": "stdout",
     "output_type": "stream",
     "text": [
      "Starting 30s exposure...\n"
     ]
    },
    {
     "name": "stderr",
     "output_type": "stream",
     "text": [
      "INFO:pyscope.observatory.observatory:Using Maxim to save image\n",
      "INFO:pyscope.observatory.observatory:Overwrite allowed for header keys ['AIRMASS', 'OBJECT', 'TELESCOP', 'INSTRUME', 'OBSERVER']\n",
      "INFO:pyscope.observatory.observatory:Getting header from MaxIm image\n"
     ]
    },
    {
     "name": "stdout",
     "output_type": "stream",
     "text": [
      "Starting 30s exposure...\n"
     ]
    },
    {
     "name": "stderr",
     "output_type": "stream",
     "text": [
      "INFO:pyscope.observatory.observatory:Using Maxim to save image\n",
      "INFO:pyscope.observatory.observatory:Overwrite allowed for header keys ['AIRMASS', 'OBJECT', 'TELESCOP', 'INSTRUME', 'OBSERVER']\n",
      "INFO:pyscope.observatory.observatory:Getting header from MaxIm image\n"
     ]
    },
    {
     "name": "stdout",
     "output_type": "stream",
     "text": [
      "Starting 30s exposure...\n"
     ]
    },
    {
     "name": "stderr",
     "output_type": "stream",
     "text": [
      "INFO:pyscope.observatory.observatory:Using Maxim to save image\n",
      "INFO:pyscope.observatory.observatory:Overwrite allowed for header keys ['AIRMASS', 'OBJECT', 'TELESCOP', 'INSTRUME', 'OBSERVER']\n",
      "INFO:pyscope.observatory.observatory:Getting header from MaxIm image\n"
     ]
    },
    {
     "name": "stdout",
     "output_type": "stream",
     "text": [
      "Starting 30s exposure...\n"
     ]
    },
    {
     "name": "stderr",
     "output_type": "stream",
     "text": [
      "INFO:pyscope.observatory.observatory:Using Maxim to save image\n",
      "INFO:pyscope.observatory.observatory:Overwrite allowed for header keys ['AIRMASS', 'OBJECT', 'TELESCOP', 'INSTRUME', 'OBSERVER']\n",
      "INFO:pyscope.observatory.observatory:Getting header from MaxIm image\n"
     ]
    },
    {
     "name": "stdout",
     "output_type": "stream",
     "text": [
      "Starting 30s exposure...\n"
     ]
    },
    {
     "name": "stderr",
     "output_type": "stream",
     "text": [
      "INFO:pyscope.observatory.observatory:Using Maxim to save image\n",
      "INFO:pyscope.observatory.observatory:Overwrite allowed for header keys ['AIRMASS', 'OBJECT', 'TELESCOP', 'INSTRUME', 'OBSERVER']\n",
      "INFO:pyscope.observatory.observatory:Getting header from MaxIm image\n"
     ]
    },
    {
     "name": "stdout",
     "output_type": "stream",
     "text": [
      "Starting 30s exposure...\n"
     ]
    },
    {
     "name": "stderr",
     "output_type": "stream",
     "text": [
      "INFO:pyscope.observatory.observatory:Using Maxim to save image\n",
      "INFO:pyscope.observatory.observatory:Overwrite allowed for header keys ['AIRMASS', 'OBJECT', 'TELESCOP', 'INSTRUME', 'OBSERVER']\n",
      "INFO:pyscope.observatory.observatory:Getting header from MaxIm image\n"
     ]
    },
    {
     "name": "stdout",
     "output_type": "stream",
     "text": [
      "Starting 120s exposure...\n"
     ]
    },
    {
     "name": "stderr",
     "output_type": "stream",
     "text": [
      "INFO:pyscope.observatory.observatory:Using Maxim to save image\n",
      "INFO:pyscope.observatory.observatory:Overwrite allowed for header keys ['AIRMASS', 'OBJECT', 'TELESCOP', 'INSTRUME', 'OBSERVER']\n",
      "INFO:pyscope.observatory.observatory:Getting header from MaxIm image\n"
     ]
    },
    {
     "name": "stdout",
     "output_type": "stream",
     "text": [
      "Starting 30s exposure...\n"
     ]
    },
    {
     "name": "stderr",
     "output_type": "stream",
     "text": [
      "INFO:pyscope.observatory.observatory:Using Maxim to save image\n",
      "INFO:pyscope.observatory.observatory:Overwrite allowed for header keys ['AIRMASS', 'OBJECT', 'TELESCOP', 'INSTRUME', 'OBSERVER']\n",
      "INFO:pyscope.observatory.observatory:Getting header from MaxIm image\n"
     ]
    },
    {
     "name": "stdout",
     "output_type": "stream",
     "text": [
      "Starting 30s exposure...\n"
     ]
    },
    {
     "name": "stderr",
     "output_type": "stream",
     "text": [
      "INFO:pyscope.observatory.observatory:Using Maxim to save image\n",
      "INFO:pyscope.observatory.observatory:Overwrite allowed for header keys ['AIRMASS', 'OBJECT', 'TELESCOP', 'INSTRUME', 'OBSERVER']\n",
      "INFO:pyscope.observatory.observatory:Getting header from MaxIm image\n"
     ]
    },
    {
     "name": "stdout",
     "output_type": "stream",
     "text": [
      "Starting 30s exposure...\n"
     ]
    },
    {
     "name": "stderr",
     "output_type": "stream",
     "text": [
      "INFO:pyscope.observatory.observatory:Using Maxim to save image\n",
      "INFO:pyscope.observatory.observatory:Overwrite allowed for header keys ['AIRMASS', 'OBJECT', 'TELESCOP', 'INSTRUME', 'OBSERVER']\n",
      "INFO:pyscope.observatory.observatory:Getting header from MaxIm image\n"
     ]
    },
    {
     "name": "stdout",
     "output_type": "stream",
     "text": [
      "Starting 30s exposure...\n"
     ]
    },
    {
     "name": "stderr",
     "output_type": "stream",
     "text": [
      "INFO:pyscope.observatory.observatory:Using Maxim to save image\n",
      "INFO:pyscope.observatory.observatory:Overwrite allowed for header keys ['AIRMASS', 'OBJECT', 'TELESCOP', 'INSTRUME', 'OBSERVER']\n",
      "INFO:pyscope.observatory.observatory:Getting header from MaxIm image\n"
     ]
    },
    {
     "name": "stdout",
     "output_type": "stream",
     "text": [
      "Starting 30s exposure...\n"
     ]
    },
    {
     "name": "stderr",
     "output_type": "stream",
     "text": [
      "INFO:pyscope.observatory.observatory:Using Maxim to save image\n",
      "INFO:pyscope.observatory.observatory:Overwrite allowed for header keys ['AIRMASS', 'OBJECT', 'TELESCOP', 'INSTRUME', 'OBSERVER']\n",
      "INFO:pyscope.observatory.observatory:Getting header from MaxIm image\n"
     ]
    },
    {
     "name": "stdout",
     "output_type": "stream",
     "text": [
      "Starting 30s exposure...\n"
     ]
    },
    {
     "name": "stderr",
     "output_type": "stream",
     "text": [
      "INFO:pyscope.observatory.observatory:Using Maxim to save image\n",
      "INFO:pyscope.observatory.observatory:Overwrite allowed for header keys ['AIRMASS', 'OBJECT', 'TELESCOP', 'INSTRUME', 'OBSERVER']\n",
      "INFO:pyscope.observatory.observatory:Getting header from MaxIm image\n"
     ]
    },
    {
     "name": "stdout",
     "output_type": "stream",
     "text": [
      "Starting 120s exposure...\n"
     ]
    },
    {
     "name": "stderr",
     "output_type": "stream",
     "text": [
      "INFO:pyscope.observatory.observatory:Using Maxim to save image\n",
      "INFO:pyscope.observatory.observatory:Overwrite allowed for header keys ['AIRMASS', 'OBJECT', 'TELESCOP', 'INSTRUME', 'OBSERVER']\n",
      "INFO:pyscope.observatory.observatory:Getting header from MaxIm image\n"
     ]
    },
    {
     "name": "stdout",
     "output_type": "stream",
     "text": [
      "Starting 30s exposure...\n"
     ]
    },
    {
     "name": "stderr",
     "output_type": "stream",
     "text": [
      "INFO:pyscope.observatory.observatory:Using Maxim to save image\n",
      "INFO:pyscope.observatory.observatory:Overwrite allowed for header keys ['AIRMASS', 'OBJECT', 'TELESCOP', 'INSTRUME', 'OBSERVER']\n",
      "INFO:pyscope.observatory.observatory:Getting header from MaxIm image\n"
     ]
    },
    {
     "name": "stdout",
     "output_type": "stream",
     "text": [
      "Starting 30s exposure...\n"
     ]
    },
    {
     "name": "stderr",
     "output_type": "stream",
     "text": [
      "INFO:pyscope.observatory.observatory:Using Maxim to save image\n",
      "INFO:pyscope.observatory.observatory:Overwrite allowed for header keys ['AIRMASS', 'OBJECT', 'TELESCOP', 'INSTRUME', 'OBSERVER']\n",
      "INFO:pyscope.observatory.observatory:Getting header from MaxIm image\n"
     ]
    },
    {
     "name": "stdout",
     "output_type": "stream",
     "text": [
      "Starting 30s exposure...\n"
     ]
    },
    {
     "name": "stderr",
     "output_type": "stream",
     "text": [
      "INFO:pyscope.observatory.observatory:Using Maxim to save image\n",
      "INFO:pyscope.observatory.observatory:Overwrite allowed for header keys ['AIRMASS', 'OBJECT', 'TELESCOP', 'INSTRUME', 'OBSERVER']\n",
      "INFO:pyscope.observatory.observatory:Getting header from MaxIm image\n"
     ]
    },
    {
     "name": "stdout",
     "output_type": "stream",
     "text": [
      "Starting 30s exposure...\n"
     ]
    },
    {
     "name": "stderr",
     "output_type": "stream",
     "text": [
      "INFO:pyscope.observatory.observatory:Using Maxim to save image\n",
      "INFO:pyscope.observatory.observatory:Overwrite allowed for header keys ['AIRMASS', 'OBJECT', 'TELESCOP', 'INSTRUME', 'OBSERVER']\n",
      "INFO:pyscope.observatory.observatory:Getting header from MaxIm image\n"
     ]
    },
    {
     "name": "stdout",
     "output_type": "stream",
     "text": [
      "Starting 30s exposure...\n"
     ]
    },
    {
     "name": "stderr",
     "output_type": "stream",
     "text": [
      "INFO:pyscope.observatory.observatory:Using Maxim to save image\n",
      "INFO:pyscope.observatory.observatory:Overwrite allowed for header keys ['AIRMASS', 'OBJECT', 'TELESCOP', 'INSTRUME', 'OBSERVER']\n",
      "INFO:pyscope.observatory.observatory:Getting header from MaxIm image\n"
     ]
    },
    {
     "name": "stdout",
     "output_type": "stream",
     "text": [
      "Starting 30s exposure...\n"
     ]
    },
    {
     "name": "stderr",
     "output_type": "stream",
     "text": [
      "INFO:pyscope.observatory.observatory:Using Maxim to save image\n",
      "INFO:pyscope.observatory.observatory:Overwrite allowed for header keys ['AIRMASS', 'OBJECT', 'TELESCOP', 'INSTRUME', 'OBSERVER']\n",
      "INFO:pyscope.observatory.observatory:Getting header from MaxIm image\n"
     ]
    },
    {
     "name": "stdout",
     "output_type": "stream",
     "text": [
      "Starting 120s exposure...\n"
     ]
    },
    {
     "name": "stderr",
     "output_type": "stream",
     "text": [
      "INFO:pyscope.observatory.observatory:Using Maxim to save image\n",
      "INFO:pyscope.observatory.observatory:Overwrite allowed for header keys ['AIRMASS', 'OBJECT', 'TELESCOP', 'INSTRUME', 'OBSERVER']\n",
      "INFO:pyscope.observatory.observatory:Getting header from MaxIm image\n"
     ]
    },
    {
     "name": "stdout",
     "output_type": "stream",
     "text": [
      "Starting 30s exposure...\n"
     ]
    },
    {
     "name": "stderr",
     "output_type": "stream",
     "text": [
      "INFO:pyscope.observatory.observatory:Using Maxim to save image\n",
      "INFO:pyscope.observatory.observatory:Overwrite allowed for header keys ['AIRMASS', 'OBJECT', 'TELESCOP', 'INSTRUME', 'OBSERVER']\n",
      "INFO:pyscope.observatory.observatory:Getting header from MaxIm image\n"
     ]
    },
    {
     "name": "stdout",
     "output_type": "stream",
     "text": [
      "Starting 30s exposure...\n"
     ]
    },
    {
     "name": "stderr",
     "output_type": "stream",
     "text": [
      "INFO:pyscope.observatory.observatory:Using Maxim to save image\n",
      "INFO:pyscope.observatory.observatory:Overwrite allowed for header keys ['AIRMASS', 'OBJECT', 'TELESCOP', 'INSTRUME', 'OBSERVER']\n",
      "INFO:pyscope.observatory.observatory:Getting header from MaxIm image\n"
     ]
    },
    {
     "name": "stdout",
     "output_type": "stream",
     "text": [
      "Starting 30s exposure...\n"
     ]
    },
    {
     "name": "stderr",
     "output_type": "stream",
     "text": [
      "INFO:pyscope.observatory.observatory:Using Maxim to save image\n",
      "INFO:pyscope.observatory.observatory:Overwrite allowed for header keys ['AIRMASS', 'OBJECT', 'TELESCOP', 'INSTRUME', 'OBSERVER']\n",
      "INFO:pyscope.observatory.observatory:Getting header from MaxIm image\n"
     ]
    },
    {
     "name": "stdout",
     "output_type": "stream",
     "text": [
      "Starting 30s exposure...\n"
     ]
    },
    {
     "name": "stderr",
     "output_type": "stream",
     "text": [
      "INFO:pyscope.observatory.observatory:Using Maxim to save image\n",
      "INFO:pyscope.observatory.observatory:Overwrite allowed for header keys ['AIRMASS', 'OBJECT', 'TELESCOP', 'INSTRUME', 'OBSERVER']\n",
      "INFO:pyscope.observatory.observatory:Getting header from MaxIm image\n"
     ]
    },
    {
     "name": "stdout",
     "output_type": "stream",
     "text": [
      "Starting 30s exposure...\n"
     ]
    },
    {
     "name": "stderr",
     "output_type": "stream",
     "text": [
      "INFO:pyscope.observatory.observatory:Using Maxim to save image\n",
      "INFO:pyscope.observatory.observatory:Overwrite allowed for header keys ['AIRMASS', 'OBJECT', 'TELESCOP', 'INSTRUME', 'OBSERVER']\n",
      "INFO:pyscope.observatory.observatory:Getting header from MaxIm image\n"
     ]
    },
    {
     "name": "stdout",
     "output_type": "stream",
     "text": [
      "Starting 30s exposure...\n"
     ]
    },
    {
     "name": "stderr",
     "output_type": "stream",
     "text": [
      "INFO:pyscope.observatory.observatory:Using Maxim to save image\n",
      "INFO:pyscope.observatory.observatory:Overwrite allowed for header keys ['AIRMASS', 'OBJECT', 'TELESCOP', 'INSTRUME', 'OBSERVER']\n",
      "INFO:pyscope.observatory.observatory:Getting header from MaxIm image\n"
     ]
    },
    {
     "name": "stdout",
     "output_type": "stream",
     "text": [
      "Starting 120s exposure...\n"
     ]
    },
    {
     "name": "stderr",
     "output_type": "stream",
     "text": [
      "INFO:pyscope.observatory.observatory:Using Maxim to save image\n",
      "INFO:pyscope.observatory.observatory:Overwrite allowed for header keys ['AIRMASS', 'OBJECT', 'TELESCOP', 'INSTRUME', 'OBSERVER']\n",
      "INFO:pyscope.observatory.observatory:Getting header from MaxIm image\n"
     ]
    },
    {
     "name": "stdout",
     "output_type": "stream",
     "text": [
      "Starting 30s exposure...\n"
     ]
    },
    {
     "name": "stderr",
     "output_type": "stream",
     "text": [
      "INFO:pyscope.observatory.observatory:Using Maxim to save image\n",
      "INFO:pyscope.observatory.observatory:Overwrite allowed for header keys ['AIRMASS', 'OBJECT', 'TELESCOP', 'INSTRUME', 'OBSERVER']\n",
      "INFO:pyscope.observatory.observatory:Getting header from MaxIm image\n"
     ]
    },
    {
     "name": "stdout",
     "output_type": "stream",
     "text": [
      "Starting 30s exposure...\n"
     ]
    },
    {
     "name": "stderr",
     "output_type": "stream",
     "text": [
      "INFO:pyscope.observatory.observatory:Using Maxim to save image\n",
      "INFO:pyscope.observatory.observatory:Overwrite allowed for header keys ['AIRMASS', 'OBJECT', 'TELESCOP', 'INSTRUME', 'OBSERVER']\n",
      "INFO:pyscope.observatory.observatory:Getting header from MaxIm image\n"
     ]
    },
    {
     "name": "stdout",
     "output_type": "stream",
     "text": [
      "Starting 30s exposure...\n"
     ]
    },
    {
     "name": "stderr",
     "output_type": "stream",
     "text": [
      "INFO:pyscope.observatory.observatory:Using Maxim to save image\n",
      "INFO:pyscope.observatory.observatory:Overwrite allowed for header keys ['AIRMASS', 'OBJECT', 'TELESCOP', 'INSTRUME', 'OBSERVER']\n",
      "INFO:pyscope.observatory.observatory:Getting header from MaxIm image\n"
     ]
    },
    {
     "name": "stdout",
     "output_type": "stream",
     "text": [
      "Starting 30s exposure...\n"
     ]
    },
    {
     "name": "stderr",
     "output_type": "stream",
     "text": [
      "INFO:pyscope.observatory.observatory:Using Maxim to save image\n",
      "INFO:pyscope.observatory.observatory:Overwrite allowed for header keys ['AIRMASS', 'OBJECT', 'TELESCOP', 'INSTRUME', 'OBSERVER']\n",
      "INFO:pyscope.observatory.observatory:Getting header from MaxIm image\n"
     ]
    },
    {
     "name": "stdout",
     "output_type": "stream",
     "text": [
      "Starting 30s exposure...\n"
     ]
    },
    {
     "name": "stderr",
     "output_type": "stream",
     "text": [
      "INFO:pyscope.observatory.observatory:Using Maxim to save image\n",
      "INFO:pyscope.observatory.observatory:Overwrite allowed for header keys ['AIRMASS', 'OBJECT', 'TELESCOP', 'INSTRUME', 'OBSERVER']\n",
      "INFO:pyscope.observatory.observatory:Getting header from MaxIm image\n"
     ]
    },
    {
     "name": "stdout",
     "output_type": "stream",
     "text": [
      "Starting 30s exposure...\n"
     ]
    },
    {
     "name": "stderr",
     "output_type": "stream",
     "text": [
      "INFO:pyscope.observatory.observatory:Using Maxim to save image\n",
      "INFO:pyscope.observatory.observatory:Overwrite allowed for header keys ['AIRMASS', 'OBJECT', 'TELESCOP', 'INSTRUME', 'OBSERVER']\n",
      "INFO:pyscope.observatory.observatory:Getting header from MaxIm image\n"
     ]
    },
    {
     "name": "stdout",
     "output_type": "stream",
     "text": [
      "Starting 120s exposure...\n"
     ]
    },
    {
     "name": "stderr",
     "output_type": "stream",
     "text": [
      "INFO:pyscope.observatory.observatory:Using Maxim to save image\n",
      "INFO:pyscope.observatory.observatory:Overwrite allowed for header keys ['AIRMASS', 'OBJECT', 'TELESCOP', 'INSTRUME', 'OBSERVER']\n",
      "INFO:pyscope.observatory.observatory:Getting header from MaxIm image\n"
     ]
    },
    {
     "name": "stdout",
     "output_type": "stream",
     "text": [
      "Starting 30s exposure...\n"
     ]
    },
    {
     "name": "stderr",
     "output_type": "stream",
     "text": [
      "INFO:pyscope.observatory.observatory:Using Maxim to save image\n",
      "INFO:pyscope.observatory.observatory:Overwrite allowed for header keys ['AIRMASS', 'OBJECT', 'TELESCOP', 'INSTRUME', 'OBSERVER']\n",
      "INFO:pyscope.observatory.observatory:Getting header from MaxIm image\n"
     ]
    },
    {
     "name": "stdout",
     "output_type": "stream",
     "text": [
      "Starting 30s exposure...\n"
     ]
    },
    {
     "name": "stderr",
     "output_type": "stream",
     "text": [
      "INFO:pyscope.observatory.observatory:Using Maxim to save image\n",
      "INFO:pyscope.observatory.observatory:Overwrite allowed for header keys ['AIRMASS', 'OBJECT', 'TELESCOP', 'INSTRUME', 'OBSERVER']\n",
      "INFO:pyscope.observatory.observatory:Getting header from MaxIm image\n"
     ]
    },
    {
     "name": "stdout",
     "output_type": "stream",
     "text": [
      "Starting 30s exposure...\n"
     ]
    },
    {
     "name": "stderr",
     "output_type": "stream",
     "text": [
      "INFO:pyscope.observatory.observatory:Using Maxim to save image\n",
      "INFO:pyscope.observatory.observatory:Overwrite allowed for header keys ['AIRMASS', 'OBJECT', 'TELESCOP', 'INSTRUME', 'OBSERVER']\n",
      "INFO:pyscope.observatory.observatory:Getting header from MaxIm image\n"
     ]
    },
    {
     "name": "stdout",
     "output_type": "stream",
     "text": [
      "Starting 30s exposure...\n"
     ]
    },
    {
     "name": "stderr",
     "output_type": "stream",
     "text": [
      "INFO:pyscope.observatory.observatory:Using Maxim to save image\n",
      "INFO:pyscope.observatory.observatory:Overwrite allowed for header keys ['AIRMASS', 'OBJECT', 'TELESCOP', 'INSTRUME', 'OBSERVER']\n",
      "INFO:pyscope.observatory.observatory:Getting header from MaxIm image\n"
     ]
    },
    {
     "name": "stdout",
     "output_type": "stream",
     "text": [
      "Starting 30s exposure...\n"
     ]
    },
    {
     "name": "stderr",
     "output_type": "stream",
     "text": [
      "INFO:pyscope.observatory.observatory:Using Maxim to save image\n",
      "INFO:pyscope.observatory.observatory:Overwrite allowed for header keys ['AIRMASS', 'OBJECT', 'TELESCOP', 'INSTRUME', 'OBSERVER']\n",
      "INFO:pyscope.observatory.observatory:Getting header from MaxIm image\n"
     ]
    },
    {
     "name": "stdout",
     "output_type": "stream",
     "text": [
      "Starting 30s exposure...\n"
     ]
    },
    {
     "name": "stderr",
     "output_type": "stream",
     "text": [
      "INFO:pyscope.observatory.observatory:Using Maxim to save image\n",
      "INFO:pyscope.observatory.observatory:Overwrite allowed for header keys ['AIRMASS', 'OBJECT', 'TELESCOP', 'INSTRUME', 'OBSERVER']\n",
      "INFO:pyscope.observatory.observatory:Getting header from MaxIm image\n"
     ]
    },
    {
     "name": "stdout",
     "output_type": "stream",
     "text": [
      "Starting 120s exposure...\n"
     ]
    },
    {
     "name": "stderr",
     "output_type": "stream",
     "text": [
      "INFO:pyscope.observatory.observatory:Using Maxim to save image\n",
      "INFO:pyscope.observatory.observatory:Overwrite allowed for header keys ['AIRMASS', 'OBJECT', 'TELESCOP', 'INSTRUME', 'OBSERVER']\n",
      "INFO:pyscope.observatory.observatory:Getting header from MaxIm image\n"
     ]
    },
    {
     "name": "stdout",
     "output_type": "stream",
     "text": [
      "Starting 30s exposure...\n"
     ]
    },
    {
     "name": "stderr",
     "output_type": "stream",
     "text": [
      "INFO:pyscope.observatory.observatory:Using Maxim to save image\n",
      "INFO:pyscope.observatory.observatory:Overwrite allowed for header keys ['AIRMASS', 'OBJECT', 'TELESCOP', 'INSTRUME', 'OBSERVER']\n",
      "INFO:pyscope.observatory.observatory:Getting header from MaxIm image\n"
     ]
    },
    {
     "name": "stdout",
     "output_type": "stream",
     "text": [
      "Starting 30s exposure...\n"
     ]
    },
    {
     "name": "stderr",
     "output_type": "stream",
     "text": [
      "INFO:pyscope.observatory.observatory:Using Maxim to save image\n",
      "INFO:pyscope.observatory.observatory:Overwrite allowed for header keys ['AIRMASS', 'OBJECT', 'TELESCOP', 'INSTRUME', 'OBSERVER']\n",
      "INFO:pyscope.observatory.observatory:Getting header from MaxIm image\n"
     ]
    },
    {
     "name": "stdout",
     "output_type": "stream",
     "text": [
      "Starting 30s exposure...\n"
     ]
    },
    {
     "name": "stderr",
     "output_type": "stream",
     "text": [
      "INFO:pyscope.observatory.observatory:Using Maxim to save image\n",
      "INFO:pyscope.observatory.observatory:Overwrite allowed for header keys ['AIRMASS', 'OBJECT', 'TELESCOP', 'INSTRUME', 'OBSERVER']\n",
      "INFO:pyscope.observatory.observatory:Getting header from MaxIm image\n"
     ]
    },
    {
     "name": "stdout",
     "output_type": "stream",
     "text": [
      "Starting 30s exposure...\n"
     ]
    },
    {
     "name": "stderr",
     "output_type": "stream",
     "text": [
      "INFO:pyscope.observatory.observatory:Using Maxim to save image\n",
      "INFO:pyscope.observatory.observatory:Overwrite allowed for header keys ['AIRMASS', 'OBJECT', 'TELESCOP', 'INSTRUME', 'OBSERVER']\n",
      "INFO:pyscope.observatory.observatory:Getting header from MaxIm image\n"
     ]
    },
    {
     "name": "stdout",
     "output_type": "stream",
     "text": [
      "Starting 30s exposure...\n"
     ]
    },
    {
     "name": "stderr",
     "output_type": "stream",
     "text": [
      "INFO:pyscope.observatory.observatory:Using Maxim to save image\n",
      "INFO:pyscope.observatory.observatory:Overwrite allowed for header keys ['AIRMASS', 'OBJECT', 'TELESCOP', 'INSTRUME', 'OBSERVER']\n",
      "INFO:pyscope.observatory.observatory:Getting header from MaxIm image\n"
     ]
    },
    {
     "name": "stdout",
     "output_type": "stream",
     "text": [
      "Starting 30s exposure...\n"
     ]
    },
    {
     "name": "stderr",
     "output_type": "stream",
     "text": [
      "INFO:pyscope.observatory.observatory:Using Maxim to save image\n",
      "INFO:pyscope.observatory.observatory:Overwrite allowed for header keys ['AIRMASS', 'OBJECT', 'TELESCOP', 'INSTRUME', 'OBSERVER']\n",
      "INFO:pyscope.observatory.observatory:Getting header from MaxIm image\n"
     ]
    },
    {
     "name": "stdout",
     "output_type": "stream",
     "text": [
      "Starting 120s exposure...\n"
     ]
    },
    {
     "name": "stderr",
     "output_type": "stream",
     "text": [
      "INFO:pyscope.observatory.observatory:Using Maxim to save image\n",
      "INFO:pyscope.observatory.observatory:Overwrite allowed for header keys ['AIRMASS', 'OBJECT', 'TELESCOP', 'INSTRUME', 'OBSERVER']\n",
      "INFO:pyscope.observatory.observatory:Getting header from MaxIm image\n"
     ]
    },
    {
     "name": "stdout",
     "output_type": "stream",
     "text": [
      "Starting 30s exposure...\n"
     ]
    },
    {
     "name": "stderr",
     "output_type": "stream",
     "text": [
      "INFO:pyscope.observatory.observatory:Using Maxim to save image\n",
      "INFO:pyscope.observatory.observatory:Overwrite allowed for header keys ['AIRMASS', 'OBJECT', 'TELESCOP', 'INSTRUME', 'OBSERVER']\n",
      "INFO:pyscope.observatory.observatory:Getting header from MaxIm image\n"
     ]
    },
    {
     "name": "stdout",
     "output_type": "stream",
     "text": [
      "Starting 30s exposure...\n"
     ]
    },
    {
     "name": "stderr",
     "output_type": "stream",
     "text": [
      "INFO:pyscope.observatory.observatory:Using Maxim to save image\n",
      "INFO:pyscope.observatory.observatory:Overwrite allowed for header keys ['AIRMASS', 'OBJECT', 'TELESCOP', 'INSTRUME', 'OBSERVER']\n",
      "INFO:pyscope.observatory.observatory:Getting header from MaxIm image\n"
     ]
    },
    {
     "name": "stdout",
     "output_type": "stream",
     "text": [
      "Starting 30s exposure...\n"
     ]
    },
    {
     "name": "stderr",
     "output_type": "stream",
     "text": [
      "INFO:pyscope.observatory.observatory:Using Maxim to save image\n",
      "INFO:pyscope.observatory.observatory:Overwrite allowed for header keys ['AIRMASS', 'OBJECT', 'TELESCOP', 'INSTRUME', 'OBSERVER']\n",
      "INFO:pyscope.observatory.observatory:Getting header from MaxIm image\n"
     ]
    },
    {
     "name": "stdout",
     "output_type": "stream",
     "text": [
      "Starting 30s exposure...\n"
     ]
    },
    {
     "name": "stderr",
     "output_type": "stream",
     "text": [
      "INFO:pyscope.observatory.observatory:Using Maxim to save image\n",
      "INFO:pyscope.observatory.observatory:Overwrite allowed for header keys ['AIRMASS', 'OBJECT', 'TELESCOP', 'INSTRUME', 'OBSERVER']\n",
      "INFO:pyscope.observatory.observatory:Getting header from MaxIm image\n"
     ]
    },
    {
     "name": "stdout",
     "output_type": "stream",
     "text": [
      "Starting 30s exposure...\n"
     ]
    },
    {
     "name": "stderr",
     "output_type": "stream",
     "text": [
      "INFO:pyscope.observatory.observatory:Using Maxim to save image\n",
      "INFO:pyscope.observatory.observatory:Overwrite allowed for header keys ['AIRMASS', 'OBJECT', 'TELESCOP', 'INSTRUME', 'OBSERVER']\n",
      "INFO:pyscope.observatory.observatory:Getting header from MaxIm image\n"
     ]
    },
    {
     "name": "stdout",
     "output_type": "stream",
     "text": [
      "Starting 30s exposure...\n"
     ]
    },
    {
     "name": "stderr",
     "output_type": "stream",
     "text": [
      "INFO:pyscope.observatory.observatory:Using Maxim to save image\n",
      "INFO:pyscope.observatory.observatory:Overwrite allowed for header keys ['AIRMASS', 'OBJECT', 'TELESCOP', 'INSTRUME', 'OBSERVER']\n",
      "INFO:pyscope.observatory.observatory:Getting header from MaxIm image\n"
     ]
    },
    {
     "name": "stdout",
     "output_type": "stream",
     "text": [
      "Starting 120s exposure...\n"
     ]
    },
    {
     "name": "stderr",
     "output_type": "stream",
     "text": [
      "INFO:pyscope.observatory.observatory:Using Maxim to save image\n",
      "INFO:pyscope.observatory.observatory:Overwrite allowed for header keys ['AIRMASS', 'OBJECT', 'TELESCOP', 'INSTRUME', 'OBSERVER']\n",
      "INFO:pyscope.observatory.observatory:Getting header from MaxIm image\n"
     ]
    },
    {
     "name": "stdout",
     "output_type": "stream",
     "text": [
      "Starting 30s exposure...\n"
     ]
    },
    {
     "name": "stderr",
     "output_type": "stream",
     "text": [
      "INFO:pyscope.observatory.observatory:Using Maxim to save image\n",
      "INFO:pyscope.observatory.observatory:Overwrite allowed for header keys ['AIRMASS', 'OBJECT', 'TELESCOP', 'INSTRUME', 'OBSERVER']\n",
      "INFO:pyscope.observatory.observatory:Getting header from MaxIm image\n"
     ]
    },
    {
     "name": "stdout",
     "output_type": "stream",
     "text": [
      "Starting 30s exposure...\n"
     ]
    },
    {
     "name": "stderr",
     "output_type": "stream",
     "text": [
      "INFO:pyscope.observatory.observatory:Using Maxim to save image\n",
      "INFO:pyscope.observatory.observatory:Overwrite allowed for header keys ['AIRMASS', 'OBJECT', 'TELESCOP', 'INSTRUME', 'OBSERVER']\n",
      "INFO:pyscope.observatory.observatory:Getting header from MaxIm image\n"
     ]
    },
    {
     "name": "stdout",
     "output_type": "stream",
     "text": [
      "Starting 30s exposure...\n"
     ]
    },
    {
     "name": "stderr",
     "output_type": "stream",
     "text": [
      "INFO:pyscope.observatory.observatory:Using Maxim to save image\n",
      "INFO:pyscope.observatory.observatory:Overwrite allowed for header keys ['AIRMASS', 'OBJECT', 'TELESCOP', 'INSTRUME', 'OBSERVER']\n",
      "INFO:pyscope.observatory.observatory:Getting header from MaxIm image\n"
     ]
    },
    {
     "name": "stdout",
     "output_type": "stream",
     "text": [
      "Starting 30s exposure...\n"
     ]
    },
    {
     "name": "stderr",
     "output_type": "stream",
     "text": [
      "INFO:pyscope.observatory.observatory:Using Maxim to save image\n",
      "INFO:pyscope.observatory.observatory:Overwrite allowed for header keys ['AIRMASS', 'OBJECT', 'TELESCOP', 'INSTRUME', 'OBSERVER']\n",
      "INFO:pyscope.observatory.observatory:Getting header from MaxIm image\n"
     ]
    },
    {
     "name": "stdout",
     "output_type": "stream",
     "text": [
      "Starting 30s exposure...\n"
     ]
    },
    {
     "name": "stderr",
     "output_type": "stream",
     "text": [
      "INFO:pyscope.observatory.observatory:Using Maxim to save image\n",
      "INFO:pyscope.observatory.observatory:Overwrite allowed for header keys ['AIRMASS', 'OBJECT', 'TELESCOP', 'INSTRUME', 'OBSERVER']\n",
      "INFO:pyscope.observatory.observatory:Getting header from MaxIm image\n"
     ]
    },
    {
     "name": "stdout",
     "output_type": "stream",
     "text": [
      "Starting 30s exposure...\n"
     ]
    },
    {
     "name": "stderr",
     "output_type": "stream",
     "text": [
      "INFO:pyscope.observatory.observatory:Using Maxim to save image\n",
      "INFO:pyscope.observatory.observatory:Overwrite allowed for header keys ['AIRMASS', 'OBJECT', 'TELESCOP', 'INSTRUME', 'OBSERVER']\n",
      "INFO:pyscope.observatory.observatory:Getting header from MaxIm image\n"
     ]
    },
    {
     "name": "stdout",
     "output_type": "stream",
     "text": [
      "Starting 120s exposure...\n"
     ]
    },
    {
     "name": "stderr",
     "output_type": "stream",
     "text": [
      "INFO:pyscope.observatory.observatory:Using Maxim to save image\n",
      "INFO:pyscope.observatory.observatory:Overwrite allowed for header keys ['AIRMASS', 'OBJECT', 'TELESCOP', 'INSTRUME', 'OBSERVER']\n",
      "INFO:pyscope.observatory.observatory:Getting header from MaxIm image\n"
     ]
    },
    {
     "name": "stdout",
     "output_type": "stream",
     "text": [
      "Starting 30s exposure...\n"
     ]
    },
    {
     "name": "stderr",
     "output_type": "stream",
     "text": [
      "INFO:pyscope.observatory.observatory:Using Maxim to save image\n",
      "INFO:pyscope.observatory.observatory:Overwrite allowed for header keys ['AIRMASS', 'OBJECT', 'TELESCOP', 'INSTRUME', 'OBSERVER']\n",
      "INFO:pyscope.observatory.observatory:Getting header from MaxIm image\n"
     ]
    },
    {
     "name": "stdout",
     "output_type": "stream",
     "text": [
      "Starting 30s exposure...\n"
     ]
    },
    {
     "name": "stderr",
     "output_type": "stream",
     "text": [
      "INFO:pyscope.observatory.observatory:Using Maxim to save image\n",
      "INFO:pyscope.observatory.observatory:Overwrite allowed for header keys ['AIRMASS', 'OBJECT', 'TELESCOP', 'INSTRUME', 'OBSERVER']\n",
      "INFO:pyscope.observatory.observatory:Getting header from MaxIm image\n"
     ]
    },
    {
     "name": "stdout",
     "output_type": "stream",
     "text": [
      "Starting 30s exposure...\n"
     ]
    },
    {
     "name": "stderr",
     "output_type": "stream",
     "text": [
      "INFO:pyscope.observatory.observatory:Using Maxim to save image\n",
      "INFO:pyscope.observatory.observatory:Overwrite allowed for header keys ['AIRMASS', 'OBJECT', 'TELESCOP', 'INSTRUME', 'OBSERVER']\n",
      "INFO:pyscope.observatory.observatory:Getting header from MaxIm image\n"
     ]
    },
    {
     "name": "stdout",
     "output_type": "stream",
     "text": [
      "Starting 30s exposure...\n"
     ]
    },
    {
     "name": "stderr",
     "output_type": "stream",
     "text": [
      "INFO:pyscope.observatory.observatory:Using Maxim to save image\n",
      "INFO:pyscope.observatory.observatory:Overwrite allowed for header keys ['AIRMASS', 'OBJECT', 'TELESCOP', 'INSTRUME', 'OBSERVER']\n",
      "INFO:pyscope.observatory.observatory:Getting header from MaxIm image\n"
     ]
    },
    {
     "name": "stdout",
     "output_type": "stream",
     "text": [
      "Starting 30s exposure...\n"
     ]
    },
    {
     "name": "stderr",
     "output_type": "stream",
     "text": [
      "INFO:pyscope.observatory.observatory:Using Maxim to save image\n",
      "INFO:pyscope.observatory.observatory:Overwrite allowed for header keys ['AIRMASS', 'OBJECT', 'TELESCOP', 'INSTRUME', 'OBSERVER']\n",
      "INFO:pyscope.observatory.observatory:Getting header from MaxIm image\n"
     ]
    },
    {
     "name": "stdout",
     "output_type": "stream",
     "text": [
      "Starting 30s exposure...\n"
     ]
    },
    {
     "name": "stderr",
     "output_type": "stream",
     "text": [
      "INFO:pyscope.observatory.observatory:Using Maxim to save image\n",
      "INFO:pyscope.observatory.observatory:Overwrite allowed for header keys ['AIRMASS', 'OBJECT', 'TELESCOP', 'INSTRUME', 'OBSERVER']\n",
      "INFO:pyscope.observatory.observatory:Getting header from MaxIm image\n"
     ]
    },
    {
     "name": "stdout",
     "output_type": "stream",
     "text": [
      "Starting 120s exposure...\n"
     ]
    },
    {
     "name": "stderr",
     "output_type": "stream",
     "text": [
      "INFO:pyscope.observatory.observatory:Using Maxim to save image\n",
      "INFO:pyscope.observatory.observatory:Overwrite allowed for header keys ['AIRMASS', 'OBJECT', 'TELESCOP', 'INSTRUME', 'OBSERVER']\n",
      "INFO:pyscope.observatory.observatory:Getting header from MaxIm image\n"
     ]
    },
    {
     "name": "stdout",
     "output_type": "stream",
     "text": [
      "Starting 30s exposure...\n"
     ]
    },
    {
     "name": "stderr",
     "output_type": "stream",
     "text": [
      "INFO:pyscope.observatory.observatory:Using Maxim to save image\n",
      "INFO:pyscope.observatory.observatory:Overwrite allowed for header keys ['AIRMASS', 'OBJECT', 'TELESCOP', 'INSTRUME', 'OBSERVER']\n",
      "INFO:pyscope.observatory.observatory:Getting header from MaxIm image\n"
     ]
    },
    {
     "name": "stdout",
     "output_type": "stream",
     "text": [
      "Starting 30s exposure...\n"
     ]
    },
    {
     "name": "stderr",
     "output_type": "stream",
     "text": [
      "INFO:pyscope.observatory.observatory:Using Maxim to save image\n",
      "INFO:pyscope.observatory.observatory:Overwrite allowed for header keys ['AIRMASS', 'OBJECT', 'TELESCOP', 'INSTRUME', 'OBSERVER']\n",
      "INFO:pyscope.observatory.observatory:Getting header from MaxIm image\n"
     ]
    },
    {
     "name": "stdout",
     "output_type": "stream",
     "text": [
      "Starting 30s exposure...\n"
     ]
    },
    {
     "name": "stderr",
     "output_type": "stream",
     "text": [
      "INFO:pyscope.observatory.observatory:Using Maxim to save image\n",
      "INFO:pyscope.observatory.observatory:Overwrite allowed for header keys ['AIRMASS', 'OBJECT', 'TELESCOP', 'INSTRUME', 'OBSERVER']\n",
      "INFO:pyscope.observatory.observatory:Getting header from MaxIm image\n"
     ]
    },
    {
     "name": "stdout",
     "output_type": "stream",
     "text": [
      "Starting 30s exposure...\n"
     ]
    },
    {
     "name": "stderr",
     "output_type": "stream",
     "text": [
      "INFO:pyscope.observatory.observatory:Using Maxim to save image\n",
      "INFO:pyscope.observatory.observatory:Overwrite allowed for header keys ['AIRMASS', 'OBJECT', 'TELESCOP', 'INSTRUME', 'OBSERVER']\n",
      "INFO:pyscope.observatory.observatory:Getting header from MaxIm image\n"
     ]
    },
    {
     "name": "stdout",
     "output_type": "stream",
     "text": [
      "Starting 30s exposure...\n"
     ]
    },
    {
     "name": "stderr",
     "output_type": "stream",
     "text": [
      "INFO:pyscope.observatory.observatory:Using Maxim to save image\n",
      "INFO:pyscope.observatory.observatory:Overwrite allowed for header keys ['AIRMASS', 'OBJECT', 'TELESCOP', 'INSTRUME', 'OBSERVER']\n",
      "INFO:pyscope.observatory.observatory:Getting header from MaxIm image\n"
     ]
    },
    {
     "name": "stdout",
     "output_type": "stream",
     "text": [
      "Starting 30s exposure...\n"
     ]
    },
    {
     "name": "stderr",
     "output_type": "stream",
     "text": [
      "INFO:pyscope.observatory.observatory:Using Maxim to save image\n",
      "INFO:pyscope.observatory.observatory:Overwrite allowed for header keys ['AIRMASS', 'OBJECT', 'TELESCOP', 'INSTRUME', 'OBSERVER']\n",
      "INFO:pyscope.observatory.observatory:Getting header from MaxIm image\n"
     ]
    },
    {
     "name": "stdout",
     "output_type": "stream",
     "text": [
      "Starting 120s exposure...\n"
     ]
    },
    {
     "name": "stderr",
     "output_type": "stream",
     "text": [
      "INFO:pyscope.observatory.observatory:Using Maxim to save image\n",
      "INFO:pyscope.observatory.observatory:Overwrite allowed for header keys ['AIRMASS', 'OBJECT', 'TELESCOP', 'INSTRUME', 'OBSERVER']\n",
      "INFO:pyscope.observatory.observatory:Getting header from MaxIm image\n"
     ]
    },
    {
     "name": "stdout",
     "output_type": "stream",
     "text": [
      "Starting 30s exposure...\n"
     ]
    },
    {
     "name": "stderr",
     "output_type": "stream",
     "text": [
      "INFO:pyscope.observatory.observatory:Using Maxim to save image\n",
      "INFO:pyscope.observatory.observatory:Overwrite allowed for header keys ['AIRMASS', 'OBJECT', 'TELESCOP', 'INSTRUME', 'OBSERVER']\n",
      "INFO:pyscope.observatory.observatory:Getting header from MaxIm image\n"
     ]
    },
    {
     "name": "stdout",
     "output_type": "stream",
     "text": [
      "Starting 30s exposure...\n"
     ]
    },
    {
     "name": "stderr",
     "output_type": "stream",
     "text": [
      "INFO:pyscope.observatory.observatory:Using Maxim to save image\n",
      "INFO:pyscope.observatory.observatory:Overwrite allowed for header keys ['AIRMASS', 'OBJECT', 'TELESCOP', 'INSTRUME', 'OBSERVER']\n",
      "INFO:pyscope.observatory.observatory:Getting header from MaxIm image\n"
     ]
    },
    {
     "name": "stdout",
     "output_type": "stream",
     "text": [
      "Starting 30s exposure...\n"
     ]
    },
    {
     "name": "stderr",
     "output_type": "stream",
     "text": [
      "INFO:pyscope.observatory.observatory:Using Maxim to save image\n",
      "INFO:pyscope.observatory.observatory:Overwrite allowed for header keys ['AIRMASS', 'OBJECT', 'TELESCOP', 'INSTRUME', 'OBSERVER']\n",
      "INFO:pyscope.observatory.observatory:Getting header from MaxIm image\n"
     ]
    },
    {
     "name": "stdout",
     "output_type": "stream",
     "text": [
      "Starting 30s exposure...\n"
     ]
    },
    {
     "name": "stderr",
     "output_type": "stream",
     "text": [
      "INFO:pyscope.observatory.observatory:Using Maxim to save image\n",
      "INFO:pyscope.observatory.observatory:Overwrite allowed for header keys ['AIRMASS', 'OBJECT', 'TELESCOP', 'INSTRUME', 'OBSERVER']\n",
      "INFO:pyscope.observatory.observatory:Getting header from MaxIm image\n"
     ]
    },
    {
     "name": "stdout",
     "output_type": "stream",
     "text": [
      "Starting 30s exposure...\n"
     ]
    },
    {
     "name": "stderr",
     "output_type": "stream",
     "text": [
      "INFO:pyscope.observatory.observatory:Using Maxim to save image\n",
      "INFO:pyscope.observatory.observatory:Overwrite allowed for header keys ['AIRMASS', 'OBJECT', 'TELESCOP', 'INSTRUME', 'OBSERVER']\n",
      "INFO:pyscope.observatory.observatory:Getting header from MaxIm image\n"
     ]
    },
    {
     "name": "stdout",
     "output_type": "stream",
     "text": [
      "Starting 30s exposure...\n"
     ]
    },
    {
     "name": "stderr",
     "output_type": "stream",
     "text": [
      "INFO:pyscope.observatory.observatory:Using Maxim to save image\n",
      "INFO:pyscope.observatory.observatory:Overwrite allowed for header keys ['AIRMASS', 'OBJECT', 'TELESCOP', 'INSTRUME', 'OBSERVER']\n",
      "INFO:pyscope.observatory.observatory:Getting header from MaxIm image\n"
     ]
    },
    {
     "name": "stdout",
     "output_type": "stream",
     "text": [
      "Starting 120s exposure...\n"
     ]
    },
    {
     "name": "stderr",
     "output_type": "stream",
     "text": [
      "INFO:pyscope.observatory.observatory:Using Maxim to save image\n",
      "INFO:pyscope.observatory.observatory:Overwrite allowed for header keys ['AIRMASS', 'OBJECT', 'TELESCOP', 'INSTRUME', 'OBSERVER']\n",
      "INFO:pyscope.observatory.observatory:Getting header from MaxIm image\n"
     ]
    },
    {
     "name": "stdout",
     "output_type": "stream",
     "text": [
      "Starting 30s exposure...\n"
     ]
    },
    {
     "name": "stderr",
     "output_type": "stream",
     "text": [
      "INFO:pyscope.observatory.observatory:Using Maxim to save image\n",
      "INFO:pyscope.observatory.observatory:Overwrite allowed for header keys ['AIRMASS', 'OBJECT', 'TELESCOP', 'INSTRUME', 'OBSERVER']\n",
      "INFO:pyscope.observatory.observatory:Getting header from MaxIm image\n"
     ]
    },
    {
     "name": "stdout",
     "output_type": "stream",
     "text": [
      "Starting 30s exposure...\n"
     ]
    },
    {
     "name": "stderr",
     "output_type": "stream",
     "text": [
      "INFO:pyscope.observatory.observatory:Using Maxim to save image\n",
      "INFO:pyscope.observatory.observatory:Overwrite allowed for header keys ['AIRMASS', 'OBJECT', 'TELESCOP', 'INSTRUME', 'OBSERVER']\n",
      "INFO:pyscope.observatory.observatory:Getting header from MaxIm image\n"
     ]
    },
    {
     "name": "stdout",
     "output_type": "stream",
     "text": [
      "Starting 30s exposure...\n"
     ]
    },
    {
     "name": "stderr",
     "output_type": "stream",
     "text": [
      "INFO:pyscope.observatory.observatory:Using Maxim to save image\n",
      "INFO:pyscope.observatory.observatory:Overwrite allowed for header keys ['AIRMASS', 'OBJECT', 'TELESCOP', 'INSTRUME', 'OBSERVER']\n",
      "INFO:pyscope.observatory.observatory:Getting header from MaxIm image\n"
     ]
    },
    {
     "name": "stdout",
     "output_type": "stream",
     "text": [
      "Starting 30s exposure...\n"
     ]
    },
    {
     "name": "stderr",
     "output_type": "stream",
     "text": [
      "INFO:pyscope.observatory.observatory:Using Maxim to save image\n",
      "INFO:pyscope.observatory.observatory:Overwrite allowed for header keys ['AIRMASS', 'OBJECT', 'TELESCOP', 'INSTRUME', 'OBSERVER']\n",
      "INFO:pyscope.observatory.observatory:Getting header from MaxIm image\n"
     ]
    },
    {
     "name": "stdout",
     "output_type": "stream",
     "text": [
      "Starting 30s exposure...\n"
     ]
    },
    {
     "name": "stderr",
     "output_type": "stream",
     "text": [
      "INFO:pyscope.observatory.observatory:Using Maxim to save image\n",
      "INFO:pyscope.observatory.observatory:Overwrite allowed for header keys ['AIRMASS', 'OBJECT', 'TELESCOP', 'INSTRUME', 'OBSERVER']\n",
      "INFO:pyscope.observatory.observatory:Getting header from MaxIm image\n"
     ]
    },
    {
     "name": "stdout",
     "output_type": "stream",
     "text": [
      "Starting 30s exposure...\n"
     ]
    },
    {
     "name": "stderr",
     "output_type": "stream",
     "text": [
      "INFO:pyscope.observatory.observatory:Using Maxim to save image\n",
      "INFO:pyscope.observatory.observatory:Overwrite allowed for header keys ['AIRMASS', 'OBJECT', 'TELESCOP', 'INSTRUME', 'OBSERVER']\n",
      "INFO:pyscope.observatory.observatory:Getting header from MaxIm image\n"
     ]
    },
    {
     "name": "stdout",
     "output_type": "stream",
     "text": [
      "Starting 120s exposure...\n"
     ]
    },
    {
     "name": "stderr",
     "output_type": "stream",
     "text": [
      "INFO:pyscope.observatory.observatory:Using Maxim to save image\n",
      "INFO:pyscope.observatory.observatory:Overwrite allowed for header keys ['AIRMASS', 'OBJECT', 'TELESCOP', 'INSTRUME', 'OBSERVER']\n",
      "INFO:pyscope.observatory.observatory:Getting header from MaxIm image\n"
     ]
    },
    {
     "name": "stdout",
     "output_type": "stream",
     "text": [
      "Starting 30s exposure...\n"
     ]
    },
    {
     "name": "stderr",
     "output_type": "stream",
     "text": [
      "INFO:pyscope.observatory.observatory:Using Maxim to save image\n",
      "INFO:pyscope.observatory.observatory:Overwrite allowed for header keys ['AIRMASS', 'OBJECT', 'TELESCOP', 'INSTRUME', 'OBSERVER']\n",
      "INFO:pyscope.observatory.observatory:Getting header from MaxIm image\n"
     ]
    },
    {
     "name": "stdout",
     "output_type": "stream",
     "text": [
      "Starting 30s exposure...\n"
     ]
    },
    {
     "name": "stderr",
     "output_type": "stream",
     "text": [
      "INFO:pyscope.observatory.observatory:Using Maxim to save image\n",
      "INFO:pyscope.observatory.observatory:Overwrite allowed for header keys ['AIRMASS', 'OBJECT', 'TELESCOP', 'INSTRUME', 'OBSERVER']\n",
      "INFO:pyscope.observatory.observatory:Getting header from MaxIm image\n"
     ]
    },
    {
     "name": "stdout",
     "output_type": "stream",
     "text": [
      "Starting 30s exposure...\n"
     ]
    },
    {
     "ename": "com_error",
     "evalue": "(-2147352567, 'Exception occurred.', (65535, 'MaxIm DL 6', 'Exposure Aborted', None, 0, 0), None)",
     "output_type": "error",
     "traceback": [
      "\u001b[1;31m---------------------------------------------------------------------------\u001b[0m",
      "\u001b[1;31mcom_error\u001b[0m                                 Traceback (most recent call last)",
      "Cell \u001b[1;32mIn[14], line 31\u001b[0m\n\u001b[0;32m     29\u001b[0m rlmt\u001b[38;5;241m.\u001b[39mfilter_wheel\u001b[38;5;241m.\u001b[39mPosition \u001b[38;5;241m=\u001b[39m filter_positions[filter_name]\n\u001b[0;32m     30\u001b[0m exp_time \u001b[38;5;241m=\u001b[39m \u001b[38;5;241m30\u001b[39m \u001b[38;5;66;03m# in seconds\u001b[39;00m\n\u001b[1;32m---> 31\u001b[0m \u001b[43mcapture_grism_image\u001b[49m\u001b[43m(\u001b[49m\u001b[43mfilter_name\u001b[49m\u001b[43m,\u001b[49m\u001b[43m \u001b[49m\u001b[43mobject_name\u001b[49m\u001b[43m,\u001b[49m\u001b[43m \u001b[49m\u001b[43mexp_time\u001b[49m\u001b[38;5;241;43m=\u001b[39;49m\u001b[43mexp_time\u001b[49m\u001b[43m,\u001b[49m\u001b[43m \u001b[49m\u001b[43mfilename_prefix\u001b[49m\u001b[38;5;241;43m=\u001b[39;49m\u001b[38;5;124;43m\"\u001b[39;49m\u001b[38;5;124;43mtricolor\u001b[39;49m\u001b[38;5;124;43m\"\u001b[39;49m\u001b[43m)\u001b[49m\n\u001b[0;32m     33\u001b[0m \u001b[38;5;28;01mif\u001b[39;00m i \u001b[38;5;241m%\u001b[39m \u001b[38;5;241m2\u001b[39m \u001b[38;5;241m==\u001b[39m \u001b[38;5;241m0\u001b[39m:\n\u001b[0;32m     34\u001b[0m     filter_name \u001b[38;5;241m=\u001b[39m \u001b[38;5;124m\"\u001b[39m\u001b[38;5;124mha\u001b[39m\u001b[38;5;124m\"\u001b[39m\n",
      "Cell \u001b[1;32mIn[4], line 32\u001b[0m, in \u001b[0;36mcapture_grism_image\u001b[1;34m(filter_name, object_name, exp_time, filename_prefix, binning)\u001b[0m\n\u001b[0;32m     28\u001b[0m     filename \u001b[38;5;241m=\u001b[39m pathlib\u001b[38;5;241m.\u001b[39mPath(save_dir) \u001b[38;5;241m/\u001b[39m \u001b[38;5;124mf\u001b[39m\u001b[38;5;124m\"\u001b[39m\u001b[38;5;132;01m{\u001b[39;00mfilename_base\u001b[38;5;132;01m}\u001b[39;00m\u001b[38;5;124m_\u001b[39m\u001b[38;5;132;01m{\u001b[39;00mi\u001b[38;5;132;01m}\u001b[39;00m\u001b[38;5;124m.fts\u001b[39m\u001b[38;5;124m\"\u001b[39m\n\u001b[0;32m     29\u001b[0m     \u001b[38;5;66;03m# print(f\"Checking if {filename} exists...\")\u001b[39;00m\n\u001b[0;32m     30\u001b[0m \n\u001b[0;32m     31\u001b[0m \u001b[38;5;66;03m# Save latest image\u001b[39;00m\n\u001b[1;32m---> 32\u001b[0m \u001b[38;5;28;01mwhile\u001b[39;00m \u001b[38;5;129;01mnot\u001b[39;00m \u001b[43mrlmt\u001b[49m\u001b[38;5;241;43m.\u001b[39;49m\u001b[43mcamera\u001b[49m\u001b[38;5;241;43m.\u001b[39;49m\u001b[43mImageReady\u001b[49m:\n\u001b[0;32m     33\u001b[0m     time\u001b[38;5;241m.\u001b[39msleep(\u001b[38;5;241m0.1\u001b[39m)\n\u001b[0;32m     34\u001b[0m time\u001b[38;5;241m.\u001b[39msleep(\u001b[38;5;241m0.1\u001b[39m)\n",
      "File \u001b[1;32mD:\\pyscope\\pyscope\\observatory\\maxim.py:388\u001b[0m, in \u001b[0;36m_MaximCamera.ImageReady\u001b[1;34m(self)\u001b[0m\n\u001b[0;32m    385\u001b[0m \u001b[38;5;129m@property\u001b[39m\n\u001b[0;32m    386\u001b[0m \u001b[38;5;28;01mdef\u001b[39;00m \u001b[38;5;21mImageReady\u001b[39m(\u001b[38;5;28mself\u001b[39m):\n\u001b[0;32m    387\u001b[0m     logger\u001b[38;5;241m.\u001b[39mdebug(\u001b[38;5;124m\"\u001b[39m\u001b[38;5;124m_MaximCameraImageReady called\u001b[39m\u001b[38;5;124m\"\u001b[39m)\n\u001b[1;32m--> 388\u001b[0m     \u001b[38;5;28;01mreturn\u001b[39;00m \u001b[38;5;28;43mself\u001b[39;49m\u001b[38;5;241;43m.\u001b[39;49m\u001b[43m_com_object\u001b[49m\u001b[38;5;241;43m.\u001b[39;49m\u001b[43mImageReady\u001b[49m\n",
      "File \u001b[1;32mc:\\Users\\MACRO\\miniforge3\\envs\\pyscope-dev\\Lib\\site-packages\\win32com\\client\\dynamic.py:627\u001b[0m, in \u001b[0;36mCDispatch.__getattr__\u001b[1;34m(self, attr)\u001b[0m\n\u001b[0;32m    623\u001b[0m debug_attr_print(\n\u001b[0;32m    624\u001b[0m     \u001b[38;5;124m\"\u001b[39m\u001b[38;5;124mGetting property Id 0x\u001b[39m\u001b[38;5;132;01m%x\u001b[39;00m\u001b[38;5;124m from OLE object\u001b[39m\u001b[38;5;124m\"\u001b[39m \u001b[38;5;241m%\u001b[39m retEntry\u001b[38;5;241m.\u001b[39mdispid\n\u001b[0;32m    625\u001b[0m )\n\u001b[0;32m    626\u001b[0m \u001b[38;5;28;01mtry\u001b[39;00m:\n\u001b[1;32m--> 627\u001b[0m     ret \u001b[38;5;241m=\u001b[39m \u001b[38;5;28;43mself\u001b[39;49m\u001b[38;5;241;43m.\u001b[39;49m\u001b[43m_oleobj_\u001b[49m\u001b[38;5;241;43m.\u001b[39;49m\u001b[43mInvoke\u001b[49m\u001b[43m(\u001b[49m\u001b[43mretEntry\u001b[49m\u001b[38;5;241;43m.\u001b[39;49m\u001b[43mdispid\u001b[49m\u001b[43m,\u001b[49m\u001b[43m \u001b[49m\u001b[38;5;241;43m0\u001b[39;49m\u001b[43m,\u001b[49m\u001b[43m \u001b[49m\u001b[43minvoke_type\u001b[49m\u001b[43m,\u001b[49m\u001b[43m \u001b[49m\u001b[38;5;241;43m1\u001b[39;49m\u001b[43m)\u001b[49m\n\u001b[0;32m    628\u001b[0m \u001b[38;5;28;01mexcept\u001b[39;00m pythoncom\u001b[38;5;241m.\u001b[39mcom_error \u001b[38;5;28;01mas\u001b[39;00m details:\n\u001b[0;32m    629\u001b[0m     \u001b[38;5;28;01mif\u001b[39;00m details\u001b[38;5;241m.\u001b[39mhresult \u001b[38;5;129;01min\u001b[39;00m ERRORS_BAD_CONTEXT:\n\u001b[0;32m    630\u001b[0m         \u001b[38;5;66;03m# May be a method.\u001b[39;00m\n",
      "\u001b[1;31mcom_error\u001b[0m: (-2147352567, 'Exception occurred.', (65535, 'MaxIm DL 6', 'Exposure Aborted', None, 0, 0), None)"
     ]
    }
   ],
   "source": [
    "filter_positions = {\n",
    "    \"LowRes\": 0,\n",
    "    \"HighRes\": 4,\n",
    "    \"g\": 2,\n",
    "    \"r\": 3,\n",
    "    \"i\": 5,\n",
    "    \"ha\": 10,\n",
    "    \"oiii\": 7,\n",
    "    \"sii\": 9,\n",
    "}\n",
    "\n",
    "num_images = 200\n",
    "\n",
    "# # Start autofocus\n",
    "# rlmt.focuser.Autofocus()\n",
    "\n",
    "for i in range(num_images):\n",
    "    filter_name = \"r\"\n",
    "    rlmt.filter_wheel.Position = filter_positions[filter_name]\n",
    "    exp_time = 30 # in seconds\n",
    "    capture_grism_image(filter_name, object_name, exp_time=exp_time, filename_prefix=\"tricolor\")\n",
    "\n",
    "    filter_name = \"g\"\n",
    "    rlmt.filter_wheel.Position = filter_positions[filter_name]\n",
    "    exp_time = 30 # in seconds\n",
    "    capture_grism_image(filter_name, object_name, exp_time=exp_time, filename_prefix=\"tricolor\")\n",
    "\n",
    "    filter_name = \"i\"\n",
    "    rlmt.filter_wheel.Position = filter_positions[filter_name]\n",
    "    exp_time = 30 # in seconds\n",
    "    capture_grism_image(filter_name, object_name, exp_time=exp_time, filename_prefix=\"tricolor\")\n",
    "\n",
    "    if i % 2 == 0:\n",
    "        filter_name = \"ha\"\n",
    "        rlmt.filter_wheel.Position = filter_positions[filter_name]\n",
    "        exp_time = 120\n",
    "        capture_grism_image(filter_name, object_name, exp_time=exp_time, filename_prefix=\"tricolor\")\n"
   ]
  },
  {
   "cell_type": "markdown",
   "metadata": {},
   "source": [
    "# Setup for Focus position movement"
   ]
  },
  {
   "cell_type": "markdown",
   "metadata": {},
   "source": [
    "### Change values in cell below"
   ]
  },
  {
   "cell_type": "code",
   "execution_count": 5,
   "metadata": {},
   "outputs": [
    {
     "name": "stderr",
     "output_type": "stream",
     "text": [
      "DEBUG:pyscope.observatory.observatory:Observatory.filter_wheel property called\n",
      "DEBUG:pyscope.observatory.maxim:Position setter called with value=4\n",
      "DEBUG:pyscope.observatory.observatory:Observatory.filter_wheel property called\n",
      "DEBUG:pyscope.observatory.maxim:_MaximFilterWheelPosition called\n"
     ]
    },
    {
     "name": "stdout",
     "output_type": "stream",
     "text": [
      "Focus positions are [3000], there are 1 positions\n",
      "Filter wheel is at (or moving to) position 4\n"
     ]
    }
   ],
   "source": [
    "# Image save directory\n",
    "save_dir = \"focus_images_weather_test\"\n",
    "# Make the save directory if it doesn't exist\n",
    "pathlib.Path(save_dir).mkdir(parents=True, exist_ok=True)\n",
    "\n",
    "# Set up focuser position list\n",
    "# Start at min, end at max, step by focus_step\n",
    "min_focus = 3000\n",
    "max_focus = 3250\n",
    "focus_step = 250\n",
    "\n",
    "# Filter positions DO NOT CHANGE\n",
    "filter_positions = {\n",
    "    \"LowRes\": 0,\n",
    "    \"HighRes\": 4,\n",
    "    \"g\": 2,\n",
    "}\n",
    "\n",
    "# Camera and filter wheel settings (use filter names from above)\n",
    "num_images = 1 # Images at each focus position\n",
    "exp_time = 0.1\n",
    "filter_name = \"HighRes\" # This is the filter that will be used\n",
    "\n",
    "# Move filter wheel to position\n",
    "rlmt.filter_wheel.Position = filter_positions[filter_name]\n",
    "\n",
    "# Print for verification\n",
    "focus_positions = np.arange(min_focus, max_focus, focus_step)\n",
    "print(f\"Focus positions are {focus_positions}, there are {len(focus_positions)} positions\")\n",
    "print(f\"Filter wheel is at (or moving to) position {rlmt.filter_wheel.Position}\")"
   ]
  },
  {
   "cell_type": "code",
   "execution_count": 4,
   "metadata": {},
   "outputs": [],
   "source": [
    "def capture_focus_image(focus_position, filter_name, exp_time=5, filename_prefix=\"focus\", binning=1):\n",
    "    # # Set binning\n",
    "    rlmt.camera.BinX = binning\n",
    "    rlmt.camera.BinY = binning\n",
    "\n",
    "    # # Start exposure\n",
    "    print(f\"Starting {int(exp_time)}s exposure...\")\n",
    "    rlmt.camera.StartExposure(int(exp_time), True)\n",
    "    \n",
    "    # Set up image base filename\n",
    "    exp_time_str = str(exp_time).replace(\".\", \"p\")\n",
    "    filename_base = f\"{filename_prefix}_{focus_position}_{exp_time_str}s_{filter_name}\"\n",
    "    # Check if file exists in save_dir\n",
    "    i = 0\n",
    "    filename = pathlib.Path(save_dir) / f\"{filename_base}_{i}.fts\"\n",
    "    # print(f\"Checking if {filename} exists...\")\n",
    "    # print(f\"filename.exists() is {filename.exists()}\")\n",
    "    while filename.exists():\n",
    "        # If file exists, add a number to the end of the filename\n",
    "        i += 1\n",
    "        # print(f\"{filename} does exist\")\n",
    "        filename = pathlib.Path(save_dir) / f\"{filename_base}_{i}.fts\"\n",
    "        # print(f\"Checking if {filename} exists...\")\n",
    "\n",
    "    # Save latest image\n",
    "    while not rlmt.camera.ImageReady:\n",
    "        time.sleep(0.1)\n",
    "    time.sleep(0.1)\n",
    "    rlmt.save_last_image(filename, \"Light\", overwrite=True)\n",
    "\n",
    "    return filename"
   ]
  },
  {
   "cell_type": "code",
   "execution_count": 7,
   "metadata": {},
   "outputs": [],
   "source": [
    "# Focus at each position\n",
    "focus_move_time = 15\n",
    "img_download_time = 6\n",
    "focus_image_time = exp_time + img_download_time\n",
    "\n",
    "# Estimate total time required\n",
    "total_time = (\n",
    "    focus_move_time * len(focus_positions)\n",
    ") + focus_image_time * num_images * len(focus_positions)\n",
    "print(f\"Estimated total time required is {total_time/60} minutes\")\n",
    "\n",
    "time_per_cycle = []\n",
    "\n",
    "for focus_position in focus_positions:\n",
    "    if time_per_cycle:\n",
    "        print(f\"Average time per cycle is {np.mean(time_per_cycle):.2f} seconds\")\n",
    "        est_time_remaining = np.mean(time_per_cycle) * (\n",
    "            len(focus_positions) - np.where(focus_positions == focus_position)[0][0]\n",
    "        )\n",
    "        # Print time remaining in minutes and seconds\n",
    "        print(\n",
    "            f\"Estimated time remaining is {est_time_remaining//60:.0f} min {est_time_remaining%60:.0f} sec\"\n",
    "        )\n",
    "    start_time = time.time()\n",
    "    print(f\"Moving to focus position {focus_position}\")\n",
    "\n",
    "    print(\n",
    "        f\"This is position {np.where(focus_positions == focus_position)[0][0]+1} of {len(focus_positions)}\"\n",
    "    )\n",
    "    rlmt.focuser.Move(focus_position)\n",
    "    while rlmt.focuser.IsMoving:\n",
    "        #print(f\"Focuser is moving to {focus_positions[0]}\")\n",
    "        time.sleep(0.1)\n",
    "    #current_focus = int(rlmt.focuser.Position)\n",
    "    current_focus = focus_position\n",
    "    print(f\"Focus position is {current_focus}\")\n",
    "    print(\"========================================\")\n",
    "\n",
    "    current_exp_time = exp_time\n",
    "    print(f\"current_exp_time={current_exp_time}\")\n",
    "\n",
    "    for i in range(num_images):\n",
    "        img_file = capture_focus_image(current_focus, filter_name, exp_time=current_exp_time, filename_prefix=\"focus\", binning=1)\n",
    "        print(f\"Saved image {i} at focus position {current_focus}\")\n",
    "\n",
    "    end_time = time.time()\n",
    "    time_per_cycle.append(end_time - start_time)\n",
    "\n",
    "    # Clear cell output for next loop\n",
    "    clear_output()"
   ]
  },
  {
   "cell_type": "code",
   "execution_count": null,
   "metadata": {},
   "outputs": [],
   "source": []
  }
 ],
 "metadata": {
  "kernelspec": {
   "display_name": "pyscope-dev",
   "language": "python",
   "name": "python3"
  },
  "language_info": {
   "codemirror_mode": {
    "name": "ipython",
    "version": 3
   },
   "file_extension": ".py",
   "mimetype": "text/x-python",
   "name": "python",
   "nbconvert_exporter": "python",
   "pygments_lexer": "ipython3",
   "version": "3.12.2"
  }
 },
 "nbformat": 4,
 "nbformat_minor": 2
}
